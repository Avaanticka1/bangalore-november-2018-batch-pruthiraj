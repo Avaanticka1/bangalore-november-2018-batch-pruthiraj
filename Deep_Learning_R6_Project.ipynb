{
 "cells": [
  {
   "cell_type": "code",
   "execution_count": 1,
   "metadata": {},
   "outputs": [],
   "source": [
    "import tensorflow as tf\n",
    "tf.set_random_seed(42)"
   ]
  },
  {
   "cell_type": "code",
   "execution_count": 2,
   "metadata": {},
   "outputs": [],
   "source": [
    "import numpy as np\n",
    "import pandas as pd\n",
    "from sklearn import metrics\n",
    "from sklearn import preprocessing"
   ]
  },
  {
   "cell_type": "code",
   "execution_count": 3,
   "metadata": {},
   "outputs": [
    {
     "name": "stderr",
     "output_type": "stream",
     "text": [
      "Using TensorFlow backend.\n"
     ]
    }
   ],
   "source": [
    "import keras"
   ]
  },
  {
   "cell_type": "markdown",
   "metadata": {},
   "source": [
    "### 1. Read the dataset"
   ]
  },
  {
   "cell_type": "code",
   "execution_count": 4,
   "metadata": {},
   "outputs": [],
   "source": [
    "bank_df = pd.read_csv(\"bank.csv\")"
   ]
  },
  {
   "cell_type": "code",
   "execution_count": 5,
   "metadata": {},
   "outputs": [
    {
     "data": {
      "text/html": [
       "<div>\n",
       "<style scoped>\n",
       "    .dataframe tbody tr th:only-of-type {\n",
       "        vertical-align: middle;\n",
       "    }\n",
       "\n",
       "    .dataframe tbody tr th {\n",
       "        vertical-align: top;\n",
       "    }\n",
       "\n",
       "    .dataframe thead th {\n",
       "        text-align: right;\n",
       "    }\n",
       "</style>\n",
       "<table border=\"1\" class=\"dataframe\">\n",
       "  <thead>\n",
       "    <tr style=\"text-align: right;\">\n",
       "      <th></th>\n",
       "      <th>RowNumber</th>\n",
       "      <th>CustomerId</th>\n",
       "      <th>Surname</th>\n",
       "      <th>CreditScore</th>\n",
       "      <th>Geography</th>\n",
       "      <th>Gender</th>\n",
       "      <th>Age</th>\n",
       "      <th>Tenure</th>\n",
       "      <th>Balance</th>\n",
       "      <th>NumOfProducts</th>\n",
       "      <th>HasCrCard</th>\n",
       "      <th>IsActiveMember</th>\n",
       "      <th>EstimatedSalary</th>\n",
       "      <th>Exited</th>\n",
       "    </tr>\n",
       "  </thead>\n",
       "  <tbody>\n",
       "    <tr>\n",
       "      <th>0</th>\n",
       "      <td>1</td>\n",
       "      <td>15634602</td>\n",
       "      <td>Hargrave</td>\n",
       "      <td>619</td>\n",
       "      <td>France</td>\n",
       "      <td>Female</td>\n",
       "      <td>42</td>\n",
       "      <td>2</td>\n",
       "      <td>0.00</td>\n",
       "      <td>1</td>\n",
       "      <td>1</td>\n",
       "      <td>1</td>\n",
       "      <td>101348.88</td>\n",
       "      <td>1</td>\n",
       "    </tr>\n",
       "    <tr>\n",
       "      <th>1</th>\n",
       "      <td>2</td>\n",
       "      <td>15647311</td>\n",
       "      <td>Hill</td>\n",
       "      <td>608</td>\n",
       "      <td>Spain</td>\n",
       "      <td>Female</td>\n",
       "      <td>41</td>\n",
       "      <td>1</td>\n",
       "      <td>83807.86</td>\n",
       "      <td>1</td>\n",
       "      <td>0</td>\n",
       "      <td>1</td>\n",
       "      <td>112542.58</td>\n",
       "      <td>0</td>\n",
       "    </tr>\n",
       "    <tr>\n",
       "      <th>2</th>\n",
       "      <td>3</td>\n",
       "      <td>15619304</td>\n",
       "      <td>Onio</td>\n",
       "      <td>502</td>\n",
       "      <td>France</td>\n",
       "      <td>Female</td>\n",
       "      <td>42</td>\n",
       "      <td>8</td>\n",
       "      <td>159660.80</td>\n",
       "      <td>3</td>\n",
       "      <td>1</td>\n",
       "      <td>0</td>\n",
       "      <td>113931.57</td>\n",
       "      <td>1</td>\n",
       "    </tr>\n",
       "    <tr>\n",
       "      <th>3</th>\n",
       "      <td>4</td>\n",
       "      <td>15701354</td>\n",
       "      <td>Boni</td>\n",
       "      <td>699</td>\n",
       "      <td>France</td>\n",
       "      <td>Female</td>\n",
       "      <td>39</td>\n",
       "      <td>1</td>\n",
       "      <td>0.00</td>\n",
       "      <td>2</td>\n",
       "      <td>0</td>\n",
       "      <td>0</td>\n",
       "      <td>93826.63</td>\n",
       "      <td>0</td>\n",
       "    </tr>\n",
       "    <tr>\n",
       "      <th>4</th>\n",
       "      <td>5</td>\n",
       "      <td>15737888</td>\n",
       "      <td>Mitchell</td>\n",
       "      <td>850</td>\n",
       "      <td>Spain</td>\n",
       "      <td>Female</td>\n",
       "      <td>43</td>\n",
       "      <td>2</td>\n",
       "      <td>125510.82</td>\n",
       "      <td>1</td>\n",
       "      <td>1</td>\n",
       "      <td>1</td>\n",
       "      <td>79084.10</td>\n",
       "      <td>0</td>\n",
       "    </tr>\n",
       "  </tbody>\n",
       "</table>\n",
       "</div>"
      ],
      "text/plain": [
       "   RowNumber  CustomerId   Surname  CreditScore Geography  Gender  Age  \\\n",
       "0          1    15634602  Hargrave          619    France  Female   42   \n",
       "1          2    15647311      Hill          608     Spain  Female   41   \n",
       "2          3    15619304      Onio          502    France  Female   42   \n",
       "3          4    15701354      Boni          699    France  Female   39   \n",
       "4          5    15737888  Mitchell          850     Spain  Female   43   \n",
       "\n",
       "   Tenure    Balance  NumOfProducts  HasCrCard  IsActiveMember  \\\n",
       "0       2       0.00              1          1               1   \n",
       "1       1   83807.86              1          0               1   \n",
       "2       8  159660.80              3          1               0   \n",
       "3       1       0.00              2          0               0   \n",
       "4       2  125510.82              1          1               1   \n",
       "\n",
       "   EstimatedSalary  Exited  \n",
       "0        101348.88       1  \n",
       "1        112542.58       0  \n",
       "2        113931.57       1  \n",
       "3         93826.63       0  \n",
       "4         79084.10       0  "
      ]
     },
     "execution_count": 5,
     "metadata": {},
     "output_type": "execute_result"
    }
   ],
   "source": [
    "bank_df.head()"
   ]
  },
  {
   "cell_type": "code",
   "execution_count": 6,
   "metadata": {},
   "outputs": [
    {
     "name": "stdout",
     "output_type": "stream",
     "text": [
      "<class 'pandas.core.frame.DataFrame'>\n",
      "RangeIndex: 10000 entries, 0 to 9999\n",
      "Data columns (total 14 columns):\n",
      "RowNumber          10000 non-null int64\n",
      "CustomerId         10000 non-null int64\n",
      "Surname            10000 non-null object\n",
      "CreditScore        10000 non-null int64\n",
      "Geography          10000 non-null object\n",
      "Gender             10000 non-null object\n",
      "Age                10000 non-null int64\n",
      "Tenure             10000 non-null int64\n",
      "Balance            10000 non-null float64\n",
      "NumOfProducts      10000 non-null int64\n",
      "HasCrCard          10000 non-null int64\n",
      "IsActiveMember     10000 non-null int64\n",
      "EstimatedSalary    10000 non-null float64\n",
      "Exited             10000 non-null int64\n",
      "dtypes: float64(2), int64(9), object(3)\n",
      "memory usage: 1.1+ MB\n"
     ]
    }
   ],
   "source": [
    "bank_df.info()"
   ]
  },
  {
   "cell_type": "markdown",
   "metadata": {},
   "source": [
    "Contains 10000 entries and have Surname, Geography and Gender as object column"
   ]
  },
  {
   "cell_type": "markdown",
   "metadata": {},
   "source": [
    "### 2. Drop the columns which are unique for all users like IDs (2.5 points)"
   ]
  },
  {
   "cell_type": "code",
   "execution_count": 9,
   "metadata": {},
   "outputs": [],
   "source": [
    "bank_df.drop(['RowNumber','CustomerId','Surname',],axis=1,inplace=True)"
   ]
  },
  {
   "cell_type": "code",
   "execution_count": 10,
   "metadata": {},
   "outputs": [
    {
     "name": "stdout",
     "output_type": "stream",
     "text": [
      "<class 'pandas.core.frame.DataFrame'>\n",
      "RangeIndex: 10000 entries, 0 to 9999\n",
      "Data columns (total 11 columns):\n",
      "CreditScore        10000 non-null int64\n",
      "Geography          10000 non-null object\n",
      "Gender             10000 non-null object\n",
      "Age                10000 non-null int64\n",
      "Tenure             10000 non-null int64\n",
      "Balance            10000 non-null float64\n",
      "NumOfProducts      10000 non-null int64\n",
      "HasCrCard          10000 non-null int64\n",
      "IsActiveMember     10000 non-null int64\n",
      "EstimatedSalary    10000 non-null float64\n",
      "Exited             10000 non-null int64\n",
      "dtypes: float64(2), int64(7), object(2)\n",
      "memory usage: 859.5+ KB\n"
     ]
    }
   ],
   "source": [
    "bank_df.info()"
   ]
  },
  {
   "cell_type": "code",
   "execution_count": 11,
   "metadata": {},
   "outputs": [
    {
     "data": {
      "text/html": [
       "<div>\n",
       "<style scoped>\n",
       "    .dataframe tbody tr th:only-of-type {\n",
       "        vertical-align: middle;\n",
       "    }\n",
       "\n",
       "    .dataframe tbody tr th {\n",
       "        vertical-align: top;\n",
       "    }\n",
       "\n",
       "    .dataframe thead th {\n",
       "        text-align: right;\n",
       "    }\n",
       "</style>\n",
       "<table border=\"1\" class=\"dataframe\">\n",
       "  <thead>\n",
       "    <tr style=\"text-align: right;\">\n",
       "      <th></th>\n",
       "      <th>CreditScore</th>\n",
       "      <th>Geography</th>\n",
       "      <th>Gender</th>\n",
       "      <th>Age</th>\n",
       "      <th>Tenure</th>\n",
       "      <th>Balance</th>\n",
       "      <th>NumOfProducts</th>\n",
       "      <th>HasCrCard</th>\n",
       "      <th>IsActiveMember</th>\n",
       "      <th>EstimatedSalary</th>\n",
       "      <th>Exited</th>\n",
       "    </tr>\n",
       "  </thead>\n",
       "  <tbody>\n",
       "    <tr>\n",
       "      <th>0</th>\n",
       "      <td>619</td>\n",
       "      <td>France</td>\n",
       "      <td>Female</td>\n",
       "      <td>42</td>\n",
       "      <td>2</td>\n",
       "      <td>0.00</td>\n",
       "      <td>1</td>\n",
       "      <td>1</td>\n",
       "      <td>1</td>\n",
       "      <td>101348.88</td>\n",
       "      <td>1</td>\n",
       "    </tr>\n",
       "    <tr>\n",
       "      <th>1</th>\n",
       "      <td>608</td>\n",
       "      <td>Spain</td>\n",
       "      <td>Female</td>\n",
       "      <td>41</td>\n",
       "      <td>1</td>\n",
       "      <td>83807.86</td>\n",
       "      <td>1</td>\n",
       "      <td>0</td>\n",
       "      <td>1</td>\n",
       "      <td>112542.58</td>\n",
       "      <td>0</td>\n",
       "    </tr>\n",
       "    <tr>\n",
       "      <th>2</th>\n",
       "      <td>502</td>\n",
       "      <td>France</td>\n",
       "      <td>Female</td>\n",
       "      <td>42</td>\n",
       "      <td>8</td>\n",
       "      <td>159660.80</td>\n",
       "      <td>3</td>\n",
       "      <td>1</td>\n",
       "      <td>0</td>\n",
       "      <td>113931.57</td>\n",
       "      <td>1</td>\n",
       "    </tr>\n",
       "    <tr>\n",
       "      <th>3</th>\n",
       "      <td>699</td>\n",
       "      <td>France</td>\n",
       "      <td>Female</td>\n",
       "      <td>39</td>\n",
       "      <td>1</td>\n",
       "      <td>0.00</td>\n",
       "      <td>2</td>\n",
       "      <td>0</td>\n",
       "      <td>0</td>\n",
       "      <td>93826.63</td>\n",
       "      <td>0</td>\n",
       "    </tr>\n",
       "    <tr>\n",
       "      <th>4</th>\n",
       "      <td>850</td>\n",
       "      <td>Spain</td>\n",
       "      <td>Female</td>\n",
       "      <td>43</td>\n",
       "      <td>2</td>\n",
       "      <td>125510.82</td>\n",
       "      <td>1</td>\n",
       "      <td>1</td>\n",
       "      <td>1</td>\n",
       "      <td>79084.10</td>\n",
       "      <td>0</td>\n",
       "    </tr>\n",
       "  </tbody>\n",
       "</table>\n",
       "</div>"
      ],
      "text/plain": [
       "   CreditScore Geography  Gender  Age  Tenure    Balance  NumOfProducts  \\\n",
       "0          619    France  Female   42       2       0.00              1   \n",
       "1          608     Spain  Female   41       1   83807.86              1   \n",
       "2          502    France  Female   42       8  159660.80              3   \n",
       "3          699    France  Female   39       1       0.00              2   \n",
       "4          850     Spain  Female   43       2  125510.82              1   \n",
       "\n",
       "   HasCrCard  IsActiveMember  EstimatedSalary  Exited  \n",
       "0          1               1        101348.88       1  \n",
       "1          0               1        112542.58       0  \n",
       "2          1               0        113931.57       1  \n",
       "3          0               0         93826.63       0  \n",
       "4          1               1         79084.10       0  "
      ]
     },
     "execution_count": 11,
     "metadata": {},
     "output_type": "execute_result"
    }
   ],
   "source": [
    "bank_df.head()"
   ]
  },
  {
   "cell_type": "markdown",
   "metadata": {},
   "source": [
    "### 3. Distinguish the feature and target set (2.5 points)"
   ]
  },
  {
   "cell_type": "code",
   "execution_count": 13,
   "metadata": {},
   "outputs": [],
   "source": [
    "X = bank_df.iloc[:,0:10].values"
   ]
  },
  {
   "cell_type": "code",
   "execution_count": 15,
   "metadata": {},
   "outputs": [],
   "source": [
    "Y = bank_df.iloc[:,-1].values"
   ]
  },
  {
   "cell_type": "markdown",
   "metadata": {},
   "source": [
    "### 4.  Divide the data set into Train and test sets"
   ]
  },
  {
   "cell_type": "code",
   "execution_count": 19,
   "metadata": {},
   "outputs": [],
   "source": [
    "from sklearn.preprocessing import LabelEncoder,OneHotEncoder"
   ]
  },
  {
   "cell_type": "code",
   "execution_count": 21,
   "metadata": {},
   "outputs": [],
   "source": [
    "X_Encoder = LabelEncoder()"
   ]
  },
  {
   "cell_type": "code",
   "execution_count": 23,
   "metadata": {},
   "outputs": [],
   "source": [
    "X[:,1] = X_Encoder.fit_transform(X[:,1])"
   ]
  },
  {
   "cell_type": "code",
   "execution_count": 25,
   "metadata": {},
   "outputs": [],
   "source": [
    "X_Encoder1 = LabelEncoder()"
   ]
  },
  {
   "cell_type": "code",
   "execution_count": 26,
   "metadata": {},
   "outputs": [],
   "source": [
    "X[:,2] = X_Encoder1.fit_transform(X[:,2])"
   ]
  },
  {
   "cell_type": "code",
   "execution_count": 28,
   "metadata": {},
   "outputs": [],
   "source": [
    "oneHotEncoder = OneHotEncoder(categorical_features = [1])"
   ]
  },
  {
   "cell_type": "code",
   "execution_count": 29,
   "metadata": {},
   "outputs": [],
   "source": [
    "X = oneHotEncoder.fit_transform(X).toarray()"
   ]
  },
  {
   "cell_type": "code",
   "execution_count": 33,
   "metadata": {},
   "outputs": [],
   "source": [
    "X = X[:,1:]"
   ]
  },
  {
   "cell_type": "code",
   "execution_count": 42,
   "metadata": {},
   "outputs": [],
   "source": [
    "from sklearn.model_selection import train_test_split"
   ]
  },
  {
   "cell_type": "code",
   "execution_count": 43,
   "metadata": {},
   "outputs": [],
   "source": [
    "X_train, X_test, y_train, y_test = train_test_split(X, Y, test_size=0.2, random_state=7)"
   ]
  },
  {
   "cell_type": "markdown",
   "metadata": {},
   "source": [
    "### 5. Normalize the train and test data (2.5 points)"
   ]
  },
  {
   "cell_type": "code",
   "execution_count": 44,
   "metadata": {},
   "outputs": [],
   "source": [
    "from sklearn.preprocessing import StandardScaler"
   ]
  },
  {
   "cell_type": "code",
   "execution_count": 45,
   "metadata": {},
   "outputs": [],
   "source": [
    "scaler = StandardScaler()"
   ]
  },
  {
   "cell_type": "code",
   "execution_count": 46,
   "metadata": {},
   "outputs": [],
   "source": [
    "X_train_Scale = scaler.fit_transform(X_train)"
   ]
  },
  {
   "cell_type": "code",
   "execution_count": 54,
   "metadata": {},
   "outputs": [],
   "source": [
    "X_test_Scale = scaler.transform(X_test)"
   ]
  },
  {
   "cell_type": "markdown",
   "metadata": {},
   "source": [
    "### 6.  Initialize & build the model (10 points)"
   ]
  },
  {
   "cell_type": "code",
   "execution_count": 58,
   "metadata": {},
   "outputs": [],
   "source": [
    "from keras.models import Sequential\n",
    "from keras.layers import Dense"
   ]
  },
  {
   "cell_type": "code",
   "execution_count": 59,
   "metadata": {},
   "outputs": [
    {
     "data": {
      "text/plain": [
       "(8000, 10)"
      ]
     },
     "execution_count": 59,
     "metadata": {},
     "output_type": "execute_result"
    }
   ],
   "source": [
    "X_train_Scale.shape"
   ]
  },
  {
   "cell_type": "code",
   "execution_count": 60,
   "metadata": {},
   "outputs": [
    {
     "data": {
      "text/plain": [
       "(2000, 10)"
      ]
     },
     "execution_count": 60,
     "metadata": {},
     "output_type": "execute_result"
    }
   ],
   "source": [
    "X_test_Scale.shape"
   ]
  },
  {
   "cell_type": "code",
   "execution_count": 61,
   "metadata": {},
   "outputs": [
    {
     "name": "stdout",
     "output_type": "stream",
     "text": [
      "WARNING:tensorflow:From C:\\ProgramData\\Anaconda3\\lib\\site-packages\\tensorflow\\python\\framework\\op_def_library.py:263: colocate_with (from tensorflow.python.framework.ops) is deprecated and will be removed in a future version.\n",
      "Instructions for updating:\n",
      "Colocations handled automatically by placer.\n"
     ]
    }
   ],
   "source": [
    "# create model\n",
    "model = Sequential()\n",
    "model.add(Dense(6, input_dim=10, activation='relu'))\n",
    "model.add(Dense(6, activation='relu'))\n",
    "model.add(Dense(1, activation='sigmoid'))\n",
    "# Compile model\n",
    "model.compile(loss='binary_crossentropy', optimizer='adam', metrics=['accuracy'])"
   ]
  },
  {
   "cell_type": "code",
   "execution_count": 65,
   "metadata": {},
   "outputs": [
    {
     "name": "stdout",
     "output_type": "stream",
     "text": [
      "Train on 8000 samples, validate on 2000 samples\n",
      "Epoch 1/50\n",
      "8000/8000 [==============================] - 0s 1us/step - loss: 0.5178 - acc: 0.7836 - val_loss: 0.5141 - val_acc: 0.7780\n",
      "Epoch 2/50\n",
      "8000/8000 [==============================] - 0s 1us/step - loss: 0.5169 - acc: 0.7841 - val_loss: 0.5132 - val_acc: 0.7790\n",
      "Epoch 3/50\n",
      "8000/8000 [==============================] - 0s 1us/step - loss: 0.5159 - acc: 0.7851 - val_loss: 0.5124 - val_acc: 0.7805\n",
      "Epoch 4/50\n",
      "8000/8000 [==============================] - 0s 1us/step - loss: 0.5151 - acc: 0.7860 - val_loss: 0.5116 - val_acc: 0.7805\n",
      "Epoch 5/50\n",
      "8000/8000 [==============================] - 0s 1us/step - loss: 0.5142 - acc: 0.7861 - val_loss: 0.5107 - val_acc: 0.7815\n",
      "Epoch 6/50\n",
      "8000/8000 [==============================] - 0s 1us/step - loss: 0.5133 - acc: 0.7868 - val_loss: 0.5100 - val_acc: 0.7815\n",
      "Epoch 7/50\n",
      "8000/8000 [==============================] - 0s 1us/step - loss: 0.5124 - acc: 0.7872 - val_loss: 0.5092 - val_acc: 0.7815\n",
      "Epoch 8/50\n",
      "8000/8000 [==============================] - 0s 1us/step - loss: 0.5116 - acc: 0.7874 - val_loss: 0.5084 - val_acc: 0.7820\n",
      "Epoch 9/50\n",
      "8000/8000 [==============================] - 0s 1us/step - loss: 0.5108 - acc: 0.7878 - val_loss: 0.5076 - val_acc: 0.7825\n",
      "Epoch 10/50\n",
      "8000/8000 [==============================] - 0s 1us/step - loss: 0.5100 - acc: 0.7880 - val_loss: 0.5069 - val_acc: 0.7850\n",
      "Epoch 11/50\n",
      "8000/8000 [==============================] - 0s 1us/step - loss: 0.5092 - acc: 0.7881 - val_loss: 0.5062 - val_acc: 0.7855\n",
      "Epoch 12/50\n",
      "8000/8000 [==============================] - 0s 1us/step - loss: 0.5084 - acc: 0.7883 - val_loss: 0.5055 - val_acc: 0.7855\n",
      "Epoch 13/50\n",
      "8000/8000 [==============================] - 0s 1us/step - loss: 0.5077 - acc: 0.7883 - val_loss: 0.5048 - val_acc: 0.7855\n",
      "Epoch 14/50\n",
      "8000/8000 [==============================] - 0s 1us/step - loss: 0.5069 - acc: 0.7891 - val_loss: 0.5041 - val_acc: 0.7860\n",
      "Epoch 15/50\n",
      "8000/8000 [==============================] - 0s 1us/step - loss: 0.5062 - acc: 0.7891 - val_loss: 0.5034 - val_acc: 0.7860\n",
      "Epoch 16/50\n",
      "8000/8000 [==============================] - 0s 1us/step - loss: 0.5055 - acc: 0.7894 - val_loss: 0.5027 - val_acc: 0.7870\n",
      "Epoch 17/50\n",
      "8000/8000 [==============================] - 0s 1us/step - loss: 0.5048 - acc: 0.7899 - val_loss: 0.5021 - val_acc: 0.7870\n",
      "Epoch 18/50\n",
      "8000/8000 [==============================] - 0s 1us/step - loss: 0.5041 - acc: 0.7903 - val_loss: 0.5015 - val_acc: 0.7870\n",
      "Epoch 19/50\n",
      "8000/8000 [==============================] - 0s 1us/step - loss: 0.5034 - acc: 0.7905 - val_loss: 0.5008 - val_acc: 0.7875\n",
      "Epoch 20/50\n",
      "8000/8000 [==============================] - 0s 1us/step - loss: 0.5027 - acc: 0.7906 - val_loss: 0.5002 - val_acc: 0.7890\n",
      "Epoch 21/50\n",
      "8000/8000 [==============================] - 0s 2us/step - loss: 0.5021 - acc: 0.7908 - val_loss: 0.4996 - val_acc: 0.7895\n",
      "Epoch 22/50\n",
      "8000/8000 [==============================] - 0s 1us/step - loss: 0.5014 - acc: 0.7914 - val_loss: 0.4990 - val_acc: 0.7890\n",
      "Epoch 23/50\n",
      "8000/8000 [==============================] - 0s 1us/step - loss: 0.5008 - acc: 0.7919 - val_loss: 0.4984 - val_acc: 0.7890\n",
      "Epoch 24/50\n",
      "8000/8000 [==============================] - 0s 1us/step - loss: 0.5002 - acc: 0.7922 - val_loss: 0.4979 - val_acc: 0.7900\n",
      "Epoch 25/50\n",
      "8000/8000 [==============================] - 0s 1us/step - loss: 0.4996 - acc: 0.7926 - val_loss: 0.4973 - val_acc: 0.7910\n",
      "Epoch 26/50\n",
      "8000/8000 [==============================] - 0s 1us/step - loss: 0.4990 - acc: 0.7928 - val_loss: 0.4967 - val_acc: 0.7910\n",
      "Epoch 27/50\n",
      "8000/8000 [==============================] - 0s 2us/step - loss: 0.4984 - acc: 0.7933 - val_loss: 0.4962 - val_acc: 0.7915\n",
      "Epoch 28/50\n",
      "8000/8000 [==============================] - 0s 1us/step - loss: 0.4978 - acc: 0.7935 - val_loss: 0.4956 - val_acc: 0.7915\n",
      "Epoch 29/50\n",
      "8000/8000 [==============================] - 0s 2us/step - loss: 0.4972 - acc: 0.7941 - val_loss: 0.4951 - val_acc: 0.7915\n",
      "Epoch 30/50\n",
      "8000/8000 [==============================] - 0s 1us/step - loss: 0.4967 - acc: 0.7944 - val_loss: 0.4946 - val_acc: 0.7915\n",
      "Epoch 31/50\n",
      "8000/8000 [==============================] - 0s 1us/step - loss: 0.4961 - acc: 0.7949 - val_loss: 0.4941 - val_acc: 0.7925\n",
      "Epoch 32/50\n",
      "8000/8000 [==============================] - 0s 2us/step - loss: 0.4956 - acc: 0.7950 - val_loss: 0.4936 - val_acc: 0.7925\n",
      "Epoch 33/50\n",
      "8000/8000 [==============================] - 0s 1us/step - loss: 0.4950 - acc: 0.7952 - val_loss: 0.4931 - val_acc: 0.7930\n",
      "Epoch 34/50\n",
      "8000/8000 [==============================] - 0s 1us/step - loss: 0.4945 - acc: 0.7954 - val_loss: 0.4926 - val_acc: 0.7930\n",
      "Epoch 35/50\n",
      "8000/8000 [==============================] - 0s 1us/step - loss: 0.4940 - acc: 0.7955 - val_loss: 0.4921 - val_acc: 0.7930\n",
      "Epoch 36/50\n",
      "8000/8000 [==============================] - 0s 1us/step - loss: 0.4935 - acc: 0.7956 - val_loss: 0.4917 - val_acc: 0.7930\n",
      "Epoch 37/50\n",
      "8000/8000 [==============================] - 0s 1us/step - loss: 0.4930 - acc: 0.7958 - val_loss: 0.4912 - val_acc: 0.7930\n",
      "Epoch 38/50\n",
      "8000/8000 [==============================] - 0s 1us/step - loss: 0.4925 - acc: 0.7958 - val_loss: 0.4908 - val_acc: 0.7930\n",
      "Epoch 39/50\n",
      "8000/8000 [==============================] - 0s 1us/step - loss: 0.4920 - acc: 0.7958 - val_loss: 0.4903 - val_acc: 0.7930\n",
      "Epoch 40/50\n",
      "8000/8000 [==============================] - 0s 1us/step - loss: 0.4915 - acc: 0.7959 - val_loss: 0.4899 - val_acc: 0.7935\n",
      "Epoch 41/50\n",
      "8000/8000 [==============================] - 0s 1us/step - loss: 0.4910 - acc: 0.7959 - val_loss: 0.4894 - val_acc: 0.7940\n",
      "Epoch 42/50\n",
      "8000/8000 [==============================] - 0s 1us/step - loss: 0.4906 - acc: 0.7959 - val_loss: 0.4890 - val_acc: 0.7945\n",
      "Epoch 43/50\n",
      "8000/8000 [==============================] - 0s 1us/step - loss: 0.4901 - acc: 0.7959 - val_loss: 0.4886 - val_acc: 0.7945\n",
      "Epoch 44/50\n",
      "8000/8000 [==============================] - 0s 1us/step - loss: 0.4897 - acc: 0.7959 - val_loss: 0.4882 - val_acc: 0.7950\n",
      "Epoch 45/50\n",
      "8000/8000 [==============================] - 0s 1us/step - loss: 0.4892 - acc: 0.7959 - val_loss: 0.4878 - val_acc: 0.7945\n",
      "Epoch 46/50\n",
      "8000/8000 [==============================] - 0s 1us/step - loss: 0.4888 - acc: 0.7960 - val_loss: 0.4874 - val_acc: 0.7945\n",
      "Epoch 47/50\n",
      "8000/8000 [==============================] - 0s 1us/step - loss: 0.4883 - acc: 0.7962 - val_loss: 0.4870 - val_acc: 0.7940\n",
      "Epoch 48/50\n",
      "8000/8000 [==============================] - 0s 1us/step - loss: 0.4879 - acc: 0.7962 - val_loss: 0.4866 - val_acc: 0.7940\n",
      "Epoch 49/50\n",
      "8000/8000 [==============================] - 0s 1us/step - loss: 0.4875 - acc: 0.7962 - val_loss: 0.4862 - val_acc: 0.7940\n",
      "Epoch 50/50\n",
      "8000/8000 [==============================] - 0s 1us/step - loss: 0.4871 - acc: 0.7964 - val_loss: 0.4859 - val_acc: 0.7945\n"
     ]
    },
    {
     "data": {
      "text/plain": [
       "<keras.callbacks.History at 0x1d6eb6a0>"
      ]
     },
     "execution_count": 65,
     "metadata": {},
     "output_type": "execute_result"
    }
   ],
   "source": [
    "model.fit(X_train_Scale, y_train, \n",
    "          validation_data=(X_test_Scale, y_test), \n",
    "          epochs=50,\n",
    "          batch_size=X_train_Scale.shape[0])"
   ]
  },
  {
   "cell_type": "code",
   "execution_count": 77,
   "metadata": {},
   "outputs": [],
   "source": [
    "model = tf.keras.models.Sequential()\n",
    "model.add(tf.keras.layers.Dense(6, input_dim=10, activation='relu'))\n",
    "model.add(tf.keras.layers.Dense(6, activation='relu'))\n",
    "model.add(tf.keras.layers.Dense(1, activation='sigmoid'))\n",
    "sgd_optimizer = tf.keras.optimizers.SGD(lr=0.5)"
   ]
  },
  {
   "cell_type": "code",
   "execution_count": 78,
   "metadata": {},
   "outputs": [],
   "source": [
    "model.compile(loss='binary_crossentropy', optimizer=sgd_optimizer, metrics=['accuracy'])"
   ]
  },
  {
   "cell_type": "code",
   "execution_count": 79,
   "metadata": {},
   "outputs": [
    {
     "name": "stdout",
     "output_type": "stream",
     "text": [
      "Train on 8000 samples, validate on 2000 samples\n",
      "Epoch 1/50\n",
      "8000/8000 [==============================] - 0s 26us/sample - loss: 0.7287 - acc: 0.5487 - val_loss: 0.6224 - val_acc: 0.7070\n",
      "Epoch 2/50\n",
      "8000/8000 [==============================] - 0s 1us/sample - loss: 0.6207 - acc: 0.7134 - val_loss: 0.5754 - val_acc: 0.7730\n",
      "Epoch 3/50\n",
      "8000/8000 [==============================] - 0s 1us/sample - loss: 0.5728 - acc: 0.7775 - val_loss: 0.5500 - val_acc: 0.7925\n",
      "Epoch 4/50\n",
      "8000/8000 [==============================] - 0s 2us/sample - loss: 0.5470 - acc: 0.7935 - val_loss: 0.5352 - val_acc: 0.7960\n",
      "Epoch 5/50\n",
      "8000/8000 [==============================] - 0s 2us/sample - loss: 0.5320 - acc: 0.7965 - val_loss: 0.5261 - val_acc: 0.7955\n",
      "Epoch 6/50\n",
      "8000/8000 [==============================] - 0s 2us/sample - loss: 0.5228 - acc: 0.7970 - val_loss: 0.5201 - val_acc: 0.7955\n",
      "Epoch 7/50\n",
      "8000/8000 [==============================] - 0s 1us/sample - loss: 0.5167 - acc: 0.7968 - val_loss: 0.5157 - val_acc: 0.7945\n",
      "Epoch 8/50\n",
      "8000/8000 [==============================] - 0s 1us/sample - loss: 0.5122 - acc: 0.7965 - val_loss: 0.5123 - val_acc: 0.7945\n",
      "Epoch 9/50\n",
      "8000/8000 [==============================] - 0s 1us/sample - loss: 0.5088 - acc: 0.7966 - val_loss: 0.5094 - val_acc: 0.7945\n",
      "Epoch 10/50\n",
      "8000/8000 [==============================] - 0s 2us/sample - loss: 0.5059 - acc: 0.7968 - val_loss: 0.5068 - val_acc: 0.7945\n",
      "Epoch 11/50\n",
      "8000/8000 [==============================] - 0s 1us/sample - loss: 0.5033 - acc: 0.7968 - val_loss: 0.5044 - val_acc: 0.7945\n",
      "Epoch 12/50\n",
      "8000/8000 [==============================] - 0s 2us/sample - loss: 0.5010 - acc: 0.7968 - val_loss: 0.5022 - val_acc: 0.7945\n",
      "Epoch 13/50\n",
      "8000/8000 [==============================] - 0s 2us/sample - loss: 0.4988 - acc: 0.7968 - val_loss: 0.5002 - val_acc: 0.7945\n",
      "Epoch 14/50\n",
      "8000/8000 [==============================] - 0s 2us/sample - loss: 0.4967 - acc: 0.7968 - val_loss: 0.4982 - val_acc: 0.7945\n",
      "Epoch 15/50\n",
      "8000/8000 [==============================] - 0s 2us/sample - loss: 0.4948 - acc: 0.7968 - val_loss: 0.4963 - val_acc: 0.7945\n",
      "Epoch 16/50\n",
      "8000/8000 [==============================] - 0s 2us/sample - loss: 0.4929 - acc: 0.7968 - val_loss: 0.4944 - val_acc: 0.7945\n",
      "Epoch 17/50\n",
      "8000/8000 [==============================] - 0s 1us/sample - loss: 0.4911 - acc: 0.7968 - val_loss: 0.4927 - val_acc: 0.7945\n",
      "Epoch 18/50\n",
      "8000/8000 [==============================] - 0s 2us/sample - loss: 0.4893 - acc: 0.7966 - val_loss: 0.4910 - val_acc: 0.7945\n",
      "Epoch 19/50\n",
      "8000/8000 [==============================] - 0s 2us/sample - loss: 0.4876 - acc: 0.7966 - val_loss: 0.4893 - val_acc: 0.7950\n",
      "Epoch 20/50\n",
      "8000/8000 [==============================] - 0s 1us/sample - loss: 0.4860 - acc: 0.7966 - val_loss: 0.4877 - val_acc: 0.7950\n",
      "Epoch 21/50\n",
      "8000/8000 [==============================] - 0s 1us/sample - loss: 0.4843 - acc: 0.7966 - val_loss: 0.4862 - val_acc: 0.7950\n",
      "Epoch 22/50\n",
      "8000/8000 [==============================] - 0s 1us/sample - loss: 0.4828 - acc: 0.7966 - val_loss: 0.4847 - val_acc: 0.7950\n",
      "Epoch 23/50\n",
      "8000/8000 [==============================] - 0s 1us/sample - loss: 0.4812 - acc: 0.7968 - val_loss: 0.4833 - val_acc: 0.7950\n",
      "Epoch 24/50\n",
      "8000/8000 [==============================] - 0s 1us/sample - loss: 0.4797 - acc: 0.7968 - val_loss: 0.4819 - val_acc: 0.7955\n",
      "Epoch 25/50\n",
      "8000/8000 [==============================] - 0s 1us/sample - loss: 0.4783 - acc: 0.7968 - val_loss: 0.4805 - val_acc: 0.7955\n",
      "Epoch 26/50\n",
      "8000/8000 [==============================] - 0s 2us/sample - loss: 0.4769 - acc: 0.7968 - val_loss: 0.4791 - val_acc: 0.7955\n",
      "Epoch 27/50\n",
      "8000/8000 [==============================] - 0s 2us/sample - loss: 0.4755 - acc: 0.7968 - val_loss: 0.4778 - val_acc: 0.7955\n",
      "Epoch 28/50\n",
      "8000/8000 [==============================] - 0s 2us/sample - loss: 0.4741 - acc: 0.7970 - val_loss: 0.4765 - val_acc: 0.7955\n",
      "Epoch 29/50\n",
      "8000/8000 [==============================] - 0s 2us/sample - loss: 0.4728 - acc: 0.7971 - val_loss: 0.4752 - val_acc: 0.7960\n",
      "Epoch 30/50\n",
      "8000/8000 [==============================] - 0s 2us/sample - loss: 0.4714 - acc: 0.7972 - val_loss: 0.4740 - val_acc: 0.7960\n",
      "Epoch 31/50\n",
      "8000/8000 [==============================] - 0s 2us/sample - loss: 0.4701 - acc: 0.7972 - val_loss: 0.4727 - val_acc: 0.7955\n",
      "Epoch 32/50\n",
      "8000/8000 [==============================] - 0s 2us/sample - loss: 0.4689 - acc: 0.7972 - val_loss: 0.4715 - val_acc: 0.7950\n",
      "Epoch 33/50\n",
      "8000/8000 [==============================] - 0s 1us/sample - loss: 0.4677 - acc: 0.7975 - val_loss: 0.4704 - val_acc: 0.7950\n",
      "Epoch 34/50\n",
      "8000/8000 [==============================] - 0s 1us/sample - loss: 0.4664 - acc: 0.7976 - val_loss: 0.4692 - val_acc: 0.7960\n",
      "Epoch 35/50\n",
      "8000/8000 [==============================] - 0s 1us/sample - loss: 0.4652 - acc: 0.7979 - val_loss: 0.4681 - val_acc: 0.7965\n",
      "Epoch 36/50\n",
      "8000/8000 [==============================] - 0s 1us/sample - loss: 0.4640 - acc: 0.7984 - val_loss: 0.4670 - val_acc: 0.7965\n",
      "Epoch 37/50\n",
      "8000/8000 [==============================] - 0s 1us/sample - loss: 0.4628 - acc: 0.7984 - val_loss: 0.4659 - val_acc: 0.7975\n",
      "Epoch 38/50\n",
      "8000/8000 [==============================] - 0s 1us/sample - loss: 0.4617 - acc: 0.7986 - val_loss: 0.4649 - val_acc: 0.7980\n",
      "Epoch 39/50\n",
      "8000/8000 [==============================] - 0s 1us/sample - loss: 0.4605 - acc: 0.7987 - val_loss: 0.4639 - val_acc: 0.7985\n",
      "Epoch 40/50\n",
      "8000/8000 [==============================] - 0s 1us/sample - loss: 0.4594 - acc: 0.7985 - val_loss: 0.4629 - val_acc: 0.7985\n",
      "Epoch 41/50\n",
      "8000/8000 [==============================] - 0s 1us/sample - loss: 0.4583 - acc: 0.7983 - val_loss: 0.4620 - val_acc: 0.8000\n",
      "Epoch 42/50\n",
      "8000/8000 [==============================] - 0s 1us/sample - loss: 0.4572 - acc: 0.7980 - val_loss: 0.4611 - val_acc: 0.7990\n",
      "Epoch 43/50\n",
      "8000/8000 [==============================] - 0s 1us/sample - loss: 0.4562 - acc: 0.7979 - val_loss: 0.4602 - val_acc: 0.7995\n",
      "Epoch 44/50\n",
      "8000/8000 [==============================] - 0s 1us/sample - loss: 0.4552 - acc: 0.7981 - val_loss: 0.4594 - val_acc: 0.8000\n",
      "Epoch 45/50\n",
      "8000/8000 [==============================] - 0s 1us/sample - loss: 0.4543 - acc: 0.7983 - val_loss: 0.4586 - val_acc: 0.7985\n",
      "Epoch 46/50\n",
      "8000/8000 [==============================] - 0s 1us/sample - loss: 0.4533 - acc: 0.7990 - val_loss: 0.4579 - val_acc: 0.8005\n",
      "Epoch 47/50\n",
      "8000/8000 [==============================] - 0s 2us/sample - loss: 0.4524 - acc: 0.7990 - val_loss: 0.4571 - val_acc: 0.8020\n",
      "Epoch 48/50\n",
      "8000/8000 [==============================] - 0s 1us/sample - loss: 0.4516 - acc: 0.7997 - val_loss: 0.4563 - val_acc: 0.8015\n",
      "Epoch 49/50\n",
      "8000/8000 [==============================] - 0s 2us/sample - loss: 0.4507 - acc: 0.7999 - val_loss: 0.4555 - val_acc: 0.7995\n",
      "Epoch 50/50\n",
      "8000/8000 [==============================] - 0s 2us/sample - loss: 0.4499 - acc: 0.8005 - val_loss: 0.4548 - val_acc: 0.7995\n"
     ]
    },
    {
     "data": {
      "text/plain": [
       "<tensorflow.python.keras.callbacks.History at 0x22b53048>"
      ]
     },
     "execution_count": 79,
     "metadata": {},
     "output_type": "execute_result"
    }
   ],
   "source": [
    "model.fit(X_train_Scale, y_train, \n",
    "          validation_data=(X_test_Scale, y_test), \n",
    "          epochs=50,\n",
    "          batch_size=X_train_Scale.shape[0])"
   ]
  },
  {
   "cell_type": "markdown",
   "metadata": {},
   "source": [
    "There is a minor improvement"
   ]
  },
  {
   "cell_type": "markdown",
   "metadata": {},
   "source": [
    "### 8. Predict the results using 0.5 as a threshold (5 points)"
   ]
  },
  {
   "cell_type": "code",
   "execution_count": 82,
   "metadata": {},
   "outputs": [],
   "source": [
    "y_predict = model.predict(X_test_Scale)"
   ]
  },
  {
   "cell_type": "code",
   "execution_count": 83,
   "metadata": {},
   "outputs": [],
   "source": [
    "y_predict = (y_predict>0.5)"
   ]
  },
  {
   "cell_type": "markdown",
   "metadata": {},
   "source": [
    "### 9. Print the Accuracy score and confusion matrix (2.5 points)"
   ]
  },
  {
   "cell_type": "code",
   "execution_count": 85,
   "metadata": {},
   "outputs": [],
   "source": [
    "from sklearn.metrics import confusion_matrix"
   ]
  },
  {
   "cell_type": "code",
   "execution_count": 87,
   "metadata": {},
   "outputs": [],
   "source": [
    "cm = confusion_matrix(y_test,y_predict)"
   ]
  },
  {
   "cell_type": "code",
   "execution_count": 88,
   "metadata": {},
   "outputs": [
    {
     "data": {
      "text/plain": [
       "array([[1570,   19],\n",
       "       [ 382,   29]], dtype=int64)"
      ]
     },
     "execution_count": 88,
     "metadata": {},
     "output_type": "execute_result"
    }
   ],
   "source": [
    "cm"
   ]
  },
  {
   "cell_type": "code",
   "execution_count": 89,
   "metadata": {},
   "outputs": [
    {
     "data": {
      "text/plain": [
       "0.7995"
      ]
     },
     "execution_count": 89,
     "metadata": {},
     "output_type": "execute_result"
    }
   ],
   "source": [
    "metrics.accuracy_score(y_test,y_predict)"
   ]
  },
  {
   "cell_type": "code",
   "execution_count": 90,
   "metadata": {},
   "outputs": [
    {
     "name": "stdout",
     "output_type": "stream",
     "text": [
      "             precision    recall  f1-score   support\n",
      "\n",
      "          0       0.80      0.99      0.89      1589\n",
      "          1       0.60      0.07      0.13       411\n",
      "\n",
      "avg / total       0.76      0.80      0.73      2000\n",
      "\n"
     ]
    }
   ],
   "source": [
    "cr=metrics.classification_report(y_test,y_predict)\n",
    "print(cr)"
   ]
  }
 ],
 "metadata": {
  "kernelspec": {
   "display_name": "Python 3",
   "language": "python",
   "name": "python3"
  },
  "language_info": {
   "codemirror_mode": {
    "name": "ipython",
    "version": 3
   },
   "file_extension": ".py",
   "mimetype": "text/x-python",
   "name": "python",
   "nbconvert_exporter": "python",
   "pygments_lexer": "ipython3",
   "version": "3.7.0"
  }
 },
 "nbformat": 4,
 "nbformat_minor": 2
}
