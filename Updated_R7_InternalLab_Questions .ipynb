{
 "cells": [
  {
   "cell_type": "markdown",
   "metadata": {
    "colab_type": "text",
    "id": "4WH1Pr4KQlCh"
   },
   "source": [
    "### Build a DNN using Keras with `RELU` and `ADAM`"
   ]
  },
  {
   "cell_type": "markdown",
   "metadata": {
    "colab_type": "text",
    "id": "TbvI8LqlQlCl",
    "slideshow": {
     "slide_type": "slide"
    }
   },
   "source": [
    "#### Load tensorflow"
   ]
  },
  {
   "cell_type": "code",
   "execution_count": 1,
   "metadata": {
    "colab": {},
    "colab_type": "code",
    "id": "SPW-a-qYQlCp"
   },
   "outputs": [],
   "source": [
    "import tensorflow as tf"
   ]
  },
  {
   "cell_type": "markdown",
   "metadata": {
    "colab_type": "text",
    "id": "74cQBsi5QlCw",
    "slideshow": {
     "slide_type": "slide"
    }
   },
   "source": [
    "#### Collect Fashion mnist data from tf.keras.datasets "
   ]
  },
  {
   "cell_type": "code",
   "execution_count": 2,
   "metadata": {
    "colab": {},
    "colab_type": "code",
    "id": "wVWy0oDTr2Kj"
   },
   "outputs": [],
   "source": [
    "(trainX, trainY),(testX, testY) = tf.keras.datasets.mnist.load_data()"
   ]
  },
  {
   "cell_type": "markdown",
   "metadata": {
    "colab_type": "text",
    "id": "no7aWYZyQlC1",
    "slideshow": {
     "slide_type": "slide"
    }
   },
   "source": [
    "#### Change train and test labels into one-hot vectors"
   ]
  },
  {
   "cell_type": "code",
   "execution_count": 5,
   "metadata": {
    "colab": {},
    "colab_type": "code",
    "id": "UX6otc4wQlC2"
   },
   "outputs": [],
   "source": [
    "trainY = tf.keras.utils.to_categorical(trainY, num_classes=10)\n",
    "testY = tf.keras.utils.to_categorical(testY, num_classes=10)"
   ]
  },
  {
   "cell_type": "markdown",
   "metadata": {
    "colab_type": "text",
    "id": "QjNrRTdoQlC5",
    "slideshow": {
     "slide_type": "slide"
    }
   },
   "source": [
    "#### Build the Graph"
   ]
  },
  {
   "cell_type": "markdown",
   "metadata": {
    "colab_type": "text",
    "id": "CDJ9DHVNQlC7"
   },
   "source": [
    "#### Initialize model, reshape & normalize data"
   ]
  },
  {
   "cell_type": "code",
   "execution_count": 6,
   "metadata": {
    "colab": {
     "base_uri": "https://localhost:8080/",
     "height": 88
    },
    "colab_type": "code",
    "id": "pCDQs_g1QlC8",
    "outputId": "e854b4d2-903a-4515-c21b-bd6a6e4fe2f8"
   },
   "outputs": [],
   "source": [
    "#Initialize Sequential model\n",
    "model = tf.keras.models.Sequential()"
   ]
  },
  {
   "cell_type": "code",
   "execution_count": 7,
   "metadata": {},
   "outputs": [],
   "source": [
    "#Reshape data from 2D to 1D -> 28x28 to 784\n",
    "model.add(tf.keras.layers.Reshape((784,),input_shape=(28,28,)))"
   ]
  },
  {
   "cell_type": "code",
   "execution_count": 8,
   "metadata": {},
   "outputs": [
    {
     "name": "stdout",
     "output_type": "stream",
     "text": [
      "WARNING:tensorflow:From C:\\ProgramData\\Anaconda3\\lib\\site-packages\\tensorflow\\python\\ops\\resource_variable_ops.py:435: colocate_with (from tensorflow.python.framework.ops) is deprecated and will be removed in a future version.\n",
      "Instructions for updating:\n",
      "Colocations handled automatically by placer.\n"
     ]
    }
   ],
   "source": [
    "#Normalize the data\n",
    "model.add(tf.keras.layers.BatchNormalization())"
   ]
  },
  {
   "cell_type": "markdown",
   "metadata": {
    "colab_type": "text",
    "id": "kBGwTTilQlDD",
    "slideshow": {
     "slide_type": "slide"
    }
   },
   "source": [
    "#### Add two fully connected layers with 200 and 100 neurons respectively with `relu` activations. Add a dropout layer with `p=0.25`"
   ]
  },
  {
   "cell_type": "code",
   "execution_count": 9,
   "metadata": {
    "colab": {
     "base_uri": "https://localhost:8080/",
     "height": 88
    },
    "colab_type": "code",
    "id": "IXbfpfOzQlDF",
    "outputId": "f46a2e3a-2634-4e9e-88bd-57bb8de1ff0c"
   },
   "outputs": [
    {
     "name": "stdout",
     "output_type": "stream",
     "text": [
      "WARNING:tensorflow:From C:\\ProgramData\\Anaconda3\\lib\\site-packages\\tensorflow\\python\\keras\\layers\\core.py:143: calling dropout (from tensorflow.python.ops.nn_ops) with keep_prob is deprecated and will be removed in a future version.\n",
      "Instructions for updating:\n",
      "Please use `rate` instead of `keep_prob`. Rate should be set to `rate = 1 - keep_prob`.\n"
     ]
    }
   ],
   "source": [
    "model.add(tf.keras.layers.Dense(200, activation='relu'))\n",
    "model.add(tf.keras.layers.Dense(100, activation='relu'))\n",
    "#Dropout layer with p=0.25\n",
    "model.add(tf.keras.layers.Dropout(0.25))"
   ]
  },
  {
   "cell_type": "markdown",
   "metadata": {
    "colab_type": "text",
    "id": "5I8f5otcQlDJ"
   },
   "source": [
    "### Add the output layer with a fully connected layer with 10 neurons with `softmax` activation. Use `categorical_crossentropy` loss and `adam` optimizer and train the network. And, report the final validation."
   ]
  },
  {
   "cell_type": "code",
   "execution_count": 10,
   "metadata": {},
   "outputs": [],
   "source": [
    "#Output layer\n",
    "model.add(tf.keras.layers.Dense(10, activation='softmax', name='Output'))"
   ]
  },
  {
   "cell_type": "code",
   "execution_count": 12,
   "metadata": {},
   "outputs": [],
   "source": [
    "model.compile(optimizer='adam', loss='categorical_crossentropy', metrics=['accuracy'])"
   ]
  },
  {
   "cell_type": "code",
   "execution_count": 13,
   "metadata": {},
   "outputs": [
    {
     "name": "stdout",
     "output_type": "stream",
     "text": [
      "Train on 60000 samples, validate on 10000 samples\n",
      "WARNING:tensorflow:From C:\\ProgramData\\Anaconda3\\lib\\site-packages\\tensorflow\\python\\ops\\math_ops.py:3066: to_int32 (from tensorflow.python.ops.math_ops) is deprecated and will be removed in a future version.\n",
      "Instructions for updating:\n",
      "Use tf.cast instead.\n",
      "Epoch 1/30\n",
      "60000/60000 [==============================] - 11s 185us/sample - loss: 0.2617 - acc: 0.9194 - val_loss: 0.1613 - val_acc: 0.9606\n",
      "Epoch 2/30\n",
      "60000/60000 [==============================] - 12s 204us/sample - loss: 0.1304 - acc: 0.9597 - val_loss: 0.1467 - val_acc: 0.9682\n",
      "Epoch 3/30\n",
      "60000/60000 [==============================] - 11s 182us/sample - loss: 0.1005 - acc: 0.9681 - val_loss: 0.1478 - val_acc: 0.9701\n",
      "Epoch 4/30\n",
      "60000/60000 [==============================] - 11s 183us/sample - loss: 0.0841 - acc: 0.9743 - val_loss: 0.1338 - val_acc: 0.9723\n",
      "Epoch 5/30\n",
      "60000/60000 [==============================] - 13s 218us/sample - loss: 0.0701 - acc: 0.9781 - val_loss: 0.1764 - val_acc: 0.9692\n",
      "Epoch 6/30\n",
      "60000/60000 [==============================] - 12s 195us/sample - loss: 0.0640 - acc: 0.9799 - val_loss: 0.1614 - val_acc: 0.9699\n",
      "Epoch 7/30\n",
      "60000/60000 [==============================] - 12s 196us/sample - loss: 0.0552 - acc: 0.9824 - val_loss: 0.1753 - val_acc: 0.9715\n",
      "Epoch 8/30\n",
      "60000/60000 [==============================] - 11s 176us/sample - loss: 0.0504 - acc: 0.9840 - val_loss: 0.1635 - val_acc: 0.9730\n",
      "Epoch 9/30\n",
      "60000/60000 [==============================] - 11s 187us/sample - loss: 0.0473 - acc: 0.9846 - val_loss: 0.1670 - val_acc: 0.9732\n",
      "Epoch 10/30\n",
      "60000/60000 [==============================] - 12s 202us/sample - loss: 0.0453 - acc: 0.9853 - val_loss: 0.1773 - val_acc: 0.9726\n",
      "Epoch 11/30\n",
      "60000/60000 [==============================] - 10s 175us/sample - loss: 0.0425 - acc: 0.9861 - val_loss: 0.1736 - val_acc: 0.9740\n",
      "Epoch 12/30\n",
      "60000/60000 [==============================] - 13s 209us/sample - loss: 0.0402 - acc: 0.9878 - val_loss: 0.1792 - val_acc: 0.9706\n",
      "Epoch 13/30\n",
      "60000/60000 [==============================] - 12s 197us/sample - loss: 0.0331 - acc: 0.9887 - val_loss: 0.1587 - val_acc: 0.9734\n",
      "Epoch 14/30\n",
      "60000/60000 [==============================] - 12s 200us/sample - loss: 0.0350 - acc: 0.9890 - val_loss: 0.1782 - val_acc: 0.9703\n",
      "Epoch 15/30\n",
      "60000/60000 [==============================] - 11s 179us/sample - loss: 0.0351 - acc: 0.9890 - val_loss: 0.2052 - val_acc: 0.9713\n",
      "Epoch 16/30\n",
      "60000/60000 [==============================] - 12s 196us/sample - loss: 0.0305 - acc: 0.9907 - val_loss: 0.2359 - val_acc: 0.9672\n",
      "Epoch 17/30\n",
      "60000/60000 [==============================] - 12s 202us/sample - loss: 0.0333 - acc: 0.9897 - val_loss: 0.1894 - val_acc: 0.9721\n",
      "Epoch 18/30\n",
      "60000/60000 [==============================] - 12s 202us/sample - loss: 0.0303 - acc: 0.9902 - val_loss: 0.1824 - val_acc: 0.9741\n",
      "Epoch 19/30\n",
      "60000/60000 [==============================] - 12s 196us/sample - loss: 0.0304 - acc: 0.9909 - val_loss: 0.1927 - val_acc: 0.9716\n",
      "Epoch 20/30\n",
      "60000/60000 [==============================] - 12s 202us/sample - loss: 0.0275 - acc: 0.9912 - val_loss: 0.1918 - val_acc: 0.9727\n",
      "Epoch 21/30\n",
      "60000/60000 [==============================] - 12s 203us/sample - loss: 0.0290 - acc: 0.9914 - val_loss: 0.1969 - val_acc: 0.9723\n",
      "Epoch 22/30\n",
      "60000/60000 [==============================] - 13s 212us/sample - loss: 0.0274 - acc: 0.9916 - val_loss: 0.2032 - val_acc: 0.9714\n",
      "Epoch 23/30\n",
      "60000/60000 [==============================] - 11s 187us/sample - loss: 0.0281 - acc: 0.9916 - val_loss: 0.2204 - val_acc: 0.9713\n",
      "Epoch 24/30\n",
      "60000/60000 [==============================] - 12s 207us/sample - loss: 0.0273 - acc: 0.9916 - val_loss: 0.1901 - val_acc: 0.9727\n",
      "Epoch 25/30\n",
      "60000/60000 [==============================] - 13s 208us/sample - loss: 0.0262 - acc: 0.9925 - val_loss: 0.1860 - val_acc: 0.9723\n",
      "Epoch 26/30\n",
      "60000/60000 [==============================] - 13s 215us/sample - loss: 0.0248 - acc: 0.9926 - val_loss: 0.2118 - val_acc: 0.9704\n",
      "Epoch 27/30\n",
      "60000/60000 [==============================] - 15s 245us/sample - loss: 0.0261 - acc: 0.9929 - val_loss: 0.2315 - val_acc: 0.9702\n",
      "Epoch 28/30\n",
      "60000/60000 [==============================] - 11s 187us/sample - loss: 0.0231 - acc: 0.9933 - val_loss: 0.2264 - val_acc: 0.9695\n",
      "Epoch 29/30\n",
      "60000/60000 [==============================] - 12s 205us/sample - loss: 0.0236 - acc: 0.9933 - val_loss: 0.2027 - val_acc: 0.9723\n",
      "Epoch 30/30\n",
      "60000/60000 [==============================] - 12s 208us/sample - loss: 0.0236 - acc: 0.9930 - val_loss: 0.1901 - val_acc: 0.9725\n"
     ]
    },
    {
     "data": {
      "text/plain": [
       "<tensorflow.python.keras.callbacks.History at 0x20073fd0>"
      ]
     },
     "execution_count": 13,
     "metadata": {},
     "output_type": "execute_result"
    }
   ],
   "source": [
    "#Train the model\n",
    "model.fit(trainX,trainY,          \n",
    "          validation_data=(testX,testY),\n",
    "          epochs=30,\n",
    "          batch_size=32)"
   ]
  }
 ],
 "metadata": {
  "colab": {
   "collapsed_sections": [],
   "name": "updated_R7_ExternalLab_Questions.ipynb",
   "provenance": [],
   "version": "0.3.2"
  },
  "kernelspec": {
   "display_name": "Python 3",
   "language": "python",
   "name": "python3"
  },
  "language_info": {
   "codemirror_mode": {
    "name": "ipython",
    "version": 3
   },
   "file_extension": ".py",
   "mimetype": "text/x-python",
   "name": "python",
   "nbconvert_exporter": "python",
   "pygments_lexer": "ipython3",
   "version": "3.7.1"
  }
 },
 "nbformat": 4,
 "nbformat_minor": 1
}
