{
 "cells": [
  {
   "cell_type": "markdown",
   "metadata": {
    "colab_type": "text",
    "id": "e27ZmuCtDDvB"
   },
   "source": [
    "### A MNIST-like fashion product database\n",
    "\n",
    "In this, we classify the images into respective classes given in the dataset. We use a Neural Net and a Deep Neural Net in Keras to solve this and check the accuracy scores."
   ]
  },
  {
   "cell_type": "markdown",
   "metadata": {
    "colab_type": "text",
    "id": "GNtN5ZYWDDvC",
    "slideshow": {
     "slide_type": "slide"
    }
   },
   "source": [
    "### Load tensorflow"
   ]
  },
  {
   "cell_type": "code",
   "execution_count": 2,
   "metadata": {},
   "outputs": [],
   "source": [
    "from IPython.core.interactiveshell import InteractiveShell\n",
    "InteractiveShell.ast_node_interactivity = 'all'"
   ]
  },
  {
   "cell_type": "code",
   "execution_count": 3,
   "metadata": {
    "colab": {},
    "colab_type": "code",
    "id": "4ceTk5r3DDvE",
    "outputId": "37f79678-7e5a-4ad2-ba70-4e9f06ffef16"
   },
   "outputs": [],
   "source": [
    "import tensorflow as tf\n",
    "tf.set_random_seed(42)"
   ]
  },
  {
   "cell_type": "code",
   "execution_count": 4,
   "metadata": {
    "colab": {},
    "colab_type": "code",
    "id": "jk6Y28DODDvN",
    "outputId": "6d5016ab-5d05-432e-aae1-74162e0010ec"
   },
   "outputs": [
    {
     "data": {
      "text/plain": [
       "'1.14.0'"
      ]
     },
     "execution_count": 4,
     "metadata": {},
     "output_type": "execute_result"
    }
   ],
   "source": [
    "tf.__version__"
   ]
  },
  {
   "cell_type": "markdown",
   "metadata": {
    "colab_type": "text",
    "id": "xnWBoFzMDDvR",
    "slideshow": {
     "slide_type": "slide"
    }
   },
   "source": [
    "### Collect Data"
   ]
  },
  {
   "cell_type": "code",
   "execution_count": 5,
   "metadata": {
    "colab": {},
    "colab_type": "code",
    "id": "HwPw7IzjDDvS",
    "outputId": "77f53d35-fde4-4e42-f1fb-e65a0adf4985"
   },
   "outputs": [
    {
     "name": "stderr",
     "output_type": "stream",
     "text": [
      "Using TensorFlow backend.\n"
     ]
    }
   ],
   "source": [
    "import keras"
   ]
  },
  {
   "cell_type": "code",
   "execution_count": 6,
   "metadata": {
    "colab": {},
    "colab_type": "code",
    "id": "ZJmkwn3kDDva"
   },
   "outputs": [
    {
     "name": "stdout",
     "output_type": "stream",
     "text": [
      "Downloading data from http://fashion-mnist.s3-website.eu-central-1.amazonaws.com/train-labels-idx1-ubyte.gz\n",
      "32768/29515 [=================================] - 0s 4us/step\n",
      "Downloading data from http://fashion-mnist.s3-website.eu-central-1.amazonaws.com/train-images-idx3-ubyte.gz\n",
      "26427392/26421880 [==============================] - 9s 0us/step\n",
      "Downloading data from http://fashion-mnist.s3-website.eu-central-1.amazonaws.com/t10k-labels-idx1-ubyte.gz\n",
      "8192/5148 [===============================================] - 0s 0us/step\n",
      "Downloading data from http://fashion-mnist.s3-website.eu-central-1.amazonaws.com/t10k-images-idx3-ubyte.gz\n",
      "4423680/4422102 [==============================] - 3s 1us/step\n"
     ]
    }
   ],
   "source": [
    "(trainX, trainY), (testX, testY) = keras.datasets.fashion_mnist.load_data()"
   ]
  },
  {
   "cell_type": "code",
   "execution_count": 7,
   "metadata": {
    "colab": {},
    "colab_type": "code",
    "id": "0iFwqVseDDvd",
    "outputId": "e76707eb-4976-4483-da23-6f919a95bfab"
   },
   "outputs": [
    {
     "data": {
      "text/plain": [
       "(60000, 28, 28)"
      ]
     },
     "execution_count": 7,
     "metadata": {},
     "output_type": "execute_result"
    }
   ],
   "source": [
    "trainX.shape"
   ]
  },
  {
   "cell_type": "code",
   "execution_count": 8,
   "metadata": {
    "colab": {},
    "colab_type": "code",
    "id": "bWUJXL5XDDvg",
    "outputId": "d0af774a-8e13-45ac-e84f-3c9ceba4118f",
    "slideshow": {
     "slide_type": "fragment"
    }
   },
   "outputs": [
    {
     "data": {
      "text/plain": [
       "array([9, 2, 1, ..., 8, 1, 5], dtype=uint8)"
      ]
     },
     "execution_count": 8,
     "metadata": {},
     "output_type": "execute_result"
    }
   ],
   "source": [
    "testY.view()"
   ]
  },
  {
   "cell_type": "markdown",
   "metadata": {
    "colab_type": "text",
    "id": "Lnrjo2L1DDvk",
    "slideshow": {
     "slide_type": "slide"
    }
   },
   "source": [
    "### Convert both training and testing labels into one-hot vectors.\n",
    "\n",
    "**Hint:** check **tf.keras.utils.to_categorical()**"
   ]
  },
  {
   "cell_type": "code",
   "execution_count": 9,
   "metadata": {
    "colab": {},
    "colab_type": "code",
    "id": "1-lohlFLDDvm"
   },
   "outputs": [],
   "source": [
    "trainY = tf.keras.utils.to_categorical(trainY,num_classes=10)"
   ]
  },
  {
   "cell_type": "code",
   "execution_count": 10,
   "metadata": {
    "colab": {},
    "colab_type": "code",
    "id": "Oe0zHaTXDDvs"
   },
   "outputs": [],
   "source": [
    "testY = tf.keras.utils.to_categorical(testY,num_classes=10)"
   ]
  },
  {
   "cell_type": "markdown",
   "metadata": {
    "colab_type": "text",
    "id": "IcS01rtlDDvu"
   },
   "source": [
    "#### Expected Output should look like this"
   ]
  },
  {
   "cell_type": "code",
   "execution_count": 11,
   "metadata": {
    "colab": {},
    "colab_type": "code",
    "id": "uk_mzS82DDvv",
    "outputId": "01add06d-492e-4e64-adf1-108cd73004e6",
    "slideshow": {
     "slide_type": "fragment"
    }
   },
   "outputs": [
    {
     "name": "stdout",
     "output_type": "stream",
     "text": [
      "(60000, 10)\n",
      "First 5 examples now are:  [[0. 0. 0. 0. 0. 0. 0. 0. 0. 1.]\n",
      " [1. 0. 0. 0. 0. 0. 0. 0. 0. 0.]\n",
      " [1. 0. 0. 0. 0. 0. 0. 0. 0. 0.]\n",
      " [0. 0. 0. 1. 0. 0. 0. 0. 0. 0.]\n",
      " [1. 0. 0. 0. 0. 0. 0. 0. 0. 0.]]\n"
     ]
    }
   ],
   "source": [
    "print(trainY.shape)\n",
    "print('First 5 examples now are: ', trainY[0:5])"
   ]
  },
  {
   "cell_type": "markdown",
   "metadata": {
    "colab_type": "text",
    "id": "-V2xrabVDDvz"
   },
   "source": [
    "### Visualize the data\n",
    "\n",
    "Plot first 10 images in the triaining set and their labels."
   ]
  },
  {
   "cell_type": "code",
   "execution_count": 12,
   "metadata": {
    "colab": {},
    "colab_type": "code",
    "id": "4tjgSrUADDv0",
    "outputId": "e8edc7fa-423d-4472-b278-2a613cfaccbb",
    "scrolled": true
   },
   "outputs": [
    {
     "data": {
      "text/plain": [
       "<Figure size 432x288 with 0 Axes>"
      ]
     },
     "execution_count": 12,
     "metadata": {},
     "output_type": "execute_result"
    },
    {
     "data": {
      "text/plain": [
       "<matplotlib.image.AxesImage at 0x7f14b0679908>"
      ]
     },
     "execution_count": 12,
     "metadata": {},
     "output_type": "execute_result"
    },
    {
     "data": {
      "text/plain": [
       "<Figure size 432x288 with 0 Axes>"
      ]
     },
     "execution_count": 12,
     "metadata": {},
     "output_type": "execute_result"
    },
    {
     "data": {
      "text/plain": [
       "<matplotlib.image.AxesImage at 0x7f14b0640630>"
      ]
     },
     "execution_count": 12,
     "metadata": {},
     "output_type": "execute_result"
    },
    {
     "data": {
      "text/plain": [
       "<Figure size 432x288 with 0 Axes>"
      ]
     },
     "execution_count": 12,
     "metadata": {},
     "output_type": "execute_result"
    },
    {
     "data": {
      "text/plain": [
       "<matplotlib.image.AxesImage at 0x7f14b05ff358>"
      ]
     },
     "execution_count": 12,
     "metadata": {},
     "output_type": "execute_result"
    },
    {
     "data": {
      "text/plain": [
       "<Figure size 432x288 with 0 Axes>"
      ]
     },
     "execution_count": 12,
     "metadata": {},
     "output_type": "execute_result"
    },
    {
     "data": {
      "text/plain": [
       "<matplotlib.image.AxesImage at 0x7f14b05be080>"
      ]
     },
     "execution_count": 12,
     "metadata": {},
     "output_type": "execute_result"
    },
    {
     "data": {
      "text/plain": [
       "<Figure size 432x288 with 0 Axes>"
      ]
     },
     "execution_count": 12,
     "metadata": {},
     "output_type": "execute_result"
    },
    {
     "data": {
      "text/plain": [
       "<matplotlib.image.AxesImage at 0x7f14b056add8>"
      ]
     },
     "execution_count": 12,
     "metadata": {},
     "output_type": "execute_result"
    },
    {
     "data": {
      "text/plain": [
       "<Figure size 432x288 with 0 Axes>"
      ]
     },
     "execution_count": 12,
     "metadata": {},
     "output_type": "execute_result"
    },
    {
     "data": {
      "text/plain": [
       "<matplotlib.image.AxesImage at 0x7f14b052aa90>"
      ]
     },
     "execution_count": 12,
     "metadata": {},
     "output_type": "execute_result"
    },
    {
     "data": {
      "text/plain": [
       "<Figure size 432x288 with 0 Axes>"
      ]
     },
     "execution_count": 12,
     "metadata": {},
     "output_type": "execute_result"
    },
    {
     "data": {
      "text/plain": [
       "<matplotlib.image.AxesImage at 0x7f14b04e67b8>"
      ]
     },
     "execution_count": 12,
     "metadata": {},
     "output_type": "execute_result"
    },
    {
     "data": {
      "text/plain": [
       "<Figure size 432x288 with 0 Axes>"
      ]
     },
     "execution_count": 12,
     "metadata": {},
     "output_type": "execute_result"
    },
    {
     "data": {
      "text/plain": [
       "<matplotlib.image.AxesImage at 0x7f14b04a44e0>"
      ]
     },
     "execution_count": 12,
     "metadata": {},
     "output_type": "execute_result"
    },
    {
     "data": {
      "text/plain": [
       "<Figure size 432x288 with 0 Axes>"
      ]
     },
     "execution_count": 12,
     "metadata": {},
     "output_type": "execute_result"
    },
    {
     "data": {
      "text/plain": [
       "<matplotlib.image.AxesImage at 0x7f14b0462208>"
      ]
     },
     "execution_count": 12,
     "metadata": {},
     "output_type": "execute_result"
    },
    {
     "data": {
      "text/plain": [
       "<Figure size 432x288 with 0 Axes>"
      ]
     },
     "execution_count": 12,
     "metadata": {},
     "output_type": "execute_result"
    },
    {
     "data": {
      "text/plain": [
       "<matplotlib.image.AxesImage at 0x7f14b0493ef0>"
      ]
     },
     "execution_count": 12,
     "metadata": {},
     "output_type": "execute_result"
    },
    {
     "data": {
      "image/png": "[encoded data removed]",
      "text/plain": [
       "<Figure size 432x288 with 1 Axes>"
      ]
     },
     "metadata": {
      "needs_background": "light"
     },
     "output_type": "display_data"
    },
    {
     "data": {
      "image/png": "[encoded data removed]",
      "text/plain": [
       "<Figure size 432x288 with 1 Axes>"
      ]
     },
     "metadata": {
      "needs_background": "light"
     },
     "output_type": "display_data"
    },
    {
     "data": {
      "image/png": "[encoded data removed]",
      "text/plain": [
       "<Figure size 432x288 with 1 Axes>"
      ]
     },
     "metadata": {
      "needs_background": "light"
     },
     "output_type": "display_data"
    },
    {
     "data": {
      "image/png": "[encoded data removed]",
      "text/plain": [
       "<Figure size 432x288 with 1 Axes>"
      ]
     },
     "metadata": {
      "needs_background": "light"
     },
     "output_type": "display_data"
    },
    {
     "data": {
      "image/png": "[encoded data removed]",
      "text/plain": [
       "<Figure size 432x288 with 1 Axes>"
      ]
     },
     "metadata": {
      "needs_background": "light"
     },
     "output_type": "display_data"
    },
    {
     "data": {
      "image/png": "[encoded data removed]",
      "text/plain": [
       "<Figure size 432x288 with 1 Axes>"
      ]
     },
     "metadata": {
      "needs_background": "light"
     },
     "output_type": "display_data"
    },
    {
     "data": {
      "image/png": "[encoded data removed]",
      "text/plain": [
       "<Figure size 432x288 with 1 Axes>"
      ]
     },
     "metadata": {
      "needs_background": "light"
     },
     "output_type": "display_data"
    },
    {
     "data": {
      "image/png": "[encoded data removed]",
      "text/plain": [
       "<Figure size 432x288 with 1 Axes>"
      ]
     },
     "metadata": {
      "needs_background": "light"
     },
     "output_type": "display_data"
    },
    {
     "data": {
      "image/png": "[encoded data removed]",
      "text/plain": [
       "<Figure size 432x288 with 1 Axes>"
      ]
     },
     "metadata": {
      "needs_background": "light"
     },
     "output_type": "display_data"
    },
    {
     "data": {
      "image/png": "[encoded data removed]",
      "text/plain": [
       "<Figure size 432x288 with 1 Axes>"
      ]
     },
     "metadata": {
      "needs_background": "light"
     },
     "output_type": "display_data"
    }
   ],
   "source": [
    "import matplotlib.pyplot as plt\n",
    "%matplotlib inline\n",
    "for i in range(10):\n",
    "    image = trainX[i]\n",
    "    plt.figure(i)\n",
    "    plt.imshow(image)\n",
    "#### Expected Output"
   ]
  },
  {
   "cell_type": "markdown",
   "metadata": {
    "colab_type": "text",
    "id": "yvnTfUwuDDv8",
    "slideshow": {
     "slide_type": "slide"
    }
   },
   "source": [
    "### Build a neural Network with a cross entropy loss function and sgd optimizer in Keras. The output layer with 10 neurons as we have 10 classes."
   ]
  },
  {
   "cell_type": "code",
   "execution_count": 13,
   "metadata": {
    "colab": {},
    "colab_type": "code",
    "id": "s2kSAe_CDDv9"
   },
   "outputs": [],
   "source": [
    "#Initialize sequential model\n",
    "model = tf.keras.models.Sequential()"
   ]
  },
  {
   "cell_type": "code",
   "execution_count": 14,
   "metadata": {
    "colab": {},
    "colab_type": "code",
    "id": "opSiKNt2DDv_"
   },
   "outputs": [],
   "source": [
    "#Reshape data from 2D to 1D -> 28 X 28 to 784\n",
    "model.add(tf.keras.layers.Reshape((784,),input_shape=(28,28,)))"
   ]
  },
  {
   "cell_type": "code",
   "execution_count": 15,
   "metadata": {
    "colab": {},
    "colab_type": "code",
    "id": "98o4Woq4DDwC"
   },
   "outputs": [
    {
     "name": "stderr",
     "output_type": "stream",
     "text": [
      "WARNING: Logging before flag parsing goes to stderr.\n",
      "W0814 22:47:28.483041 139728905389888 deprecation.py:506] From /home/jd/anaconda3/lib/python3.7/site-packages/tensorflow/python/ops/init_ops.py:1251: calling VarianceScaling.__init__ (from tensorflow.python.ops.init_ops) with dtype is deprecated and will be removed in a future version.\n",
      "Instructions for updating:\n",
      "Call initializer instance with the dtype argument instead of passing it to the constructor\n"
     ]
    }
   ],
   "source": [
    "#Add Dense Layer which provides 10 outputs after applying softmax\n",
    "model.add(tf.keras.layers.Dense(10,activation='softmax'))"
   ]
  },
  {
   "cell_type": "code",
   "execution_count": 16,
   "metadata": {
    "colab": {},
    "colab_type": "code",
    "id": "IxKPSHRfDDwJ"
   },
   "outputs": [],
   "source": [
    "#Complie the model\n",
    "model.compile(optimizer='sgd',loss='categorical_crossentropy',metrics=['accuracy'])"
   ]
  },
  {
   "cell_type": "markdown",
   "metadata": {
    "colab_type": "text",
    "id": "U28AfiJpDDwP",
    "slideshow": {
     "slide_type": "slide"
    }
   },
   "source": [
    "### Execute the model using model.fit()"
   ]
  },
  {
   "cell_type": "code",
   "execution_count": 17,
   "metadata": {
    "colab": {},
    "colab_type": "code",
    "id": "MJHkbUAeDDwR",
    "outputId": "4c7605db-85a9-4712-ca5e-a5315269c2c1"
   },
   "outputs": [
    {
     "name": "stdout",
     "output_type": "stream",
     "text": [
      "Train on 60000 samples, validate on 10000 samples\n",
      "Epoch 1/10\n",
      "60000/60000 [==============================] - 1s 14us/sample - loss: 243.8430 - acc: 0.0538 - val_loss: 4236.4487 - val_acc: 0.2033\n",
      "Epoch 2/10\n",
      "60000/60000 [==============================] - 0s 3us/sample - loss: 4227.7222 - acc: 0.2084 - val_loss: 9876.5684 - val_acc: 0.1811\n",
      "Epoch 3/10\n",
      "60000/60000 [==============================] - 0s 3us/sample - loss: 9811.1318 - acc: 0.1815 - val_loss: 14353.8223 - val_acc: 0.2391\n",
      "Epoch 4/10\n",
      "60000/60000 [==============================] - 0s 3us/sample - loss: 14240.5479 - acc: 0.2439 - val_loss: 18444.3574 - val_acc: 0.2859\n",
      "Epoch 5/10\n",
      "60000/60000 [==============================] - 0s 3us/sample - loss: 18374.1133 - acc: 0.2892 - val_loss: 14153.8564 - val_acc: 0.2687\n",
      "Epoch 6/10\n",
      "60000/60000 [==============================] - 0s 3us/sample - loss: 14100.5732 - acc: 0.2694 - val_loss: 13631.3184 - val_acc: 0.2873\n",
      "Epoch 7/10\n",
      "60000/60000 [==============================] - 0s 3us/sample - loss: 13565.2227 - acc: 0.2880 - val_loss: 5275.3594 - val_acc: 0.2585\n",
      "Epoch 8/10\n",
      "60000/60000 [==============================] - 0s 4us/sample - loss: 5243.5669 - acc: 0.2603 - val_loss: 7847.7202 - val_acc: 0.3744\n",
      "Epoch 9/10\n",
      "60000/60000 [==============================] - 0s 4us/sample - loss: 7768.3848 - acc: 0.3776 - val_loss: 7252.8154 - val_acc: 0.4554\n",
      "Epoch 10/10\n",
      "60000/60000 [==============================] - 0s 3us/sample - loss: 7207.4604 - acc: 0.4588 - val_loss: 7094.3457 - val_acc: 0.5175\n"
     ]
    },
    {
     "data": {
      "text/plain": [
       "<tensorflow.python.keras.callbacks.History at 0x7f14b0325ac8>"
      ]
     },
     "execution_count": 17,
     "metadata": {},
     "output_type": "execute_result"
    }
   ],
   "source": [
    "model.fit(trainX,trainY,epochs=10,validation_data=(testX,testY),batch_size=trainX.shape[0])"
   ]
  },
  {
   "cell_type": "markdown",
   "metadata": {
    "colab_type": "text",
    "id": "yo7lq8fqDDwW",
    "slideshow": {
     "slide_type": "slide"
    }
   },
   "source": [
    "### In the above Neural Network model add Batch Normalization layer after the input layer and repeat the steps."
   ]
  },
  {
   "cell_type": "code",
   "execution_count": 18,
   "metadata": {
    "colab": {},
    "colab_type": "code",
    "id": "ndBgN_uzDDwY"
   },
   "outputs": [],
   "source": [
    "#Initialize sequential model\n",
    "model = tf.keras.models.Sequential()"
   ]
  },
  {
   "cell_type": "code",
   "execution_count": 19,
   "metadata": {
    "colab": {},
    "colab_type": "code",
    "id": "Wr5ZLGqqDDwd"
   },
   "outputs": [],
   "source": [
    "#Reshape data from 2D to 1D -> 28 X 28 to 784\n",
    "model.add(tf.keras.layers.Reshape((784,),input_shape=(28,28,)))"
   ]
  },
  {
   "cell_type": "code",
   "execution_count": 20,
   "metadata": {
    "colab": {},
    "colab_type": "code",
    "id": "w1qZ7FSHDDwf"
   },
   "outputs": [],
   "source": [
    "#Normalize the data\n",
    "model.add(tf.keras.layers.BatchNormalization())"
   ]
  },
  {
   "cell_type": "code",
   "execution_count": 21,
   "metadata": {
    "colab": {},
    "colab_type": "code",
    "id": "BNk37W6jDDwh"
   },
   "outputs": [],
   "source": [
    "#Add Dense Layer which provides 10 outputs after applying softmax\n",
    "model.add(tf.keras.layers.Dense(10,activation='softmax'))"
   ]
  },
  {
   "cell_type": "code",
   "execution_count": 22,
   "metadata": {
    "colab": {},
    "colab_type": "code",
    "id": "Lm8jR0WHDDwj"
   },
   "outputs": [],
   "source": [
    "#Complie the model\n",
    "model.compile(optimizer='sgd',loss='categorical_crossentropy',metrics=['accuracy'])"
   ]
  },
  {
   "cell_type": "code",
   "execution_count": 23,
   "metadata": {
    "colab": {},
    "colab_type": "code",
    "id": "kULWCB3cDDwl",
    "outputId": "4f52ccf2-8f95-488b-db5c-7ad2db529c25"
   },
   "outputs": [
    {
     "name": "stdout",
     "output_type": "stream",
     "text": [
      "Train on 60000 samples, validate on 10000 samples\n",
      "Epoch 1/10\n",
      "60000/60000 [==============================] - 4s 61us/sample - loss: 0.5913 - acc: 0.7987 - val_loss: 0.5169 - val_acc: 0.8255\n",
      "Epoch 2/10\n",
      "60000/60000 [==============================] - 4s 59us/sample - loss: 0.4870 - acc: 0.8325 - val_loss: 0.4819 - val_acc: 0.8341\n",
      "Epoch 3/10\n",
      "60000/60000 [==============================] - 4s 59us/sample - loss: 0.4675 - acc: 0.8385 - val_loss: 0.4736 - val_acc: 0.8378\n",
      "Epoch 4/10\n",
      "60000/60000 [==============================] - 4s 58us/sample - loss: 0.4574 - acc: 0.8430 - val_loss: 0.4666 - val_acc: 0.8411\n",
      "Epoch 5/10\n",
      "60000/60000 [==============================] - 4s 63us/sample - loss: 0.4495 - acc: 0.8448 - val_loss: 0.4740 - val_acc: 0.8356\n",
      "Epoch 6/10\n",
      "60000/60000 [==============================] - 3s 57us/sample - loss: 0.4434 - acc: 0.8466 - val_loss: 0.4672 - val_acc: 0.8407\n",
      "Epoch 7/10\n",
      "60000/60000 [==============================] - 3s 58us/sample - loss: 0.4406 - acc: 0.8472 - val_loss: 0.4641 - val_acc: 0.8407\n",
      "Epoch 8/10\n",
      "60000/60000 [==============================] - 4s 58us/sample - loss: 0.4361 - acc: 0.8496 - val_loss: 0.4624 - val_acc: 0.8393\n",
      "Epoch 9/10\n",
      "60000/60000 [==============================] - 4s 58us/sample - loss: 0.4317 - acc: 0.8506 - val_loss: 0.4591 - val_acc: 0.8432\n",
      "Epoch 10/10\n",
      "60000/60000 [==============================] - 4s 62us/sample - loss: 0.4282 - acc: 0.8513 - val_loss: 0.4687 - val_acc: 0.8432\n"
     ]
    },
    {
     "data": {
      "text/plain": [
       "<tensorflow.python.keras.callbacks.History at 0x7f14a0352a90>"
      ]
     },
     "execution_count": 23,
     "metadata": {},
     "output_type": "execute_result"
    }
   ],
   "source": [
    "model.fit(trainX,trainY,epochs=10,validation_data=(testX,testY),batch_size=32)"
   ]
  },
  {
   "cell_type": "markdown",
   "metadata": {
    "colab_type": "text",
    "id": "BOPZ1_6CDDwr",
    "slideshow": {
     "slide_type": "slide"
    }
   },
   "source": [
    "### Execute the model"
   ]
  },
  {
   "cell_type": "markdown",
   "metadata": {
    "colab_type": "text",
    "id": "CKHWQGyZDDwt"
   },
   "source": [
    "This has been done above"
   ]
  },
  {
   "cell_type": "markdown",
   "metadata": {
    "colab_type": "text",
    "id": "uj5NBlKqDDwt"
   },
   "source": [
    "### Customize the learning rate to 0.001 in sgd optimizer and run the model"
   ]
  },
  {
   "cell_type": "code",
   "execution_count": 24,
   "metadata": {
    "colab": {},
    "colab_type": "code",
    "id": "GLDZRV1sDDwu"
   },
   "outputs": [],
   "source": [
    "#Initialize sequential model\n",
    "model = tf.keras.models.Sequential()"
   ]
  },
  {
   "cell_type": "code",
   "execution_count": 25,
   "metadata": {
    "colab": {},
    "colab_type": "code",
    "id": "Ios8kPW3DDwy"
   },
   "outputs": [],
   "source": [
    "#Reshape data from 2D to 1D -> 28 X 28 to 784\n",
    "model.add(tf.keras.layers.Reshape((784,),input_shape=(28,28,)))"
   ]
  },
  {
   "cell_type": "code",
   "execution_count": 26,
   "metadata": {
    "colab": {},
    "colab_type": "code",
    "id": "oqUk8AqzDDw0"
   },
   "outputs": [],
   "source": [
    "#Normalize the data\n",
    "model.add(tf.keras.layers.BatchNormalization())"
   ]
  },
  {
   "cell_type": "code",
   "execution_count": 27,
   "metadata": {
    "colab": {},
    "colab_type": "code",
    "id": "NXg3EW0_DDw3"
   },
   "outputs": [],
   "source": [
    "#Add Dense Layer which provides 10 outputs after applying softmax\n",
    "model.add(tf.keras.layers.Dense(10,activation='softmax'))"
   ]
  },
  {
   "cell_type": "code",
   "execution_count": 28,
   "metadata": {
    "colab": {},
    "colab_type": "code",
    "id": "rDPWwCAKDDw_"
   },
   "outputs": [],
   "source": [
    "sgd_optimizer = tf.keras.optimizers.SGD(lr=0.001)\n",
    "model.compile(optimizer=sgd_optimizer, loss='categorical_crossentropy',metrics=['accuracy'])"
   ]
  },
  {
   "cell_type": "code",
   "execution_count": 29,
   "metadata": {
    "colab": {},
    "colab_type": "code",
    "id": "Z4n0UM6DDDxD",
    "outputId": "4fd4b04a-13df-4bde-e160-e594174e2f12"
   },
   "outputs": [
    {
     "name": "stdout",
     "output_type": "stream",
     "text": [
      "Train on 60000 samples, validate on 10000 samples\n",
      "Epoch 1/10\n",
      "60000/60000 [==============================] - 4s 64us/sample - loss: 0.9424 - acc: 0.6777 - val_loss: 0.6976 - val_acc: 0.7645\n",
      "Epoch 2/10\n",
      "60000/60000 [==============================] - 4s 60us/sample - loss: 0.6481 - acc: 0.7787 - val_loss: 0.6258 - val_acc: 0.7890\n",
      "Epoch 3/10\n",
      "60000/60000 [==============================] - 4s 72us/sample - loss: 0.5930 - acc: 0.7968 - val_loss: 0.5945 - val_acc: 0.8025\n",
      "Epoch 4/10\n",
      "60000/60000 [==============================] - 4s 59us/sample - loss: 0.5599 - acc: 0.8077 - val_loss: 0.5669 - val_acc: 0.8072\n",
      "Epoch 5/10\n",
      "60000/60000 [==============================] - 4s 69us/sample - loss: 0.5432 - acc: 0.8121 - val_loss: 0.5445 - val_acc: 0.8131\n",
      "Epoch 6/10\n",
      "60000/60000 [==============================] - 4s 64us/sample - loss: 0.5281 - acc: 0.8181 - val_loss: 0.5377 - val_acc: 0.8160\n",
      "Epoch 7/10\n",
      "60000/60000 [==============================] - 4s 60us/sample - loss: 0.5189 - acc: 0.8208 - val_loss: 0.5282 - val_acc: 0.8173\n",
      "Epoch 8/10\n",
      "60000/60000 [==============================] - 4s 59us/sample - loss: 0.5097 - acc: 0.8250 - val_loss: 0.5168 - val_acc: 0.8215\n",
      "Epoch 9/10\n",
      "60000/60000 [==============================] - 4s 60us/sample - loss: 0.5020 - acc: 0.8271 - val_loss: 0.5140 - val_acc: 0.8236\n",
      "Epoch 10/10\n",
      "60000/60000 [==============================] - 4s 63us/sample - loss: 0.4955 - acc: 0.8295 - val_loss: 0.5106 - val_acc: 0.8258\n"
     ]
    },
    {
     "data": {
      "text/plain": [
       "<tensorflow.python.keras.callbacks.History at 0x7f14a0466eb8>"
      ]
     },
     "execution_count": 29,
     "metadata": {},
     "output_type": "execute_result"
    }
   ],
   "source": [
    "model.fit(trainX,trainY,epochs=10,validation_data=(testX,testY),batch_size=32)"
   ]
  },
  {
   "cell_type": "markdown",
   "metadata": {
    "colab_type": "text",
    "id": "ji_0dSI4DDxF",
    "slideshow": {
     "slide_type": "slide"
    }
   },
   "source": [
    "### Build the Neural Network model with 3 Dense layers with 100,100(feel free to play with the no.of neurons and the layers),10 neurons respectively in each layer. Use cross entropy loss function and singmoid as activation in the hidden layers and softmax as activation function in the output layer. Use sgd optimizer with learning rate 0.03."
   ]
  },
  {
   "cell_type": "code",
   "execution_count": 30,
   "metadata": {
    "colab": {},
    "colab_type": "code",
    "id": "APfOVoedDDxG"
   },
   "outputs": [],
   "source": [
    "#Initialize sequential model\n",
    "model = tf.keras.models.Sequential()"
   ]
  },
  {
   "cell_type": "code",
   "execution_count": 31,
   "metadata": {
    "colab": {},
    "colab_type": "code",
    "id": "7bT_GSZ7DDxH"
   },
   "outputs": [],
   "source": [
    "#Reshape data from 2D to 1D -> 28 X 28 to 784\n",
    "model.add(tf.keras.layers.Reshape((784,),input_shape=(28,28,)))"
   ]
  },
  {
   "cell_type": "code",
   "execution_count": 32,
   "metadata": {
    "colab": {},
    "colab_type": "code",
    "id": "QwYx-LQzDDxO"
   },
   "outputs": [],
   "source": [
    "#Normalize the data\n",
    "model.add(tf.keras.layers.BatchNormalization())"
   ]
  },
  {
   "cell_type": "code",
   "execution_count": 33,
   "metadata": {
    "colab": {},
    "colab_type": "code",
    "id": "4gVAgLyQDDxR"
   },
   "outputs": [],
   "source": [
    "#Add Dense Layer which provides 200 hidden neurons for 1st layer with sigmoid\n",
    "model.add(tf.keras.layers.Dense(100,activation='sigmoid'))"
   ]
  },
  {
   "cell_type": "code",
   "execution_count": 34,
   "metadata": {
    "colab": {},
    "colab_type": "code",
    "id": "wLZVdPugDDxT"
   },
   "outputs": [],
   "source": [
    "#Add Dense Layer which provides 200 hidden neurons for 1st layer with sigmoid\n",
    "model.add(tf.keras.layers.Dense(100,activation='sigmoid'))"
   ]
  },
  {
   "cell_type": "code",
   "execution_count": 35,
   "metadata": {
    "colab": {},
    "colab_type": "code",
    "id": "FQvffEtbDDxU"
   },
   "outputs": [],
   "source": [
    "#Add Dense Layer which provides 100 hidden neurons for 2nd layer with sigmoid\n",
    "model.add(tf.keras.layers.Dense(10,activation='sigmoid'))"
   ]
  },
  {
   "cell_type": "code",
   "execution_count": 36,
   "metadata": {
    "colab": {},
    "colab_type": "code",
    "id": "HoLU1LiaDDxX"
   },
   "outputs": [],
   "source": [
    "#Add Dense Layer which provides 10 outputs after applying softmax\n",
    "model.add(tf.keras.layers.Dense(10,activation='softmax'))"
   ]
  },
  {
   "cell_type": "code",
   "execution_count": 37,
   "metadata": {
    "colab": {},
    "colab_type": "code",
    "id": "wj0hJlX6DDxh"
   },
   "outputs": [],
   "source": [
    "sgd_optimizer = tf.keras.optimizers.SGD(lr=0.03)\n",
    "model.compile(optimizer=sgd_optimizer, loss='categorical_crossentropy',metrics=['accuracy'])"
   ]
  },
  {
   "cell_type": "code",
   "execution_count": null,
   "metadata": {
    "colab": {},
    "colab_type": "code",
    "id": "iWO-aweFDDxl",
    "outputId": "9627736a-dcf6-47e3-cc7f-ca618024a42b"
   },
   "outputs": [
    {
     "name": "stdout",
     "output_type": "stream",
     "text": [
      "Train on 60000 samples, validate on 10000 samples\n",
      "Epoch 1/10\n",
      "60000/60000 [==============================] - 4s 70us/sample - loss: 1.8353 - acc: 0.4163 - val_loss: 1.3254 - val_acc: 0.5717\n",
      "Epoch 2/10\n",
      "60000/60000 [==============================] - 4s 70us/sample - loss: 1.1421 - acc: 0.5918 - val_loss: 0.9684 - val_acc: 0.6543\n",
      "Epoch 3/10\n",
      "60000/60000 [==============================] - 4s 70us/sample - loss: 0.8781 - acc: 0.6910 - val_loss: 0.7690 - val_acc: 0.7351\n",
      "Epoch 4/10\n",
      "60000/60000 [==============================] - 4s 70us/sample - loss: 0.7283 - acc: 0.7489 - val_loss: 0.6572 - val_acc: 0.7597\n",
      "Epoch 5/10\n",
      "60000/60000 [==============================] - 4s 74us/sample - loss: 0.6351 - acc: 0.7847 - val_loss: 0.5868 - val_acc: 0.8011\n",
      "Epoch 6/10\n",
      "60000/60000 [==============================] - 5s 77us/sample - loss: 0.5745 - acc: 0.8079 - val_loss: 0.5389 - val_acc: 0.8159\n",
      "Epoch 7/10\n",
      "60000/60000 [==============================] - 4s 68us/sample - loss: 0.5262 - acc: 0.8248 - val_loss: 0.5058 - val_acc: 0.8249\n",
      "Epoch 8/10\n",
      "60000/60000 [==============================] - 4s 70us/sample - loss: 0.4921 - acc: 0.8364 - val_loss: 0.4809 - val_acc: 0.8347\n",
      "Epoch 9/10\n",
      "60000/60000 [==============================] - 4s 69us/sample - loss: 0.4661 - acc: 0.8435 - val_loss: 0.4531 - val_acc: 0.8424\n",
      "Epoch 10/10\n",
      "30400/60000 [==============>...............] - ETA: 1s - loss: 0.4464 - acc: 0.8500"
     ]
    }
   ],
   "source": [
    "model.fit(trainX,trainY,epochs=10,validation_data=(testX,testY),batch_size=32)"
   ]
  },
  {
   "cell_type": "code",
   "execution_count": null,
   "metadata": {
    "colab": {},
    "colab_type": "code",
    "id": "T3mqM1iODDxz",
    "outputId": "473a6cb6-ee1c-4247-8d05-fefce2671912"
   },
   "outputs": [],
   "source": [
    "model.summary()"
   ]
  }
 ],
 "metadata": {
  "colab": {
   "name": "R6_ExternalLab_Solution.ipynb",
   "provenance": [],
   "version": "0.3.2"
  },
  "kernelspec": {
   "display_name": "Python 3",
   "language": "python",
   "name": "python3"
  },
  "language_info": {
   "codemirror_mode": {
    "name": "ipython",
    "version": 3
   },
   "file_extension": ".py",
   "mimetype": "text/x-python",
   "name": "python",
   "nbconvert_exporter": "python",
   "pygments_lexer": "ipython3",
   "version": "3.7.3"
  }
 },
 "nbformat": 4,
 "nbformat_minor": 4
}
