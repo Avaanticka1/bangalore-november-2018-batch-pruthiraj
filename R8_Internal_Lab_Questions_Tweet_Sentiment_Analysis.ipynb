{
 "cells": [
  {
   "cell_type": "markdown",
   "metadata": {
    "colab_type": "text",
    "id": "FU-HwvIdH0M-"
   },
   "source": [
    "## Sentiment analysis <br> \n",
    "\n",
    "The objective of the second problem is to perform Sentiment analysis from the tweets data collected from the users targeted at various mobile devices.\n",
    "Based on the tweet posted by a user (text), we will classify if the sentiment of the user targeted at a particular mobile device is positive or not."
   ]
  },
  {
   "cell_type": "markdown",
   "metadata": {
    "colab_type": "text",
    "id": "nAQDiZHRH0M_"
   },
   "source": [
    "### 1. Read the dataset (tweets.csv) and drop the NA's while reading the dataset"
   ]
  },
  {
   "cell_type": "code",
   "execution_count": 276,
   "metadata": {
    "colab": {},
    "colab_type": "code",
    "id": "3eXGIe-SH0NA"
   },
   "outputs": [],
   "source": [
    "import pandas as pd  \n",
    "import re\n",
    "data = pd.read_csv(\"tweets.csv\",encoding=\"unicode_escape\")"
   ]
  },
  {
   "cell_type": "code",
   "execution_count": 277,
   "metadata": {
    "colab": {},
    "colab_type": "code",
    "id": "CWeWe1eJH0NF"
   },
   "outputs": [
    {
     "data": {
      "text/html": [
       "<div>\n",
       "<style scoped>\n",
       "    .dataframe tbody tr th:only-of-type {\n",
       "        vertical-align: middle;\n",
       "    }\n",
       "\n",
       "    .dataframe tbody tr th {\n",
       "        vertical-align: top;\n",
       "    }\n",
       "\n",
       "    .dataframe thead th {\n",
       "        text-align: right;\n",
       "    }\n",
       "</style>\n",
       "<table border=\"1\" class=\"dataframe\">\n",
       "  <thead>\n",
       "    <tr style=\"text-align: right;\">\n",
       "      <th></th>\n",
       "      <th>tweet_text</th>\n",
       "      <th>emotion_in_tweet_is_directed_at</th>\n",
       "      <th>is_there_an_emotion_directed_at_a_brand_or_product</th>\n",
       "    </tr>\n",
       "  </thead>\n",
       "  <tbody>\n",
       "    <tr>\n",
       "      <th>0</th>\n",
       "      <td>.@wesley83 I have a 3G iPhone. After 3 hrs twe...</td>\n",
       "      <td>iPhone</td>\n",
       "      <td>Negative emotion</td>\n",
       "    </tr>\n",
       "    <tr>\n",
       "      <th>1</th>\n",
       "      <td>@jessedee Know about @fludapp ? Awesome iPad/i...</td>\n",
       "      <td>iPad or iPhone App</td>\n",
       "      <td>Positive emotion</td>\n",
       "    </tr>\n",
       "    <tr>\n",
       "      <th>2</th>\n",
       "      <td>@swonderlin Can not wait for #iPad 2 also. The...</td>\n",
       "      <td>iPad</td>\n",
       "      <td>Positive emotion</td>\n",
       "    </tr>\n",
       "    <tr>\n",
       "      <th>3</th>\n",
       "      <td>@sxsw I hope this year's festival isn't as cra...</td>\n",
       "      <td>iPad or iPhone App</td>\n",
       "      <td>Negative emotion</td>\n",
       "    </tr>\n",
       "    <tr>\n",
       "      <th>4</th>\n",
       "      <td>@sxtxstate great stuff on Fri #SXSW: Marissa M...</td>\n",
       "      <td>Google</td>\n",
       "      <td>Positive emotion</td>\n",
       "    </tr>\n",
       "  </tbody>\n",
       "</table>\n",
       "</div>"
      ],
      "text/plain": [
       "                                          tweet_text  \\\n",
       "0  .@wesley83 I have a 3G iPhone. After 3 hrs twe...   \n",
       "1  @jessedee Know about @fludapp ? Awesome iPad/i...   \n",
       "2  @swonderlin Can not wait for #iPad 2 also. The...   \n",
       "3  @sxsw I hope this year's festival isn't as cra...   \n",
       "4  @sxtxstate great stuff on Fri #SXSW: Marissa M...   \n",
       "\n",
       "  emotion_in_tweet_is_directed_at  \\\n",
       "0                          iPhone   \n",
       "1              iPad or iPhone App   \n",
       "2                            iPad   \n",
       "3              iPad or iPhone App   \n",
       "4                          Google   \n",
       "\n",
       "  is_there_an_emotion_directed_at_a_brand_or_product  \n",
       "0                                   Negative emotion  \n",
       "1                                   Positive emotion  \n",
       "2                                   Positive emotion  \n",
       "3                                   Negative emotion  \n",
       "4                                   Positive emotion  "
      ]
     },
     "execution_count": 277,
     "metadata": {},
     "output_type": "execute_result"
    }
   ],
   "source": [
    "data.head()"
   ]
  },
  {
   "cell_type": "code",
   "execution_count": 278,
   "metadata": {},
   "outputs": [
    {
     "data": {
      "text/plain": [
       "tweet_text                                               1\n",
       "emotion_in_tweet_is_directed_at                       5802\n",
       "is_there_an_emotion_directed_at_a_brand_or_product       0\n",
       "dtype: int64"
      ]
     },
     "execution_count": 278,
     "metadata": {},
     "output_type": "execute_result"
    }
   ],
   "source": [
    "data.isna().sum()"
   ]
  },
  {
   "cell_type": "code",
   "execution_count": 279,
   "metadata": {},
   "outputs": [
    {
     "data": {
      "text/plain": [
       "(9093, 3)"
      ]
     },
     "execution_count": 279,
     "metadata": {},
     "output_type": "execute_result"
    }
   ],
   "source": [
    "data.shape"
   ]
  },
  {
   "cell_type": "code",
   "execution_count": 280,
   "metadata": {},
   "outputs": [],
   "source": [
    "data.dropna(inplace=True)"
   ]
  },
  {
   "cell_type": "code",
   "execution_count": 281,
   "metadata": {},
   "outputs": [
    {
     "data": {
      "text/plain": [
       "(3291, 3)"
      ]
     },
     "execution_count": 281,
     "metadata": {},
     "output_type": "execute_result"
    }
   ],
   "source": [
    "data.shape"
   ]
  },
  {
   "cell_type": "markdown",
   "metadata": {
    "colab_type": "text",
    "id": "jPJvTjefH0NI"
   },
   "source": [
    "### 2. Preprocess the text and add the preprocessed text in a column with name `text` in the dataframe."
   ]
  },
  {
   "cell_type": "code",
   "execution_count": 282,
   "metadata": {},
   "outputs": [],
   "source": [
    "import unicodedata"
   ]
  },
  {
   "cell_type": "code",
   "execution_count": 283,
   "metadata": {
    "colab": {},
    "colab_type": "code",
    "id": "5iec5s9gH0NI"
   },
   "outputs": [],
   "source": [
    "def preprocess(text, remove_digits=False):\n",
    "    try:\n",
    "        pattern = r'[^a-zA-z0-9\\s]' if not remove_digits else r'[^a-zA-z\\s]'\n",
    "        text = unicodedata.normalize('NFKD', text).encode('ascii', 'ignore').decode('utf-8', 'ignore')\n",
    "        text = re.sub(pattern, '', text)\n",
    "        text = text.lower()\n",
    "        return text;\n",
    "    except Exception as e:\n",
    "        return \"\""
   ]
  },
  {
   "cell_type": "code",
   "execution_count": 284,
   "metadata": {
    "colab": {},
    "colab_type": "code",
    "id": "EQSmqA-vH0NT"
   },
   "outputs": [],
   "source": [
    "data['text'] = [preprocess(text,True) for text in data.tweet_text]"
   ]
  },
  {
   "cell_type": "code",
   "execution_count": 285,
   "metadata": {
    "colab": {},
    "colab_type": "code",
    "id": "7kX-WoJDH0NV"
   },
   "outputs": [
    {
     "data": {
      "text/html": [
       "<div>\n",
       "<style scoped>\n",
       "    .dataframe tbody tr th:only-of-type {\n",
       "        vertical-align: middle;\n",
       "    }\n",
       "\n",
       "    .dataframe tbody tr th {\n",
       "        vertical-align: top;\n",
       "    }\n",
       "\n",
       "    .dataframe thead th {\n",
       "        text-align: right;\n",
       "    }\n",
       "</style>\n",
       "<table border=\"1\" class=\"dataframe\">\n",
       "  <thead>\n",
       "    <tr style=\"text-align: right;\">\n",
       "      <th></th>\n",
       "      <th>tweet_text</th>\n",
       "      <th>emotion_in_tweet_is_directed_at</th>\n",
       "      <th>is_there_an_emotion_directed_at_a_brand_or_product</th>\n",
       "      <th>text</th>\n",
       "    </tr>\n",
       "  </thead>\n",
       "  <tbody>\n",
       "    <tr>\n",
       "      <th>0</th>\n",
       "      <td>.@wesley83 I have a 3G iPhone. After 3 hrs twe...</td>\n",
       "      <td>iPhone</td>\n",
       "      <td>Negative emotion</td>\n",
       "      <td>wesley i have a g iphone after  hrs tweeting a...</td>\n",
       "    </tr>\n",
       "    <tr>\n",
       "      <th>1</th>\n",
       "      <td>@jessedee Know about @fludapp ? Awesome iPad/i...</td>\n",
       "      <td>iPad or iPhone App</td>\n",
       "      <td>Positive emotion</td>\n",
       "      <td>jessedee know about fludapp  awesome ipadiphon...</td>\n",
       "    </tr>\n",
       "  </tbody>\n",
       "</table>\n",
       "</div>"
      ],
      "text/plain": [
       "                                          tweet_text  \\\n",
       "0  .@wesley83 I have a 3G iPhone. After 3 hrs twe...   \n",
       "1  @jessedee Know about @fludapp ? Awesome iPad/i...   \n",
       "\n",
       "  emotion_in_tweet_is_directed_at  \\\n",
       "0                          iPhone   \n",
       "1              iPad or iPhone App   \n",
       "\n",
       "  is_there_an_emotion_directed_at_a_brand_or_product  \\\n",
       "0                                   Negative emotion   \n",
       "1                                   Positive emotion   \n",
       "\n",
       "                                                text  \n",
       "0  wesley i have a g iphone after  hrs tweeting a...  \n",
       "1  jessedee know about fludapp  awesome ipadiphon...  "
      ]
     },
     "execution_count": 285,
     "metadata": {},
     "output_type": "execute_result"
    }
   ],
   "source": [
    "data.head(2)"
   ]
  },
  {
   "cell_type": "markdown",
   "metadata": {
    "colab_type": "text",
    "id": "OGWB3P2WH0NY"
   },
   "source": [
    "### 3. Consider only rows having Positive emotion and Negative emotion and remove other rows from the dataframe."
   ]
  },
  {
   "cell_type": "code",
   "execution_count": 286,
   "metadata": {
    "colab": {},
    "colab_type": "code",
    "id": "bdgA_8N2H0NY"
   },
   "outputs": [],
   "source": [
    "X = data[data['is_there_an_emotion_directed_at_a_brand_or_product']=='Positive emotion']"
   ]
  },
  {
   "cell_type": "code",
   "execution_count": 287,
   "metadata": {
    "colab": {},
    "colab_type": "code",
    "id": "_Jlu-reIH0Na"
   },
   "outputs": [
    {
     "data": {
      "text/plain": [
       "(2672, 4)"
      ]
     },
     "execution_count": 287,
     "metadata": {},
     "output_type": "execute_result"
    }
   ],
   "source": [
    "X.shape"
   ]
  },
  {
   "cell_type": "code",
   "execution_count": 288,
   "metadata": {},
   "outputs": [],
   "source": [
    "X_neg = data[data['is_there_an_emotion_directed_at_a_brand_or_product']=='Negative emotion']"
   ]
  },
  {
   "cell_type": "code",
   "execution_count": 289,
   "metadata": {},
   "outputs": [
    {
     "data": {
      "text/plain": [
       "(519, 4)"
      ]
     },
     "execution_count": 289,
     "metadata": {},
     "output_type": "execute_result"
    }
   ],
   "source": [
    "X_neg.shape"
   ]
  },
  {
   "cell_type": "code",
   "execution_count": 290,
   "metadata": {},
   "outputs": [],
   "source": [
    "reviewData = pd.concat([X, X_neg])"
   ]
  },
  {
   "cell_type": "code",
   "execution_count": 291,
   "metadata": {},
   "outputs": [
    {
     "data": {
      "text/plain": [
       "(3191, 4)"
      ]
     },
     "execution_count": 291,
     "metadata": {},
     "output_type": "execute_result"
    }
   ],
   "source": [
    "reviewData.shape"
   ]
  },
  {
   "cell_type": "code",
   "execution_count": 292,
   "metadata": {},
   "outputs": [
    {
     "data": {
      "text/plain": [
       "array(['Positive emotion', 'Negative emotion'], dtype=object)"
      ]
     },
     "execution_count": 292,
     "metadata": {},
     "output_type": "execute_result"
    }
   ],
   "source": [
    "reviewData['is_there_an_emotion_directed_at_a_brand_or_product'].unique()"
   ]
  },
  {
   "cell_type": "markdown",
   "metadata": {
    "colab_type": "text",
    "id": "SotCRvkDH0Nf"
   },
   "source": [
    "### 4. Represent text as numerical data using `CountVectorizer` and get the document term frequency matrix\n",
    "\n",
    "#### Use `vect` as the variable name for initialising CountVectorizer."
   ]
  },
  {
   "cell_type": "code",
   "execution_count": 293,
   "metadata": {
    "colab": {},
    "colab_type": "code",
    "id": "YcbkY4sgH0Ng"
   },
   "outputs": [],
   "source": [
    "from sklearn.feature_extraction.text import CountVectorizer"
   ]
  },
  {
   "cell_type": "code",
   "execution_count": 294,
   "metadata": {
    "colab": {},
    "colab_type": "code",
    "id": "KyXtZGr-H0Nl"
   },
   "outputs": [],
   "source": [
    "vect = CountVectorizer(stop_words = 'english') "
   ]
  },
  {
   "cell_type": "code",
   "execution_count": 295,
   "metadata": {
    "colab": {},
    "colab_type": "code",
    "id": "Z4LUM-XPH0Nn"
   },
   "outputs": [],
   "source": [
    "train_data_features = vect.fit_transform(reviewData['text'])"
   ]
  },
  {
   "cell_type": "code",
   "execution_count": 296,
   "metadata": {
    "colab": {},
    "colab_type": "code",
    "id": "aIdZYxJtH0Nq"
   },
   "outputs": [
    {
     "data": {
      "text/plain": [
       "(3191, 5706)"
      ]
     },
     "execution_count": 296,
     "metadata": {},
     "output_type": "execute_result"
    }
   ],
   "source": [
    "train_data_features.shape"
   ]
  },
  {
   "cell_type": "markdown",
   "metadata": {
    "colab_type": "text",
    "id": "5pxd5fSHH0Nt"
   },
   "source": [
    "### 5. Find number of different words in vocabulary"
   ]
  },
  {
   "cell_type": "code",
   "execution_count": 297,
   "metadata": {
    "colab": {},
    "colab_type": "code",
    "id": "p1DQ2LdNH0Nu"
   },
   "outputs": [
    {
     "name": "stdout",
     "output_type": "stream",
     "text": [
      "['______', '_______quot', 'a_', 'a_i_____oei_aoycu', 'aa', 'aapl', 'abacus', 'abandoned', 'aber', 'able', 'abroad', 'absolute', 'absolutely', 'abt', 'abuzz', 'ac', 'academy', 'acc', 'acceptable', 'access', 'accessibility', 'accessible', 'accessories', 'accessory', 'accesssxsw', 'accommodate', 'according', 'accordion', 'account', 'acerbic', 'achieve', 'acknowledge', 'aclu', 'aclugoogle', 'aclus', 'acquired', 'acrosse', 'action', 'actionquot', 'actions', 'activate', 'activations', 'activity', 'actors', 'actsofsharingcom', 'actual', 'actually', 'acwhats', 'ad', 'adam', 'adams', 'adapt', 'adaptive', 'add', 'added', 'addictedtotheinterwebs', 'addictive', 'addicts', 'adding', 'addition', 'additional', 'address', 'adfonic', 'admired', 'admission', 'admit', 'admits', 'admitting', 'ado', 'adopter', 'adopters', 'adoption', 'adpeopleproblems', 'ads', 'advanced', 'advent', 'adventure', 'advertising', 'advice', 'advisory', 'affair', 'affirmative', 'afford', 'afraid', 'africans', 'afternoon', 'agchat', 'agencies', 'agency', 'agenda', 'agents', 'agileagency', 'agnerd', 'ago', 'agoquot', 'agree', 'agreed', 'ah', 'ahead', 'ahem', 'ahh', 'ahhh', 'ahing', 'aicn', 'aiding', 'aim', 'aint', 'air', 'airline', 'airlines', 'airplane', 'airport', 'airports', 'airs', 'aka', 'akqas', 'al', 'alamo', 'alan', 'alarm', 'alarms', 'alas', 'alcoholics', 'alert', 'alerts', 'alex', 'alive', 'allbutconfirmed', 'allow', 'allowing', 'alot', 'alphagraphics', 'alreadydwindling', 'alt', 'alternate', 'alternative', 'alwayshavingtoplugin', 'amateurhour', 'amazing', 'amazingly', 'amazon', 'ambassador', 'america', 'americaquot', 'amex', 'amigos', 'amp', 'ampapple', 'ampipad', 'amused', 'amusing', 'analysis', 'analytics', 'andoid', 'andor', 'andriod', 'android', 'androidchromeos', 'androidiphone', 'androids', 'androidsxsw', 'andronerds', 'angry', 'angrybirds', 'announce', 'announced', 'announces', 'announcing', 'annoyed', 'annoying', 'anothu_', 'answer', 'answered', 'anti', 'antiapple', 'anticipate', 'antigov', 'antique', 'antonio', 'antwoord', 'anxious', 'anybody', 'anybodywanttobuymeanipad', 'anymore', 'anyones', 'anywaysquot', 'anywhereuntil', 'aos', 'ap', 'apac', 'apartment', 'api', 'apis', 'app', 'apparent', 'apparently', 'appcircus', 'appeal', 'appealing', 'appear', 'appears', 'appits', 'applauds', 'applause', 'apple', 'apple_store', 'appleaddiction', 'appleatxdt', 'applebreeds', 'appleduh', 'applefanatic', 'applefanboyism', 'applegoogle', 'applequot', 'applequotthe', 'apples', 'appletakingoverworld', 'appletore', 'appleuas', 'application', 'applications', 'appolicious', 'appquot', 'appreciate', 'appreciation', 'approach', 'approaches', 'approval', 'approved', 'approves', 'apps', 'appu', 'aquent', 'arcade', 'archive', 'arctic', 'arduino', 'areas', 'arent', 'arg', 'argues', 'argument', 'aristotle', 'arm', 'armadillo', 'armed', 'aron', 'aroundquot', 'arrived', 'arrives', 'arriving', 'art', 'article', 'articles', 'articulate', 'artificial', 'artist', 'artistic', 'artists', 'artistsquot', 'artwork', 'artworks', 'arw', 'asddieu', 'ask', 'asked', 'asking', 'asleep', 'ass', 'assistedquot', 'assistedquotsxsw', 'assistivetech', 'assume', 'ataesxsw', 'atampt', 'atari', 'atl', 'atms', 'atrix', 'att', 'attached', 'attempt', 'attend', 'attended', 'attendees', 'attendeesyou', 'attending', 'attention', 'attitudes', 'attracted', 'attracting', 'attractive', 'atx', 'atzip', 'audience', 'audio', 'augcomm', 'augmented', 'augmentedreality', 'aunties', 'aus', 'austin', 'austinarea', 'austinbergstrom', 'austinbound', 'austincrowd', 'austinites', 'austinquot', 'austins', 'austintx', 'austinwins', 'australian', 'ausxsw', 'auth', 'authenticator', 'authorization', 'autistic', 'auto', 'autocorrect', 'autocorrects', 'autonomous', 'avail', 'available', 'ave', 'avenue', 'average', 'averages', 'avoid', 'avoiding', 'aw', 'awake', 'award', 'awards', 'awareness', 'away', 'awe', 'awesome', 'awesomely', 'awesomeness', 'awesomesxsw', 'awesometiming', 'awhile', 'awkward', 'awwww', 'baaah', 'baby', 'background', 'backlight', 'backpack', 'backquot', 'backup', 'backupify', 'bad', 'badge', 'badgeless', 'badges', 'bag', 'bags', 'bahahahaha', 'bajillions', 'balance', 'balckberries', 'balcony', 'ball', 'ballroom', 'ballrooms', 'banality', 'band', 'bands', 'bandsquot', 'bandwaggoners', 'bandwidth', 'bang', 'banged', 'bank', 'banking', 'bankinnovate', 'bankinnovation', 'banks', 'bar', 'barcode', 'barely', 'barring', 'barroom', 'barry', 'barrydiller', 'bars', 'bart', 'barton', 'based', 'bashing', 'basic', 'basically', 'basicallyquot', 'basics', 'basis', 'basket', 'bastards', 'bat', 'bathroom', 'batphone', 'batt', 'batteries', 'battery', 'batterykiller', 'batteryu', 'battle', 'battledecks', 'battlela', 'bavcid', 'bawling', 'bb', 'bbq', 'bc', 'bday', 'beach', 'beans', 'bear', 'bearcreatures', 'beard', 'beat', 'beats', 'beautiful', 'beautifully', 'beauty', 'bed', 'beechwood', 'beer', 'beforetwitter', 'begin', 'beginning', 'begins', 'behance', 'behave', 'behaving', 'behavior', 'believe', 'belinsky', 'belong', 'beluga', 'ben', 'benefit', 'benieuwd', 'bereft', 'berklee', 'bernd', 'berry', 'best', 'bestappever', 'bestie', 'bet', 'beta', 'betainvites', 'better', 'bettercloud', 'betterquot', 'bettersearch', 'betterthey', 'betterthingstodo', 'beware', 'bff', 'bicycle', 'big', 'bigger', 'biggest', 'bike', 'billion', 'bin', 'bing', 'bingicanhas', 'bings', 'biomimicry', 'bird', 'birds', 'birth', 'birthday', 'bit', 'bite', 'bitlyajs', 'bitlyeazgd', 'bitlygmzb', 'bitlyih', 'biz', 'bizzy', 'bjdproductions', 'black', 'blackberry', 'blackbook', 'blacked', 'blame', 'blast', 'bleed', 'blew', 'blind', 'blinksale', 'block', 'blocked', 'blockguess', 'blocking', 'blocks', 'blog', 'bloggable', 'blogger', 'blogging', 'blogs', 'bloody', 'bloomberg', 'blows', 'blue', 'blueray', 'bluetooth', 'bluezoom', 'blurs', 'bmm', 'bnet', 'board', 'boarded', 'body', 'bomb', 'boo', 'book', 'bookbook', 'books', 'booksconferences', 'boom', 'boomers', 'boomersquot', 'boost', 'booth', 'boots', 'booyah', 'booze', 'bored', 'born', 'borrow', 'borrowing', 'boss', 'botch', 'bother', 'bots', 'bought', 'bounced', 'boundaries', 'bout', 'bowl', 'box', 'boxee', 'boxes', 'boy', 'boyfriend', 'boys', 'bpm', 'bracket', 'brah', 'brain', 'brainwashed', 'brand', 'branded', 'brands', 'bravo', 'brawls', 'brazils', 'bread', 'break', 'breakdown', 'breakfast', 'breaking', 'breakout', 'breakthrough', 'breathtaking', 'brian_lam', 'brick', 'bricklins', 'bridging', 'brightens', 'brightness', 'brilliance', 'brilliant', 'brillianti', 'bring', 'bringing', 'brings', 'brisk', 'british', 'brits', 'brk', 'bro', 'broadcast', 'broadcastr', 'broadfeed', 'broken', 'brother', 'brought', 'browse', 'browser', 'browserwars', 'browsing', 'bruises', 'brushstroke', 'bryce', 'bs', 'bt', 'btchin', 'btw', 'bubble', 'bucket', 'buffalo', 'bug', 'bugger', 'buggy', 'bugs', 'build', 'building', 'buildings', 'built', 'bulletin', 'bummed', 'bummer', 'bumped', 'bunch', 'burn', 'bursts', 'bus', 'busdev', 'business', 'businesses', 'busy', 'butt', 'button', 'buttons', 'butts', 'buy', 'buyers', 'buying', 'buys', 'buzz', 'buzzing', 'buzzquot', 'buzzrt', 'bynd', 'bythepool', 'cab', 'cabbies', 'cable', 'cables', 'cabs', 'cactus', 'cah', 'cake', 'calendar', 'calhoun', 'california', 'callay', 'callback', 'called', 'callooh', 'calls', 'calyp', 'cam', 'came', 'camera', 'cameras', 'campaigns', 'campbell', 'campus', 'canada', 'canadian', 'cancel', 'canuat', 'canvas', 'capabilities', 'capitol', 'capped', 'captain', 'capture', 'captured', 'car', 'caramel', 'carbon', 'card', 'cards', 'care', 'career', 'caring', 'carroll', 'carry', 'carrying', 'cart', 'cartel', 'cartoon', 'cartoonishly', 'caruse', 'case', 'casedevice', 'cases', 'cash', 'cashmere', 'cashmore', 'cast', 'castle', 'casually', 'cat', 'catch', 'catching', 'catphysics', 'cattle', 'cause', 'caused', 'causing', 'cautiously', 'cbatsxsw', 'cc', 'cedar', 'celebrate', 'celebrating', 'celebs', 'cell', 'cellular', 'center', 'centers', 'central', 'centre', 'cents', 'ceo', 'ceokidschat', 'cera', 'cerebellum', 'cerebral', 'certain', 'certificate', 'ces', 'chain', 'chairsxsw', 'chalked', 'challenge', 'challenged', 'challenges', 'champ', 'chan', 'chance', 'chances', 'change', 'changed', 'changer', 'changes', 'changing', 'channel', 'channels', 'chaos', 'characters', 'charge', 'charged', 'charger', 'chargers', 'charges', 'chargindiffphonesatonce', 'charging', 'charity', 'charles', 'charm', 'charmgtgtgt', 'charts', 'chat', 'chatter', 'chatting', 'cheapen', 'cheaper', 'check', 'checked', 'checkin', 'checking', 'checkins', 'checkinthing', 'checkout', 'cheeky', 'cheer', 'cheers', 'cheese', 'chen', 'chevy', 'chevysmc', 'chevysxsw', 'chevytweethouse', 'chiao', 'chic', 'chief', 'child', 'childhood', 'chill', 'chilltab', 'china', 'chinese', 'chip', 'chk', 'chng', 'choice', 'chokes', 'choose', 'choplifter', 'choreography', 'chris', 'christian', 'christmas', 'chrome', 'chronicling', 'chumps', 'chunky', 'cigarettes', 'cinema', 'circle', 'circles', 'circlesquot', 'circlestoday', 'circlesu', 'circusmash', 'cited', 'cites', 'city', 'ck', 'cks', 'claims', 'clarity', 'clark', 'clarks', 'class', 'classics', 'classiest', 'classy', 'cle', 'clean', 'clear', 'clearly', 'cleveland', 'clever', 'clicked', 'client', 'clients', 'climbing', 'clipcon', 'clocks', 'close', 'closed', 'closely', 'closer', 'clothes', 'cloud', 'cloudapp', 'cloudsight', 'clumsily', 'cluster', 'cluttering', 'cm', 'cmon', 'cmswire', 'cmty', 'cnet', 'cnn', 'cnngrill', 'cnnmoney', 'cnnmoneysxsw', 'cnt', 'cntr', 'cobra', 'cocaine', 'cocky', 'cocoon', 'code', 'coded', 'coders', 'coding', 'coffee', 'cohen', 'cohosting', 'coincide', 'coincides', 'cold', 'colin', 'collab', 'collection', 'collective', 'collectively', 'color', 'colors', 'colour', 'combine', 'combines', 'comcom', 'come', 'comedy', 'comequot', 'comers', 'comes', 'comfort', 'comfortable', 'coming', 'commandeered', 'comment', 'comments', 'common', 'comms', 'communal', 'communicate', 'communication', 'communications', 'communicationsua', 'community', 'comp', 'compan', 'companies', 'company', 'companyapple', 'companynice', 'companys', 'compared', 'compatible', 'compels', 'compete', 'competition', 'competitor', 'competitorsquot', 'compiling', 'complement', 'complete', 'completely', 'complex', 'complicated', 'composed', 'computer', 'computerquot', 'computers', 'computing', 'concentrate', 'concept', 'concert', 'concertgoers', 'condense', 'conf', 'conference', 'conferencesevents', 'conferencesquot', 'conferencesquotu', 'confession', 'configuration', 'confines', 'confirmed', 'conflagration', 'confusion', 'congrats', 'congratulation', 'congratulations', 'congress', 'connect', 'connected', 'connectedbrands', 'connectedcar', 'connectedtv', 'connectivity', 'connects', 'conquered', 'consciously', 'considering', 'consistent', 'consistently', 'constant', 'consultation', 'consultationquot', 'consulting', 'consume', 'consumer', 'consumerfacing', 'consumerists', 'consumerization', 'cont', 'contact', 'content', 'contentquot', 'contentrules', 'contest', 'context', 'contextual', 'continued', 'continues', 'continuous', 'continuum', 'control', 'controller', 'contu_', 'conv', 'convenient', 'conveniently', 'convention', 'conventions', 'converge', 'conversation', 'conversations', 'conversion', 'convience', 'convince', 'convinced', 'convore', 'cool', 'coolas', 'cooler', 'coolest', 'coolhaus', 'coordinate', 'cope', 'copia', 'copper', 'cops', 'copy', 'cor', 'cord', 'cordless', 'cords', 'core', 'corner', 'corporate', 'corporation', 'corralling', 'correct', 'correcting', 'corrupted', 'cost', 'costume', 'couch', 'couchfan', 'cough', 'count', 'counting', 'country', 'couple', 'coupons', 'course', 'coursemaybe', 'courtesy', 'courtside', 'courtyard', 'cover', 'coverage', 'covered', 'covering', 'covet', 'cow', 'cowboy', 'cpa', 'cr', 'crack', 'crackberry', 'crafty', 'crap', 'crapkit', 'crapped', 'crappy', 'craps', 'crash', 'crashed', 'crasherquot', 'crashes', 'crashing', 'crashingquot', 'crashy', 'crave', 'craving', 'craziness', 'crazy', 'crazyco', 'crazyfest', 'crazylong', 'cream', 'create', 'created', 'creates', 'creating', 'creative', 'creatively', 'creativequot', 'creativity', 'creator', 'credit', 'creek', 'creeper', 'crew', 'cried', 'crippling', 'crisis', 'critiques', 'cross', 'crossed', 'crowd', 'crowdbeacon', 'crowdcurated', 'crowded', 'crowds', 'crowdsourcing', 'crowley', 'crunch', 'crushing', 'crushit', 'cruze', 'cs', 'csr', 'cstejas', 'csuitecsourcing', 'ctia', 'cult', 'culture', 'cunning', 'cup', 'cupcake', 'cupertino', 'cups', 'curatedebate', 'curiosity', 'curious', 'current', 'curse', 'cursing', 'cursor', 'cursorquot', 'custom', 'custome', 'customer', 'customers', 'cut', 'cute', 'cuts', 'cutsies', 'cuz', 'cwc', 'cwebb', 'cynical', 'dah', 'dahl', 'daily', 'dairy', 'dalicanvas', 'damage', 'damm', 'dammit', 'damn', 'damon', 'dan', 'dance', 'dancing', 'dandy', 'danfung', 'dang', 'dangerous', 'daniel', 'danny', 'dark', 'darn', 'darryl', 'das', 'dat', 'data', 'database', 'date', 'dating', 'david', 'davisdesigning', 'dawdled', 'dawg', 'dawns', 'day', 'dayfrom', 'daylight', 'dayquot', 'days', 'dayweekend', 'dead', 'deadlinequot', 'deadly', 'deal', 'dealing', 'deals', 'dear', 'death', 'debating', 'debut', 'debuting', 'debuts', 'decade', 'decent', 'decide', 'decided', 'deciding', 'decision', 'deck', 'dedication', 'deeper', 'def', 'default', 'deficit', 'define', 'defining', 'definitely', 'deforestation', 'degrees', 'dehumanizing', 'delay', 'delayed', 'delegates', 'delete', 'deleting', 'delicious', 'deliciously', 'deliciousness', 'delight', 'delightful', 'deliver', 'delivered', 'delivery', 'dell', 'delving', 'demand', 'demo', 'democracy', 'demoed', 'demoing', 'demonstrate', 'demonstrates', 'demonstration', 'demos', 'denies', 'dennis', 'denotes', 'dense', 'density', 'depeche', 'depressed', 'described', 'design', 'designed', 'designers', 'designersdevs', 'designflaws', 'designing', 'designingforkids', 'designui', 'desk', 'desktop', 'desktops', 'desperate', 'desperately', 'despite', 'destroyed', 'detailed', 'details', 'detect', 'detection', 'dev', 'develop', 'developed', 'developer', 'developers', 'developing', 'development', 'deviantart', 'device', 'devicequot', 'devices', 'devs', 'dexteria', 'dfcbto', 'dfp', 'dfw', 'dgtltribe', 'diabetes', 'dictaphone', 'dictatorship', 'did', 'didnt', 'die', 'died', 'diegopacific', 'dieing', 'dies', 'diet', 'diferenciart', 'diff', 'difference', 'different', 'dig', 'digg', 'digging', 'digibiz', 'digital', 'digitally', 'digitalphysical', 'dilemma', 'diller', 'dillers', 'dimensional', 'dine', 'dinner', 'direct', 'direction', 'directions', 'director', 'directors', 'dirty', 'dis', 'disabilities', 'disagree', 'disappointed', 'disappointingly', 'disaster', 'disc', 'discotalk', 'discover', 'discovered', 'discovery', 'discoveryquot', 'discovr', 'discuss', 'discusses', 'discussion', 'disgraceful', 'disgusted', 'disliking', 'disney', 'disneyland', 'display', 'displaying', 'disrupt', 'disruptive', 'disrupts', 'dissapointment', 'distance', 'distribution', 'disturbing', 'ditch', 'divide', 'dividends', 'dj', 'djroe', 'dk', 'dl', 'dm', 'doc', 'dock', 'docomo', 'docs', 'documented', 'documents', 'dodgeball', 'dodo', 'does', 'doesdroid', 'doesnt', 'dofollow', 'dog', 'dogs', 'doing', 'doityourself', 'dokobots', 'dollar', 'dollars', 'domain', 'dominance', 'domo', 'donate', 'donates', 'donating', 'donglequot', 'donline', 'dont', 'dontbehatin', 'donuat', 'doo', 'doodle', 'doodles', 'doofusness', 'door', 'dorkinout', 'dotco', 'double', 'doubly', 'doubt', 'douche', 'douchebag', 'douchebaggery', 'doucheput', 'dow', 'download', 'downloaded', 'downloading', 'downloads', 'downside', 'downstairs', 'downtown', 'dr_black', 'drafthouse', 'drag', 'draining', 'draw', 'drawing', 'draws', 'dream', 'dreams', 'drink', 'drinks', 'drive', 'driven', 'drivers', 'drives', 'driving', 'droid', 'drooling', 'drop', 'dropped', 'dropping', 'drowning', 'drug', 'drumroll', 'drupalcon', 'dst', 'dt', 'dtas', 'ducks', 'dude', 'duking', 'dumped', 'dunno', 'durable', 'dwindled', 'dyac', 'dynamic', 'dynamics', 'eagerly', 'earbud', 'earbuds', 'earlier', 'early', 'earphones', 'earplugs', 'ears', 'earth', 'earthhour', 'earthquake', 'earthquaketsunami', 'earths', 'easeljs', 'easier', 'easy', 'eat', 'eatdrinktweet', 'eating', 'eats', 'ebay', 'ebooks', 'echofon', 'ecodriving', 'economyquot', 'ecosystem', 'edible', 'edition', 'edtech', 'education', 'educational', 'effective', 'efficient', 'effing', 'effort', 'efforts', 'egomaniacs', 'eh', 'elbow', 'election', 'electronics', 'elegant', 'elegantquot', 'elements', 'elevate', 'elevation', 'elonsxsw', 'email', 'emails', 'embarrassed', 'emc', 'eminent', 'emotional', 'employee', 'employees', 'empowered', 'emulates', 'enable', 'enables', 'enchanted', 'enchanting', 'enchantment', 'end', 'endeavor', 'ended', 'endorsed', 'endorsement', 'ends', 'energy', 'engage', 'engagement', 'engaging', 'engine', 'engineer', 'engines', 'english', 'enhancements', 'enjoy', 'enjoyed', 'enjoying', 'enjoys', 'enlightening', 'enoughquot', 'ensue', 'enter', 'entered', 'enterprise', 'entertaining', 'entire', 'entirely', 'entrepreneur', 'entry', 'enuf', 'enviro', 'environment', 'environmental', 'envisioning', 'envy', 'epic', 'epicenter', 'epicurious', 'equity', 'er', 'era', 'eric', 'error', 'ers', 'escape', 'esp', 'especially', 'essential', 'essentially', 'essentials', 'estate', 'et', 'etcall', 'etchasketch', 'etsy', 'europe', 'eurosxsw', 'evade', 'evaporation', 'evening', 'event', 'eventprofs', 'events', 'eventseekr', 'eventually', 'everbody', 'evernote', 'everybody', 'everyday', 'everyones', 'everytime', 'everywherei', 'evidence', 'evil', 'evilquot', 'evo', 'evolving', 'evolvingworkplace', 'evoquot', 'ex', 'exactly', 'example', 'examples', 'excellent', 'exceptionally', 'exchange', 'excited', 'excitement', 'exciting', 'excludes', 'exclusive', 'excuse', 'executed', 'executing', 'exhibit', 'exhibitors', 'exist', 'existence', 'existencequot', 'existenceu', 'existent', 'exists', 'expansion', 'expect', 'expectation', 'expected', 'expecting', 'expensive', 'experience', 'experiential', 'experiment', 'experimenting', 'expert', 'experts', 'expertsquot', 'expierence', 'explaining', 'explanation', 'exploiting', 'explorer', 'explorers', 'exploring', 'exported', 'exposing', 'express', 'exquisite', 'extended', 'extenders', 'extra', 'extraordinary', 'extras', 'eyeballed', 'eyes', 'fab', 'fabulous', 'face', 'facebook', 'facebookcompowermat', 'facepalmed', 'facetime', 'facist', 'fact', 'factor', 'facts', 'fades', 'fail', 'failed', 'failing', 'failure', 'fair', 'fake', 'false', 'fam', 'familiarize', 'famous', 'fan', 'fanboy', 'fanboydom', 'fanboys', 'fancrazed', 'fandango', 'fanquot', 'fans', 'fantastic', 'fantastico', 'far', 'farmers', 'farmquot', 'farmville', 'farooqui', 'fascinating', 'fascist', 'fashion', 'fast', 'fastcompanygrill', 'fastcompanygrille', 'faster', 'fastest', 'fastsociety', 'fat', 'fathom', 'faulty', 'fav', 'fave', 'favorite', 'favorited', 'favorites', 'favour', 'fawning', 'fb', 'fear', 'feature', 'featured', 'features', 'featuring', 'feckin', 'fed', 'feed', 'feeding', 'feel', 'feelin', 'feeling', 'feelings', 'feels', 'fees', 'fell', 'fellow', 'fellowship', 'felt', 'ferris', 'ferriss', 'fessing', 'fest', 'festgoers', 'festival', 'festivalexplorer', 'festivalgenius', 'fetishism', 'ff', 'fh', 'fi_r', 'field', 'fiendishly', 'fight', 'fighting', 'figure', 'figuring', 'filling', 'film', 'filmaster', 'filming', 'filter', 'filters', 'fin', 'final', 'finalist', 'finalists', 'finally', 'finals', 'finder', 'finding', 'fine', 'finger', 'fingerprint', 'fingers', 'finished', 'firstworldproblems', 'fishing', 'fists', 'fit', 'fits', 'fives', 'fix', 'fixing', 'flaming', 'flannel', 'flash', 'flashspecial', 'flask', 'flavor', 'flaw', 'flawless', 'fleets', 'flew', 'flight', 'flights', 'flip', 'flipboard', 'flipboards', 'floating', 'flocking', 'flood', 'floor', 'flop', 'florian', 'flow', 'fludapp', 'fluid', 'flummoxed', 'fly', 'flying', 'flypost', 'fmsignal', 'focus', 'focuses', 'focusing', 'fogo', 'foing', 'folks', 'follow', 'followed', 'followers', 'following', 'followings', 'fond', 'fondling', 'fonts', 'fontspretty', 'food', 'foodies', 'foodspotting', 'fools', 'foot', 'footage', 'footnotes', 'forbes', 'forbidden', 'force', 'forecast', 'forests', 'forever', 'forget', 'forgo', 'forgot', 'forgotten', 'form', 'format', 'formation', 'formula', 'forward', 'foster', 'foursquare', 'foursquaregowalla', 'fr', 'frabjous', 'fragmentation', 'franchised', 'francisco', 'franco', 'frank', 'franken', 'freak', 'freaking', 'free', 'freelink', 'freespeech', 'freeze', 'frenzy', 'fresh', 'fri', 'frickin', 'fricking', 'frid', 'friday', 'fridaythe', 'friend', 'friendly', 'friends', 'frm', 'frontend', 'frood', 'frostwire', 'frothy', 'frozen', 'fruit', 'frustrated', 'frustrating', 'frustration', 'ft', 'ftp', 'ftw', 'fuck', 'fucking', 'fuckit', 'fuckyeah', 'fuel', 'fullforce', 'fullswing', 'fulltime', 'fully', 'fun', 'function', 'functions', 'fundraising', 'funny', 'funnysad', 'fusion', 'future', 'futurecast', 'futuremf', 'futureoftouch', 'futurequot', 'fwd', 'fxsw', 'fyi', 'gabacustweets', 'gadget', 'gadgetaddicted', 'gadgetenvy', 'gadgets', 'gadgetzilla', 'gaga', 'gah', 'galaxy', 'gallery', 'game', 'gamechanger', 'gamelayer', 'gamequot', 'games', 'gamesfortv', 'gamestorming', 'gaming', 'gap', 'garageband', 'garyvee', 'gas', 'gasps', 'gatekeeperquot', 'gathering', 'gave', 'gawking', 'gay', 'gayno', 'gb', 'gear', 'gecko', 'gee', 'geek', 'geekdate', 'geekdilemma', 'geekdom', 'geekdouche', 'geekery', 'geekest', 'geekfest', 'geeking', 'geekout', 'geeks', 'geekspringbreak', 'geeksrule', 'geeky', 'gen', 'general', 'generally', 'generated', 'generations', 'generous', 'genius', 'geniuses', 'gents', 'geo', 'geogames', 'geolocation', 'germ', 'gesture', 'getjarsxsw', 'gets', 'getting', 'gettinng', 'giant', 'gibson', 'giddy', 'gift', 'gig', 'giggle', 'gigs', 'ginger', 'girl', 'girlcrush', 'girls', 'git', 'gitchococktailon', 'giveaway', 'giveaways', 'given', 'gives', 'giving', 'glad', 'glass', 'glasses', 'glenda', 'glimpse', 'global', 'globalbestaward', 'globally', 'glowing', 'glowinthedark', 'glued', 'gmail', 'god', 'goddamn', 'godquot', 'godsend', 'goer', 'goers', 'goes', 'gogglers', 'goggles', 'gogo', 'goin', 'going', 'gold', 'golds', 'gone', 'gonna', 'gonnagetanipad', 'goo', 'good', 'goodcustomerservice', 'gooddeed', 'goodguide', 'goodi', 'goodness', 'goog', 'google', 'googleaclu', 'googleaclueff', 'googlebing', 'googleblog', 'googlebread', 'googlecircles', 'googlecom', 'googled', 'googledoodle', 'googledoodles', 'googlegays', 'googleio', 'googlemaps', 'googleplaces', 'googlequot', 'googles', 'googlesponsored', 'googletv', 'goona', 'got', 'gotta', 'gotten', 'gotto', 'goua', 'government', 'gowalla', 'gps', 'gpsaware', 'gr', 'grab', 'grabbed', 'grabs', 'gram', 'gran', 'grand', 'grant', 'granted', 'grape', 'graph', 'graphics', 'grateful', 'gratification', 'great', 'greater', 'greatergood', 'greatest', 'greet', 'greeted', 'griddler', 'griffin', 'grill', 'grille', 'grindr', 'grl', 'grooving', 'ground', 'group', 'groupchatapps', 'groupedin', 'groupgraphicly', 'groupme', 'groupon', 'groups', 'grouptexting', 'grow', 'growing', 'grown', 'grrr', 'grrrplancast', 'grrrr', 'grumbling', 'gs', 'gsdampm', 'gsdm', 'gswsxsw', 'gt', 'gtgt', 'gtgtreally', 'gthttpbitlyaxzwxb', 'gtlink', 'gtpower', 'guard', 'guardian', 'guards', 'guess', 'guessing', 'guest', 'guguchu', 'guide', 'guides', 'guild', 'guilty', 'guitar', 'gun', 'guru', 'guy', 'guykawasaki', 'guys', 'gym', 'ha', 'habits', 'hack', 'hackathon', 'hacker', 'hackers', 'hacknews', 'hah', 'haha', 'hairy', 'haiti', 'half', 'halffriends', 'halfway', 'hall', 'halls', 'hallway', 'hamsandwich', 'hand', 'handheld', 'handicapped', 'handing', 'handle', 'handled', 'hands', 'handset', 'handsome', 'handwriting', 'handy', 'hang', 'hanging', 'hangover', 'hannukah', 'happen', 'happened', 'happening', 'happensxsw', 'happiest', 'happily', 'happy', 'happydance', 'happyquot', 'hard', 'hardearned', 'harlow', 'harnessing', 'harris', 'hash', 'hashable', 'hashtag', 'hashtags', 'hassle', 'hate', 'hated', 'haul', 'hauling', 'havent', 'havenuat', 'having', 'havnt', 'hawk', 'hawt', 'haystack', 'haz', 'hckers', 'hcsm', 'hdmi', 'head', 'headaches', 'headachesquot', 'headed', 'heading', 'headline', 'headphones', 'heads', 'headsets', 'healthdev', 'hear', 'heard', 'hearing', 'heart', 'heat', 'heating', 'heatmap', 'heats', 'heattracker', 'heavenly', 'heavens', 'heavier', 'heck', 'held', 'hell', 'hello', 'help', 'helped', 'helpful', 'helping', 'helps', 'hereforwork', 'herequot', 'heres', 'heresxsw', 'hes', 'hey', 'heyo', 'hhaha', 'hhrs', 'hi', 'hidden', 'hide', 'high', 'higher', 'highfive', 'highfiving', 'highlight', 'highlights', 'highly', 'hijack', 'hilarious', 'hill', 'hilton', 'hint', 'hints', 'hip', 'hipstamatic', 'hipster', 'hipstergeekstartup', 'hipstermuch', 'hipsters', 'hire', 'hireme', 'hirer', 'hisher', 'history', 'historyquot', 'hisxsw', 'hit', 'hitlantis', 'hitlantiscom', 'hivethinkquot', 'hls', 'hm', 'hmm', 'hmmcant', 'hmmm', 'hmmmtaxi', 'hmmonly', 'hmmzies', 'ho', 'hobo', 'hoc', 'hold', 'holding', 'hole', 'holla', 'holler', 'hollergram', 'hollow', 'hollrback', 'hollrbackcom', 'hollywood', 'holy', 'holytrafficjams', 'home', 'homeless', 'homepage', 'honesty', 'honor', 'honors', 'hoo', 'hook', 'hooked', 'hoooooooooooooo', 'hooray', 'hoot', 'hooting', 'hootsuite', 'hop', 'hope', 'hopefully', 'hopes', 'hoping', 'hopkins', 'hordes', 'horrendous', 'horrible', 'horror', 'hosted', 'hot', 'hotel', 'hotels', 'hotpot', 'hotspot', 'hottest', 'hour', 'hours', 'house', 'housego', 'housing', 'howdy', 'howmto', 'hows', 'hp', 'hpsxsw', 'hr', 'hrs', 'ht', 'html', 'htmljs', 'httpbitlyetsbzk', 'httpbitlygvlrin', 'httpbitlyhtdfim', 'httpbitlyieavob', 'httpitunesapplecomusapphollergramidmt', 'httpjmpgrnpk', 'httpsmarketandroidcomdetailsidcomborderstyloretrollect', 'httptcoaxvwc', 'httptcoggzypv', 'httptinyurlcomnqvl', 'httptumblrcomxtpiav', 'httu_', 'hubby', 'huge', 'human', 'hundreds', 'hunger', 'hungry', 'hunt', 'hunts', 'hurricaneparty', 'hurt', 'husband', 'huzzah', 'hyatt', 'hype', 'hyped', 'ia', 'iads', 'ical', 'ice', 'icebreaker', 'iconbuffet', 'id', 'idea', 'ideally', 'ideas', 'identity', 'idiocy', 'idiot', 'idk', 'idol', 'idontbelieve', 'ifrom', 'ignite', 'ignorequot', 'igottagetit', 'ihop', 'ijustshatmyfanboyknickers', 'il', 'ill', 'illadef', 'illegal', 'illmakeitwork', 'iloveasurprise', 'im', 'imac', 'imacs', 'image', 'images', 'imagine', 'imanidiot', 'imanoutcast', 'imho', 'immersive', 'immobile', 'imo', 'imos', 'imp', 'impact', 'impactdashboard', 'impediment', 'impedimenta', 'implement', 'implementation', 'implementing', 'implode', 'important', 'impossible', 'impressed', 'impression', 'impressions', 'impressive', 'impromptu', 'improve', 'improvement', 'improvements', 'improvemnt', 'impulse', 'impulsive', 'imrich', 'imthatgood', 'inane', 'inapp', 'inbox', 'incapable', 'incenticize', 'incl', 'include', 'included', 'includes', 'including', 'incorrect', 'increase', 'incredible', 'incredibly', 'inde', 'indicates', 'indigenous', 'individuals', 'indoor', 'industry', 'industryquot', 'infektd', 'inferior', 'influence', 'influencers', 'influx', 'info', 'informal', 'information', 'informed', 'ingenious', 'initial', 'initiative', 'ink', 'innacurate', 'inner', 'innotribe', 'innovate', 'innovating', 'innovation', 'innovative', 'innovators', 'input', 'ins', 'insane', 'insanely', 'insatiable', 'insertion', 'inside', 'insiders', 'insidious', 'insight', 'insightful', 'insights', 'insists', 'inspiring', 'instagram', 'install', 'installed', 'installing', 'installs', 'instant', 'instantly', 'instead', 'instruments', 'integrated', 'integration', 'intel', 'intelligence', 'intelligent', 'intended', 'intense', 'intentionally', 'interact', 'interactive', 'interested', 'interesting', 'interface', 'interfaces', 'intermittent', 'international', 'internet', 'internetonlinewebsitecom', 'internets', 'interrupt', 'interview', 'interviewed', 'intimate', 'intimidated', 'intrestin', 'intricate', 'intriguing', 'intro', 'introduced', 'introduces', 'intrvw', 'invades', 'inventing', 'inventory', 'invest', 'investment', 'investor', 'investors', 'invisible', 'invite', 'invited', 'invites', 'invoking', 'inyourface', 'ios', 'iosiphone', 'ip', 'ipad', 'ipad_', 'ipaddesignheadaches', 'ipading', 'ipadiphone', 'ipadipod', 'ipadlook', 'ipadmadness', 'ipadmobile', 'ipadonly', 'ipadperson', 'ipadquot', 'ipads', 'ipadsrt', 'ipadssxsw', 'ipadtablet', 'ipadtime', 'ipadu', 'ipadwinning', 'iphone', 'iphoneandroid', 'iphonebroken', 'iphonecharger', 'iphoneipad', 'iphoneipod', 'iphonemaking', 'iphonequot', 'iphones', 'iphonewii', 'iphoneworkin', 'ipod', 'ipods', 'ipoo', 'iqlab', 'iradar', 'irelay', 'ireport', 'iron', 'ironic', 'irrelevant', 'isack', 'ischafer', 'isnt', 'isquot', 'issue', 'issues', 'istache', 'istock', 'item', 'itll', 'ittttt', 'ituas', 'itunes', 'itwillbemine', 'iuall', 'iuam', 'iusxsw', 'ive', 'iwantacameraonmyipad', 'jailbreak', 'jaloux', 'james', 'jammy', 'janecek', 'japan', 'japanese', 'jared', 'java', 'javascript', 'jaw', 'jcpenney', 'jealous', 'jeanne', 'jeans', 'jeebus', 'jeez', 'jeff', 'jerk', 'jerranalley', 'jessedee', 'jet', 'jetsons', 'jinx', 'jk', 'jmpih', 'job', 'jobs', 'jobs_co', 'jobsco', 'joe', 'johnston', 'join', 'joined', 'joke', 'jonathan', 'joomla', 'jose', 'josh', 'journal', 'journalists', 'journalsim', 'journey', 'joy', 'jpmobilesummit', 'jqtouch', 'jr', 'js', 'judging', 'juice', 'juiced', 'juicepack', 'julian', 'julie', 'jump', 'june', 'just', 'justin', 'justmet', 'justsaying', 'juts', 'jwtatl', 'jzsxsw', 'kara', 'karaoke', 'karateka', 'kawasaki', 'keepaustinweird', 'keeping', 'keeps', 'keg', 'kek', 'ken', 'kenny', 'ketchsx', 'keyboard', 'keynote', 'keys', 'keywords', 'khan', 'khoi', 'kick', 'kickass', 'kicked', 'kicking', 'kid', 'kiddie', 'kidding', 'kids', 'kiiiiiilling', 'kill', 'killcommunity', 'killer', 'killers', 'killing', 'killn', 'kind', 'kinda', 'kindle', 'king', 'kingston', 'kiosk', 'kirkus', 'kiss', 'kit', 'klick', 'klm', 'knackered', 'knew', 'knife', 'knockout', 'know', 'knowing', 'knowledge', 'known', 'knows', 'korean', 'korine', 'kthxbai', 'kudos', 'kweli', 'kyping', 'la', 'lab', 'labs', 'lack', 'ladies', 'lady', 'lake', 'lame', 'land', 'landlords', 'landmark', 'landscapes', 'lanyrd', 'lap', 'laptop', 'laptopcharger', 'laptopipad', 'laptops', 'large', 'larger', 'largest', 'larrys', 'laser', 'lasts', 'late', 'latelink', 'lately', 'latenight', 'later', 'latest', 'latina', 'latinasintechu', 'latism', 'latitude', 'latu_', 'laugh', 'laughed', 'launch', 'launched', 'launches', 'launching', 'launchquot', 'launchrock', 'laurieshook', 'lava', 'lavelle', 'law', 'laws', 'lax', 'layed', 'layer', 'lazy', 'lazyweb', 'lbs', 'lead', 'leading', 'league', 'leaked', 'leaning', 'leanstartup', 'learn', 'learned', 'learning', 'leash', 'leasing', 'leather', 'leave', 'leaves', 'leaving', 'left', 'leftbrain', 'leftcrossing', 'legacy', 'lego', 'leider', 'leisurely', 'leisureplanningrestful', 'lemon', 'leopard', 'ler', 'lessons', 'let', 'lets', 'letschangetheworld', 'letter', 'letting', 'letushopenot', 'level', 'leveraging', 'lewis', 'liberty', 'libraries', 'library', 'licked', 'lie', 'life', 'lifechanging', 'lifeless', 'lifelinetotheworld', 'lifetime', 'light', 'lightbox', 'lightboxcom', 'lightbulb', 'lighters', 'likability', 'like', 'likeability', 'liked', 'likely', 'likes', 'likesquot', 'liking', 'lil', 'limit', 'limited', 'limp', 'lindsay', 'line', 'lineand', 'linelink', 'lines', 'linescarfing', 'lineup', 'lining', 'link', 'linking', 'links', 'lisa', 'list', 'listen', 'listened', 'listening', 'literally', 'litle', 'little', 'live', 'liveblog', 'lives', 'livesteam', 'livetapp', 'livetweeting', 'living', 'livingthedream', 'livingu_', 'load', 'loaded', 'loading', 'loathe', 'lobby', 'lobbying', 'local', 'localmind', 'locals', 'locating', 'location', 'locationaware', 'locationbased', 'locationmap', 'locations', 'lockers', 'lockout', 'logic', 'logical', 'login', 'logo', 'logos', 'lol', 'lonely', 'lonelyplanet', 'long', 'longer', 'longlinesbadux', 'look', 'lookalike', 'looked', 'looking', 'lookingforwardtothemusicfest', 'looks', 'loose', 'looseorganizations', 'lord', 'lordy', 'lorry', 'lose', 'losers', 'losing', 'lost', 'lot', 'lots', 'lottery', 'loud', 'louisiana', 'lounge', 'lousy', 'love', 'loved', 'lovefresh', 'loveher', 'lovely', 'lovemusicapi', 'lovers', 'loves', 'lovesit', 'lovin', 'loving', 'lowest', 'loyalty', 'loyaltymobile', 'lp', 'lt', 'ltandroidor', 'ltanxiety', 'ltcool', 'ltlt', 'ltthanksinstalled', 'lttitlegt', 'luck', 'lucky', 'ludicon', 'lug', 'lugging', 'lunch', 'lust', 'lustre', 'luxury', 'lxh', 'lying', 'lynn', 'mac', 'macallan', 'macbook', 'macbookpro', 'macbooks', 'macchiato', 'machine', 'machines', 'mackbook', 'macpc', 'macs', 'macys', 'mad', 'madebymany', 'madness', 'maes', 'magazine', 'magazines', 'maggie', 'magic', 'magnet', 'magnetic', 'magnifying', 'mags', 'major', 'majority', 'make', 'makery', 'makes', 'makeshift', 'making', 'malady', 'malbonster', 'mall', 'malt', 'man', 'manage', 'management', 'managementmeasurement', 'manager', 'managing', 'manhandling', 'mania', 'manor', 'mantra', 'map', 'mapped', 'mappers', 'mapping', 'mapquest', 'maps', 'mapsexability', 'mapstraffic', 'mar', 'marcelosomers', 'march', 'margarita', 'margin', 'marisa', 'marissa', 'marissagoogle', 'marissamayer', 'marissameyer', 'mark', 'market', 'marketer', 'marketing', 'marketplace', 'martinis', 'marty', 'marys', 'masha', 'mashable', 'mashbash', 'mass', 'masses', 'massive', 'mastered', 'matching', 'mater', 'math', 'matt', 'matter', 'matthew', 'maudies', 'mavis', 'maybe', 'mayer', 'mayers', 'mayor', 'mb', 'mbp', 'mccannsxsw', 'mdw', 'mealtimequot', 'mean', 'meaningful', 'means', 'meant', 'measuring', 'meatpointerquot', 'mecca', 'mechanics', 'media', 'mediamarketing', 'mediau', 'meet', 'meeting', 'meetings', 'meets', 'meetup', 'meetups', 'mega', 'megastore', 'meh', 'mekong', 'mel', 'member', 'memolane', 'memories', 'men', 'mention', 'mentioned', 'mentionn', 'mentionr', 'merchant', 'mercy', 'message', 'messages', 'messaging', 'messed', 'messenger', 'messina', 'met', 'metaphor', 'methinks', 'meuojust', 'mexican', 'mhealth', 'miamibeach', 'mic', 'michael', 'michaelpiliero', 'microformats', 'microsoft', 'midbattery', 'midday', 'middle', 'midem', 'midnight', 'midst', 'midway', 'mifi', 'mike', 'miles', 'militaryscientific', 'miller', 'million', 'millions', 'min', 'mind', 'mindjet', 'mindmanager', 'mindquot', 'minds', 'mindshare', 'minimaglight', 'minimalistprogramming', 'minor', 'mins', 'mintcom', 'minute', 'minutes', 'miracle', 'mirroring', 'miss', 'missed', 'missing', 'mission', 'misstatements', 'mistake', 'mistakes', 'mister', 'mitharvard', 'mix', 'mixed', 'mixing', 'mk', 'mkt', 'mktg', 'mmm', 'mmod', 'mnbuzz', 'mngr', 'mobil', 'mobile', 'mobilefarm', 'mobileroadie', 'mobs', 'mock', 'mocked', 'mocking', 'mode', 'model', 'models', 'moderator', 'mom', 'moma', 'moment', 'momentit', 'momento', 'momentquot', 'moments', 'momi', 'mommy', 'moms', 'monday', 'mondays', 'monetizationquot', 'money', 'monger', 'monitor', 'monopoly', 'monster', 'month', 'months', 'mood', 'moody', 'moonbot', 'moonshine', 'mophie', 'moreknowledge', 'moremy', 'morning', 'moro', 'morphie', 'mosaicxm', 'motherboard', 'mothers', 'motivator', 'motorola', 'mountain', 'mounts', 'mouseclickkeyboard', 'moves', 'movie', 'movies', 'moving', 'mozilla', 'mp', 'mq', 'mr', 'mrs', 'msft', 'mt', 'mullenweg', 'muro', 'murphy', 'museum', 'museums', 'music', 'musica', 'musicians', 'musicviz', 'musiek', 'musik', 'musique', 'musthave', 'mustresistmactemptation', 'mute', 'muting', 'mwrc', 'myegc', 'mylunch', 'mypov', 'myspace', 'mystery', 'nab', 'nailed', 'naive', 'named', 'naomi', 'nat', 'native', 'natural', 'navigating', 'navigation', 'nba', 'nc', 'ncaa', 'nd', 'near', 'nearly', 'neat', 'need', 'needle', 'needs', 'nerd', 'nerdbird', 'nerdcore', 'nerdheaven', 'nerdiest', 'nerds', 'nerdsunite', 'nerdy', 'netbook', 'netflix', 'netflixiphone', 'network', 'networking', 'networklink', 'networkquot', 'networks', 'neumann', 'new', 'newapplestoreaustin', 'newest', 'newly', 'news', 'newsapps', 'newscontent', 'newsgoogles', 'newspaper', 'newspapers', 'newtrent', 'nextflix', 'nexus', 'nfc', 'nfl', 'nhk', 'nice', 'nicely', 'niceness', 'nick', 'nieuwe', 'nifty', 'night', 'nightapple', 'nightjar', 'nike', 'ninehour', 'nineties', 'ning', 'ninjafinder', 'nite', 'noes', 'nofly', 'nokia', 'non', 'nonapple', 'nonendorsement', 'nonmacipad', 'nonprofit', 'nonprofits', 'nontext', 'noon', 'nope', 'normal', 'notch', 'note', 'notes', 'notesphotos', 'notetaker', 'notevenstartedyet', 'notforprofits', 'notice', 'noticed', 'notionink', 'notpouting', 'notsmell', 'notsomuch', 'nottheipad', 'novelty', 'novideo', 'nowhammies', 'nowquot', 'nowuoand', 'nowyes', 'npr', 'nptech', 'ntc', 'nten', 'ntn', 'nuances', 'nudgenudge', 'numbassonfloor', 'number', 'nur', 'nuts', 'nutshell', 'nutters', 'nvidia', 'nyc', 'nyt', 'nyts', 'object', 'objective', 'obs', 'observation', 'observations', 'observer', 'obsessed', 'obsolete', 'obv', 'obvious', 'obviously', 'occasional', 'offer', 'offered', 'offering', 'offers', 'office', 'officer', 'official', 'officially', 'offline', 'offsite', 'ogilvy', 'ogilvynotes', 'ogoody', 'oh', 'oil', 'ok', 'okay', 'oki', 'ol', 'old', 'olds', 'oldschool', 'oldskol', 'omaha', 'omfg', 'omg', 'omgfree', 'omgim', 'omgjk', 'omgz', 'omitting', 'onequot', 'ones', 'onetoone', 'online', 'onquotness', 'onsxsw', 'ooing', 'oooh', 'ooooo', 'open', 'openbeta', 'opened', 'openexhibits', 'opening', 'opens', 'operators', 'opinions', 'opportunity', 'opposite', 'optimistic', 'optimum', 'options', 'optiscan', 'orange', 'order', 'ordered', 'ordering', 'ordinance', 'oreilly', 'oreily', 'organic', 'organically', 'organics', 'organization', 'organize', 'organized', 'organizing', 'original', 'orkut', 'orlando', 'orly', 'oscars', 'osmpw', 'ossum', 'ouch', 'ouchhisshot', 'outbrain', 'outdid', 'outlandish', 'outlet', 'outlook', 'outmarkets', 'outquot', 'outs', 'outside', 'overall', 'overblown', 'overcome', 'overflow', 'overheard', 'overheating', 'overlaid', 'overlapping', 'overlay', 'overload', 'overshadowing', 'oversized', 'overtaken', 'overview', 'overwhelming', 'owl', 'owllove', 'owner', 'owners', 'owns', 'oy', 'pack', 'packed', 'packing', 'packingquot', 'packrat', 'packs', 'pacman', 'pacmans', 'padless', 'page', 'pagemaker', 'pages', 'paid', 'painful', 'pair', 'paired', 'pak', 'pakistan', 'palette', 'palsy', 'pandora', 'panel', 'panelist', 'panelists', 'panels', 'panhandling', 'panic', 'panned', 'panning', 'pants', 'paolo', 'papa', 'papasangre', 'paper', 'paperless', 'para', 'parachute', 'parentheses', 'parents', 'pariah', 'parked', 'parks', 'partial', 'participants', 'participating', 'parties', 'partner', 'partnerhub', 'partnership', 'partsatampt', 'party', 'partyawesome', 'partygood', 'partying', 'partytweets', 'partyu', 'partywith', 'passage', 'passenger', 'passes', 'passi', 'passing', 'passport', 'past', 'paste', 'patch', 'path', 'patience', 'paul', 'pauly', 'pause', 'pavement', 'pay', 'paying', 'payingwithdata', 'payments', 'paypal', 'pc', 'pcbuzz', 'pcma', 'pdanet', 'pdfquot', 'pdx', 'peaked', 'pearl', 'peddle', 'pedicab', 'peek', 'peeps', 'peer', 'pen', 'penetrates', 'pengairborne', 'penguin', 'people', 'peopleparty', 'peoplequot', 'peoples', 'percent', 'percentage', 'perfect', 'perfectly', 'performance', 'periscope', 'permanent', 'permanently', 'perserverance', 'person', 'personal', 'personalized', 'peter', 'petition', 'petricone', 'phenomenal', 'phew', 'phone', 'phoneipad', 'phones', 'photo', 'photobooth', 'photoes', 'photos', 'photosharing', 'physical', 'pi', 'pic', 'pick', 'picked', 'picking', 'pickmeupanipad', 'pics', 'picture', 'pictures', 'pie', 'piece', 'pig', 'pigfuckerquot', 'pilhofer', 'pillow', 'pinoy', 'piping', 'piss', 'pissedimnotgoingtosxsw', 'pissing', 'pit', 'pitch', 'pitchforks', 'pitfalls', 'pitted', 'pix', 'pixel', 'pixelated', 'pixels', 'pixieengine', 'place', 'places', 'plaid', 'plain', 'plan', 'plane', 'planely', 'planesairports', 'planet', 'planets', 'planner', 'planning', 'plans', 'planting', 'planzai', 'plate', 'platform', 'play', 'playback', 'playbook', 'played', 'player', 'playeripod', 'players', 'playhopskoch', 'playing', 'playstation', 'playsxsw', 'playsxswu', 'pleased', 'plenty', 'plied', 'pls', 'plug', 'pluged', 'plugin', 'plunge', 'plus', 'pm', 'pnid', 'pocket', 'podcast', 'poetry', 'point', 'points', 'policy', 'politics', 'pollak', 'poniesquot', 'poole', 'poopoos', 'poor', 'pop', 'popped', 'popping', 'popplet', 'poppop', 'popstore', 'popular', 'populous', 'popup', 'popupshop', 'popupstore', 'popupstoreu', 'por', 'pornthis', 'portable', 'porting', 'posed', 'position', 'positioning', 'positive', 'positively', 'positives', 'possibility', 'possible', 'possibly', 'post', 'posted', 'postpc', 'pot', 'potential', 'potentially', 'pourquot', 'poursite', 'power', 'powerful', 'powerhouse', 'powering', 'powermat', 'powermatteam', 'powermattteam', 'pp', 'ppl', 'pr', 'practice', 'pragmatic', 'pre', 'precedent', 'precommerce', 'prefer', 'preference', 'preferencesquot', 'preferrably', 'preferred', 'prefers', 'premature', 'premiere', 'premium', 'preorder', 'prep', 'preparation', 'preparations', 'prepared', 'preparing', 'prepping', 'presence', 'present', 'presentation', 'presented', 'presenters', 'presenting', 'preso', 'press', 'pressie', 'pressure', 'pressuresmmnextgen', 'presxsw', 'pretty', 'prettycool', 'preview', 'previews', 'previous', 'price', 'prices', 'pride', 'princess', 'principles', 'print', 'printed', 'prints', 'priorities', 'priority', 'privacy', 'private', 'prize', 'prizes', 'pro', 'prob', 'probably', 'problem', 'process', 'prodmktg', 'produced', 'producers', 'product', 'productquot', 'products', 'productsquot', 'professionals', 'profile', 'profits', 'program', 'programming', 'progressbar', 'progression', 'project', 'projecting', 'projects', 'promises', 'promo', 'promote', 'promotion', 'prompt', 'proof', 'propping', 'proprietary', 'props', 'protect', 'protecting', 'protip', 'protocol', 'proud', 'provide', 'provided', 'providing', 'proving', 'ps', 'pseudoretweet', 'psfk', 'pst', 'psych', 'psyched', 'psyches', 'pub', 'pubcamp', 'public', 'publishers', 'publishing', 'pull', 'pulling', 'pumped', 'pumps', 'pun', 'puppy', 'purchase', 'purchased', 'purchasers', 'purchases', 'purchasing', 'pure', 'puregenius', 'purpose', 'push', 'pushed', 'pusher', 'pushio', 'pushsnowboarding', 'puts', 'putting', 'puzzles', 'qa', 'qagb', 'qampa', 'qho', 'qr', 'qrafter', 'qrank', 'qrcode', 'qs', 'quadroid', 'quake', 'qualcomm', 'qualified', 'quality', 'quantity', 'quantter', 'quarantined', 'quarter', 'que', 'question', 'questioner', 'questions', 'queue', 'quibids', 'quibidswin', 'quick', 'quicker', 'quickly', 'quiet', 'quinn', 'quit', 'quite', 'quot', 'quotable', 'quotables', 'quotad', 'quotall', 'quotapple', 'quotarg', 'quotat', 'quotbanking', 'quotbefore', 'quotbest', 'quotbig', 'quotbizzyquot', 'quotbrains', 'quotbright', 'quotbut', 'quotby', 'quotcameraquot', 'quotcirclesquot', 'quotcome', 'quotconsumerizationquot', 'quotcoolquot', 'quotcould', 'quotcoworkersquot', 'quotdesigning', 'quotdesktop', 'quotdifferentquot', 'quotdislikequot', 'quotdont', 'quotes', 'quotfacebook', 'quotfast', 'quotfeatured', 'quotflash', 'quotflashquot', 'quotfoosspottingquot', 'quotgive', 'quotgoogle', 'quotgot', 'quotgovt', 'quotgreat', 'quothalfway', 'quothas', 'quothaving', 'quotheres', 'quothey', 'quothighquality', 'quothow', 'quoti', 'quotif', 'quotill', 'quotim', 'quotindustry', 'quotinstant', 'quotipad', 'quotiphone', 'quotit', 'quotits', 'quotive', 'quotk', 'quotkinda', 'quotknow', 'quotleft', 'quotlink', 'quotlost', 'quotmaking', 'quotmention', 'quotmight', 'quotmistakes', 'quotmobile', 'quotmophiequot', 'quotmultiple', 'quotmy', 'quotno', 'quotnot', 'quoto', 'quotomg', 'quotoquot', 'quotour', 'quotpagemaker', 'quotpanel', 'quotpapyrussort', 'quotparty', 'quotpeople', 'quotpetting', 'quotpop', 'quotpopup', 'quotpopupquot', 'quotproduct', 'quotrefrigerator', 'quotridiculous', 'quotroll', 'quotroute', 'quotroutearoundquot', 'quotsaving', 'quotsell', 'quotshitquot', 'quotso', 'quotsocialquot', 'quotsquot', 'quotstep', 'quottattoo', 'quotthank', 'quotthanks', 'quotthat', 'quotthe', 'quotthere', 'quottheres', 'quottheyre', 'quotthink', 'quotthis', 'quottopicality', 'quottransparency', 'quotuolewis', 'quotvintagequot', 'quotvisigothsquot', 'quotwhat', 'quotwhile', 'quotwho', 'quotwill', 'quotworst', 'quotwquot', 'quotxquot', 'quotyour', 'race', 'rachael', 'rad', 'radical', 'radio', 'raffled', 'raffling', 'rage', 'rails', 'rain', 'rainjacket', 'raised', 'raises', 'rallying', 'ran', 'random', 'randomly', 'range', 'rank', 'ranked', 'ranking', 'rankings', 'rant', 'rare', 'rate', 'rates', 'ratingrecommendation', 'ratings', 'ratio', 'ray', 'rd', 'reach', 'reached', 'reacquainted', 'read', 'reader', 'readershipquot', 'reading', 'ready', 'real', 'realistic', 'reality', 'realize', 'realized', 'realizing', 'realllllllly', 'really', 'realtime', 'realtimenear', 'rearfacing', 'reason', 'reasonable', 'reasoning', 'reasons', 'rebecca', 'rebeltv', 'rebranded', 'recap', 'received', 'recharge', 'recharging', 'recipe', 'recipes', 'recipient', 'reclaimed', 'recognition', 'recognize', 'recomds', 'recommend', 'recommendation', 'recommendations', 'recommended', 'recommends', 'record', 'recorder', 'recos', 'recovery', 'recreated', 'recs', 'recycled', 'red', 'redboxgilt', 'redbull', 'reddit', 'rediculous', 'reel', 'ref', 'referrals', 'refine', 'refresh', 'refrigerator', 'regarded', 'regel', 'regions', 'register', 'registers', 'registrants', 'regrets', 'regretting', 'regular', 'regularly', 'rei', 'reid', 'rejection', 'related', 'relation', 'relationship', 'relaxed', 'relaxing', 'release', 'released', 'releases', 'releasing', 'relevant', 'relic', 'relief', 'relies', 'religion', 'relinquish', 'relive', 'reliving', 'remaining', 'rematch', 'remedied', 'remember', 'remembered', 'reminding', 'removable', 'remove', 'removeburn', 'rendering', 'renders', 'renew', 'repair', 'replaced', 'replacement', 'replacing', 'replenished', 'replicate', 'replies', 'report', 'reporting', 'reports', 'repressed', 'reproducing', 'republic', 'reputationquot', 'rerouted', 'rescuing', 'research', 'resetting', 'resist', 'resonance', 'resource', 'resourceful', 'respect', 'respectfully', 'response', 'responses', 'responsibility', 'rest', 'restaurant', 'restaurants', 'resting', 'restore', 'restored', 'restraunts', 'result', 'resulting', 'results', 'resume', 'retail', 'retiring', 'retrollect', 'return', 'retweet', 'retweeting', 'revealed', 'reveals', 'revelations', 'revenge', 'revenue', 'review', 'reviews', 'revolt', 'revolution', 'revolutionary', 'revolutions', 'reward', 'rewards', 'rewardswagon', 'rf', 'rhizome', 'richardat', 'ridculous', 'ride', 'rides', 'ridic', 'ridicule', 'ridiculous', 'ridiculously', 'rig', 'rigeur', 'right', 'rightbrain', 'rightfully', 'rim', 'rimmed', 'ringing', 'rinna', 'riots', 'rip', 'ripped', 'ripping', 'rise', 'rise_austin', 'rite', 'river', 'rji', 'rm', 'road', 'roadie', 'roaming', 'robot', 'robots', 'rock', 'rockaroke', 'rocked', 'rockin', 'rocking', 'rocks', 'rockstache', 'role', 'roll', 'roof', 'room', 'roomnokiaconnects', 'roomquot', 'rooms', 'rosso', 'rotational', 'round', 'route', 'routearound', 'routes', 'routing', 'row', 'rows', 'rpg', 'rsqs', 'rsvp', 'rt', 'rtmention', 'rub', 'rubbing', 'rule', 'rules', 'rumor', 'rumored', 'rumors', 'rumours', 'run', 'runaround', 'running', 'runs', 'rwwtofbcet', 'saatchiny', 'saber', 'sabotaged', 'sad', 'sadly', 'safari', 'said', 'sale', 'sales', 'salesperson', 'salon', 'sam', 'sampler', 'samsung', 'samsungmobileus', 'san', 'sandwich', 'sandwiched', 'sangre', 'sans', 'sapient', 'sat', 'saturday', 'sauce', 'save', 'savebrands', 'saved', 'saves', 'saveustechies', 'saving', 'savings', 'savvy', 'saw', 'say', 'saying', 'says', 'saysshewithoutanipad', 'scale', 'scan', 'scans', 'scarborough', 'scarbrough', 'scared', 'scary', 'scavenger', 'scene', 'scenes', 'scepticism', 'sched', 'schedule', 'scheduled', 'scheduler', 'schedules', 'schedulestheir', 'scheduling', 'schemas', 'schemasquot', 'school', 'schools', 'schtuff', 'schwag', 'science', 'scoping', 'score', 'scored', 'scoremore', 'scouts', 'screamed', 'screams', 'screen', 'screening', 'screenings', 'screenquot', 'sd', 'sea', 'search', 'searchable', 'searches', 'searching', 'season', 'seat', 'seated', 'seats', 'seattle', 'sec', 'second', 'seconds', 'secret', 'security', 'seeing', 'seemingly', 'seen', 'seenocreepy', 'seereally', 'sees', 'seesmic', 'select', 'selected', 'selection', 'self', 'selfish', 'selfpolice', 'selfrespecting', 'sell', 'selling', 'sells', 'sem', 'semantic', 'send', 'sending', 'sense', 'sent', 'seo', 'separate', 'september', 'serendipity', 'seriously', 'seriousness', 'serv', 'serve', 'served', 'server', 'servers', 'serves', 'service', 'services', 'servicesquot', 'sesh', 'session', 'sessions', 'sessionsnxt', 'set', 'seta', 'sets', 'setting', 'settle', 'settling', 'setup', 'severe', 'severely', 'sfo', 'shade', 'shades', 'shakespeares', 'shall', 'shallow', 'shame', 'shamedquot', 'shameless', 'shaping', 'share', 'shareable', 'shared', 'sharers', 'sharing', 'sharp', 'shat', 'shatter', 'sheen', 'sheeple', 'shell', 'shelves', 'sheraton', 'shes', 'shift', 'shill', 'shiner', 'shinmy', 'shiny', 'shipment', 'shipments', 'ships', 'shirt', 'shit', 'shite', 'shitty', 'shocked', 'shoot', 'shooting', 'shop', 'shops', 'short', 'shortcuts', 'shortening', 'shortly', 'shot', 'shotgun', 'shotgunua', 'shoulda', 'shoulder', 'shouldnt', 'shout', 'shouts', 'showcase', 'showcased', 'showcases', 'showed', 'showfree', 'showing', 'shows', 'showusyouricrazy', 'shrink', 'shuffling', 'shut', 'sick', 'sides', 'sigh', 'sighting', 'sightings', 'sign', 'signal', 'signals', 'signed', 'signing', 'signs', 'silicon', 'sillier', 'silly', 'silver', 'simple', 'simply', 'simultaneously', 'sin', 'singing', 'single', 'singularity', 'sipping', 'sis', 'sister', 'sit', 'sitbyus', 'site', 'sites', 'sitting', 'sixth', 'size', 'skateboards', 'skepticism', 'sketchy', 'skiers', 'skill', 'skillfully', 'skills', 'skinny', 'skip', 'skulls', 'skyfire', 'skynet', 'skype', 'slap', 'slated', 'sleek', 'sleep', 'sleepy', 'sleeves', 'slice', 'sliced', 'slick', 'slides', 'slightly', 'slim', 'slips', 'sloanxsw', 'slow', 'slower', 'slowly', 'slowpoke', 'slp', 'smackdown', 'small', 'smallbiz', 'smaller', 'smart', 'smarterquot', 'smartest', 'smartphone', 'smartphones', 'smartthings', 'smashed', 'smcdallas', 'smcomedyfyeah', 'smileyparty', 'smm', 'smokes', 'smooth', 'smtravel', 'smudgy', 'smugness', 'smurfs', 'smut', 'smvis', 'smyle', 'sn', 'snagged', 'snakeheead', 'snap', 'snapping', 'snarky', 'sneakers', 'sneaky', 'socbiz', 'social', 'socialfuel', 'socially', 'sociallyquot', 'socialmedia', 'socialmuse', 'socialviewing', 'society', 'socks', 'socnet', 'softball', 'softlayer', 'software', 'sold', 'soldout', 'solely', 'solid', 'solo', 'solution', 'solutionquot', 'solutions', 'solves', 'solving', 'somebody', 'someday', 'somedaya', 'someones', 'song', 'songs', 'sonos', 'sony', 'soo', 'soon', 'soos', 'sore', 'sorry', 'sorta', 'sorted', 'sound', 'soundcloud', 'sounding', 'sounds', 'source', 'south', 'southby', 'southpaw', 'southwest', 'space', 'spacequot', 'spanking', 'spark', 'spasmatics', 'spazmatic', 'spazmatics', 'speak', 'speakeasy', 'speaking', 'speakquot', 'speaks', 'special', 'specific', 'speech', 'speed', 'speedup', 'spellchecking', 'spend', 'spending', 'spent', 'spider', 'spilled', 'spin', 'spincom', 'spinning', 'spins', 'spirit', 'spoiled', 'spoke', 'spoken', 'sponsored', 'sponsou_', 'spontaniety', 'sporting', 'spot', 'spots', 'spotted', 'spread', 'spring', 'sprinkle', 'sprint', 'spy', 'sq', 'sqs', 'square', 'squarefoot', 'squarequot', 'squeal', 'squeeze', 'srsly', 'st', 'stabilizer', 'stacks', 'staff', 'stage', 'stand', 'standard', 'standardization', 'standing', 'star', 'starbu', 'starbucks', 'staring', 'starry', 'stars', 'start', 'started', 'starting', 'starts', 'startup', 'startupbus', 'startups', 'statement', 'states', 'station', 'stations', 'stats', 'statuses', 'stay', 'staying', 'stays', 'steady', 'stealing', 'steals', 'steampunk', 'steamy', 'stellar', 'step', 'stepped', 'stereoquot', 'steve', 'sthemed', 'stickers', 'stillman', 'stock', 'stogies', 'stoked', 'stole', 'stolen', 'stood', 'stop', 'stopped', 'stops', 'storage', 'store', 'storeagree', 'storeand', 'storegreat', 'storei', 'storelamez', 'storequot', 'stores', 'storesexcept', 'storeyou', 'stories', 'storm', 'story', 'storymeaning', 'straight', 'strange', 'strangeproblems', 'stranger', 'strangers', 'straps', 'strategy', 'straw', 'stream', 'streaming', 'streams', 'streamsdownloads', 'street', 'streetan', 'streetview', 'streetviewlike', 'strength', 'stress', 'stretches', 'striking', 'strip', 'strive', 'stroke', 'strong', 'structured', 'struggle', 'strums', 'stuck', 'studentsforcleanwaterorgrsvp', 'studies', 'studios', 'study', 'studying', 'stuff', 'stumbledupon', 'stumbling', 'stunning', 'stunt', 'stupid', 'style', 'stylish', 'suasxsw', 'subscription', 'subscriptions', 'succeed', 'success', 'successful', 'successquot', 'succumb', 'suck', 'suckas', 'sucked', 'suckling', 'sucks', 'suddenly', 'suffered', 'suffering', 'suggest', 'suggestion', 'suggestions', 'suicidal', 'suicide', 'sullivan', 'sum', 'summer', 'summit', 'sun', 'sunday', 'sundayswaggereventbritecom', 'sunglasses', 'sunny', 'suns', 'super', 'superbia', 'superfast', 'supply', 'support', 'suppose', 'supposecheers', 'supposed', 'supposedly', 'sure', 'surely', 'surface', 'surpassed', 'surplus', 'surprise', 'surprises', 'surrounded', 'surui', 'survey', 'survival', 'survive', 'survived', 'suspense', 'sustainability', 'sux', 'suxsw', 'svcs', 'swag', 'swarming', 'swarms', 'sweater', 'sweeeeet', 'sweeeet', 'sweepstakes', 'sweet', 'sweetapple', 'sweets', 'swift', 'swish', 'swisher', 'switch', 'switches', 'swonderlin', 'swoon', 'swsurrogates', 'swsx', 'sxfl', 'sxflip', 'sxprotect', 'sxsh', 'sxsurrogatescom', 'sxsw', 'sxswa', 'sxswaccel', 'sxswapple', 'sxswbarcrawl', 'sxswbigbrands', 'sxswbound', 'sxswbuffalo', 'sxswchi', 'sxswcominteractivelive', 'sxswers', 'sxswfail', 'sxswgood', 'sxswgt', 'sxswh', 'sxswi', 'sxswis', 'sxswiu', 'sxswjapan', 'sxswk', 'sxswlatam', 'sxswmention', 'sxswmobileapps', 'sxswmoot', 'sxswmusic', 'sxswmymistake', 'sxswnice', 'sxswnot', 'sxswnui', 'sxswpass', 'sxswquot', 'sxswsa', 'sxswsex', 'sxswsmall', 'sxswsounds', 'sxswsters', 'sxswtoolkit', 'sxswu', 'sxswu_', 'sxswwill', 'sxtxstate', 'sxwsi', 'sxxpress', 'syked', 'symbian', 'symbol', 'sync', 'synced', 'synching', 'syncing', 'syncs', 'synergy', 'systems', 'taariq', 'tab', 'table', 'tables', 'tablet', 'tabletipad', 'tabletoptimized', 'tablets', 'taccsxsw', 'tacos', 'tag', 'tagging', 'takeaway', 'taken', 'takeoverquot', 'takes', 'takin', 'taking', 'talent', 'talented', 'talib', 'talk', 'talked', 'talkfree', 'talking', 'talks', 'tan', 'tap', 'tapworthy', 'target', 'task', 'tastes', 'tattooed', 'taught', 'taunt', 'tax', 'taxi', 'tbalinas', 'tbwasxsw', 'tc', 'tdg', 'teach', 'teaching', 'team', 'team_android', 'teamandroid', 'teamandroidsxsw', 'teams', 'tear', 'teathering', 'tech', 'tech_news', 'techcrunch', 'techenvy', 'techgeek', 'techgood', 'techie', 'techies', 'techiesunite', 'technerds', 'technews', 'technical', 'technicalquot', 'techno', 'technology', 'techrockstar', 'techs', 'techsavvy', 'techsmith', 'tee', 'teeming', 'teeny', 'teeth', 'telegraph', 'teleporting', 'television', 'telework', 'tell', 'tells', 'temp', 'tempapple', 'temperature', 'temperatures', 'temporary', 'tempt', 'temptation', 'tempted', 'tempting', 'tenets', 'tent', 'teo', 'term', 'terminal', 'terms', 'terrible', 'test', 'tested', 'testing', 'tests', 'tether', 'tethering', 'texas', 'texasevery', 'text', 'texting', 'th', 'thank', 'thanks', 'thanksforthebrandedshades', 'thankyouecon', 'thatll', 'thats', 'the_daily', 'theatre', 'theem', 'theft', 'thegogame', 'theindustryparty', 'theirs', 'theme', 'themquot', 'thenextweb', 'theplatform', 'ther', 'therapy', 'therelink', 'theres', 'thewildernessdowntowncom', 'theyd', 'theyll', 'theyre', 'theyve', 'thier', 'thing', 'thingquot', 'things', 'thingsthatdontgotogether', 'think', 'thinking', 'thinks', 'thinmints', 'thinner', 'thinquot', 'thirsty', 'thisisdare', 'tho', 'thomas', 'thoora', 'thought', 'thoughtful', 'thoughts', 'thousands', 'threat', 'threequarters', 'threw', 'thrilled', 'throw', 'throwin', 'throwing', 'tht', 'thumbs', 'thunder', 'thursday', 'thx', 'ticket', 'tidbit', 'tiff', 'tigerblood', 'tigerbloodu', 'til', 'till', 'tim', 'timberlake', 'time', 'timechange', 'timeevery', 'timeeveryday', 'timeline', 'timely', 'times', 'timing', 'tinkering', 'tiny', 'tip', 'tipdont', 'tips', 'tis', 'title', 'titlesquot', 'tix', 'tkts', 'tm', 'tme', 'tmobile', 'tmr', 'tmsxsw', 'tnw', 'tnx', 'toast', 'today', 'todayim', 'todayquot', 'todays', 'todo', 'told', 'tomlinson', 'tomorrow', 'tomorrows', 'ton', 'tonchidot', 'tonigh', 'tonight', 'tons', 'toocoolforsxswanyway', 'toodamnlucky', 'took', 'tool', 'toolkit', 'toolongforme', 'tools', 'toooo', 'topics', 'topnews', 'tops', 'topspin', 'torch', 'torture', 'torturous', 'total', 'totalitarian', 'totally', 'toting', 'touch', 'touched', 'touching', 'touchingstories', 'tough', 'tougher', 'toured', 'tournament', 'towel', 'town', 'toy', 'track', 'tracker', 'trackpads', 'tracks', 'tractor', 'trade', 'traded', 'tradeshow', 'traffic', 'trailer', 'train', 'trajan', 'tramplings', 'transfer', 'transient', 'transition', 'translated', 'transparency', 'transparently', 'trashy', 'trauma', 'travel', 'travelers', 'traveling', 'traveller', 'treatment', 'trenches', 'trend', 'trending', 'trends', 'tribes', 'tricked', 'tried', 'tries', 'trigger', 'trip', 'tripping', 'tron', 'trophy', 'trouble', 'truck', 'trucks', 'true', 'trueexpect', 'truequot', 'truly', 'trumping', 'trumps', 'trust', 'trusted', 'trustworthiness', 'truth', 'try', 'trying', 'ts', 'tshirt', 'tsunami', 'tt', 'tub', 'tube', 'tuesday', 'tunage', 'tune', 'tuned', 'tunehopper', 'tunes', 'turing', 'turkey', 'turn', 'turnbyturn', 'turned', 'turning', 'turns', 'tv', 'tveverywhere', 'tvontheradio', 'tvquot', 'tvs', 'tweeps', 'tweet', 'tweetcaster', 'tweetdeck', 'tweeted', 'tweethouse', 'tweetie', 'tweetignite', 'tweeting', 'tweetquot', 'tweets', 'tweetup', 'twice', 'twit', 'twitpic', 'twitter', 'twittering', 'twitterpower', 'twofactor', 'twoscreen', 'twoweek', 'tx', 'tye', 'type', 'typing', 'tyson', 'u_', 'u_a', 'uber', 'uberguide', 'ubersocial', 'ubertwitter', 'ubiquitous', 'ubiquity', 'ubuntu', 'uenablingua', 'ugh', 'ughhhapple', 'uhobo', 'uhoboua', 'ui', 'uibuttons', 'uifail', 'uifoursquare', 'uiline', 'uimention', 'uimore', 'uimuteu', 'uispecialsu', 'uithe', 'uiviewu', 'um', 'umassjour', 'umm', 'ummmmawesome', 'umshini', 'una', 'unabashed', 'unadulterated', 'unbearable', 'unbelievable', 'unboxing', 'uncategorized', 'uncharged', 'unconfirmed', 'underestimate', 'underneath', 'understand', 'understanding', 'underway', 'underwire', 'undoubtedly', 'unequipped', 'unexpected', 'ungrateful', 'unimitated', 'unique', 'unite', 'united', 'units', 'universe', 'unjobsaesthetic', 'unleash', 'unless', 'unlisted', 'unloaded', 'unloading', 'unlockable', 'unlocking', 'unofficial', 'unofficu_', 'unpack', 'unpaid', 'unreal', 'unscientific', 'unsix', 'unstable', 'untapped', 'unveil', 'unveiled', 'unveiling', 'unveils', 'uo', 'uomention', 'uosxsw', 'upbeat', 'update', 'updated', 'updates', 'updating', 'upgrade', 'upgrading', 'upload', 'uppward', 'upquot', 'ups', 'upset', 'upside', 'ur', 'urs', 'urthotscom', 'urthotscompromo', 'usa', 'usability', 'usage', 'usb', 'usdes', 'use', 'used', 'useful', 'usefulness', 'useless', 'user', 'users', 'uses', 'usguys', 'using', 'usmartcoverua', 'ustream', 'usual', 'usurped', 'usxsw', 'utilize', 'utter', 'uviagra', 'ux', 'uxdes', 'uzu', 'vacation', 'valid', 'valley', 'valuable', 'value', 'values', 'vast', 'vb', 'vcards', 'vector', 'vectors', 'vegan', 'vegas', 'vending', 'venturebeat', 'venue', 'venues', 'ver', 'verizon', 'verpixelungsrechtuothe', 'version', 'versions', 'veryslow', 'vestibule', 'veterans', 'vibe', 'vicariously', 'victims', 'vid', 'vidcamera', 'video', 'videogame', 'videogames', 'videos', 'vids', 'view', 'viewed', 'viewing', 'viewio', 'views', 'viewuo', 'vinh', 'vinteresting', 'vip', 'virgin', 'virginity', 'virtual', 'virtually', 'virtualoffice', 'virtualwallet', 'visit', 'visiting', 'visitorsu_', 'visits', 'visual', 'visualization', 'visualizing', 'vmware', 'voice', 'voicefeed', 'volume', 'voluntarily', 'voluntarilyquot', 'volunteers', 'vortex', 'vote', 'voxpop', 'vp', 'vs', 'vuelta', 'vufinders', 'vuvuzela', 'wa', 'waaaaaa', 'wack', 'wait', 'waited', 'waiting', 'wakeup', 'walk', 'walked', 'walkin', 'walking', 'walks', 'wall', 'wallace', 'walmart', 'wam', 'wamnight', 'wan', 'wandered', 'wanderer', 'wanna', 'wannabe', 'wannabehipsters', 'want', 'wanted', 'wanting', 'wants', 'war', 'warmer', 'warmth', 'warning', 'wars', 'wary', 'wasnt', 'waste', 'wasted', 'wasting', 'watch', 'watched', 'watching', 'water', 'waterenergy', 'waterproof', 'watson', 'wave', 'way', 'waymatt', 'ways', 'waze', 'wearing', 'weasel', 'weather', 'web', 'webdoccom', 'webkit', 'webmail', 'webmasters', 'website', 'websites', 'webvisions', 'wed', 'week', 'weekend', 'weeks', 'weeping', 'weight', 'weinschenk', 'weird', 'welcome', 'welivehere', 'wellsxsw', 'went', 'werent', 'wesley', 'weve', 'wevent', 'wew', 'wgood', 'wguys', 'whale', 'whatcha', 'whats', 'whatuas', 'wheres', 'whimsical', 'white', 'whiteboarding', 'whiteu', 'whoa', 'whoooooo', 'whoops', 'whos', 'whotpot', 'whowillrise', 'whrrl', 'wider', 'widfy', 'widgets', 'wife', 'wifi', 'wil', 'wild', 'wilderness', 'williams', 'willing', 'willpay', 'willpower', 'wilting', 'win', 'winamp', 'windows', 'windowsquot', 'wine', 'wings', 'winner', 'winners', 'winning', 'winningquot', 'wins', 'winsaesxsw', 'wintel', 'winwin', 'wipes', 'wired', 'wiredcom', 'wireless', 'wires', 'wise', 'wish', 'wishing', 'withme', 'witty', 'wjchat', 'wk', 'wkd', 'wkend', 'wknd', 'wmention', 'wmost', 'wmy', 'wo', 'woah', 'wodpress', 'woes', 'wohooo', 'woke', 'wolfenstein', 'wolframapp', 'woman', 'women', 'won', 'wonder', 'wonderful', 'wondering', 'wonders', 'wonderwe', 'wont', 'woo', 'woohoo', 'wooooo', 'woops', 'woot', 'word', 'wordnerd', 'wordpress', 'words', 'work', 'worked', 'workers', 'working', 'works', 'workspace', 'worku', 'world', 'worldand', 'worldquot', 'worlds', 'worldsquot', 'worldwide', 'worn', 'worried', 'worry', 'worse', 'worst', 'worth', 'worthwhile', 'wot', 'wothers', 'wouldnt', 'wout', 'wow', 'wowltltuimention', 'wowwwwww', 'wozniak', 'wp', 'wpeople', 'wr', 'wrap', 'wrapper', 'write', 'writeoff', 'writer', 'writing', 'wrong', 'wrote', 'wsj', 'wssxsw', 'wt', 'wtf', 'wthu', 'wundertablet', 'wverizon', 'wwsxsw', 'wwwdivasanddorkscom', 'wwwpepjobsupc', 'wwwranaco', 'wwwsocialmediabumtumblrcom', 'xbox', 'xd', 'xipad', 'xm', 'xmas', 'xml', 'xoom', 'xperia', 'xquot', 'xwave', 'ya', 'yai', 'yall', 'yawn', 'yay', 'yea', 'yeaayyy', 'yeah', 'year', 'years', 'yearsquot', 'yeasayer', 'yeay', 'yellow', 'yelp', 'yelping', 'yep', 'yer', 'yes', 'yesterday', 'yield', 'yikes', 'yo', 'yobongo', 'yonkers', 'york', 'youd', 'youll', 'youneedthis', 'youquot', 'youre', 'youtube', 'youu_', 'youuall', 'youve', 'yowza', 'yr', 'yrs', 'yrsday', 'yummy', 'yup', 'zaarly', 'zaarlyiscoming', 'zagg', 'zaggle', 'zappos', 'zazzle', 'zazzlesxsw', 'zazzlsxsw', 'ze', 'zelda', 'zeldman', 'zero', 'zimride', 'zip', 'zite', 'zms', 'zombies', 'zomg', 'zone', 'zoom', 'zzzs']\n"
     ]
    }
   ],
   "source": [
    "vocab = vect.get_feature_names()\n",
    "print(vocab)"
   ]
  },
  {
   "cell_type": "markdown",
   "metadata": {
    "colab_type": "text",
    "id": "dwtgjTBeH0Ny"
   },
   "source": [
    "#### Tip: To see all available functions for an Object use dir"
   ]
  },
  {
   "cell_type": "code",
   "execution_count": null,
   "metadata": {
    "colab": {},
    "colab_type": "code",
    "id": "2n_iCcTNH0N0"
   },
   "outputs": [],
   "source": []
  },
  {
   "cell_type": "markdown",
   "metadata": {
    "colab_type": "text",
    "id": "ShA6D8jKH0N5"
   },
   "source": [
    "### 6. Find out how many Positive and Negative emotions are there.\n",
    "\n",
    "Hint: Use value_counts on that column"
   ]
  },
  {
   "cell_type": "code",
   "execution_count": 298,
   "metadata": {
    "colab": {},
    "colab_type": "code",
    "id": "q7LAl5pzH0N6"
   },
   "outputs": [
    {
     "data": {
      "text/plain": [
       "Positive emotion    2672\n",
       "Negative emotion     519\n",
       "Name: is_there_an_emotion_directed_at_a_brand_or_product, dtype: int64"
      ]
     },
     "execution_count": 298,
     "metadata": {},
     "output_type": "execute_result"
    }
   ],
   "source": [
    "reviewData['is_there_an_emotion_directed_at_a_brand_or_product'].value_counts()"
   ]
  },
  {
   "cell_type": "markdown",
   "metadata": {
    "colab_type": "text",
    "id": "IUvgj0FoH0N9"
   },
   "source": [
    "### 7. Change the labels for Positive and Negative emotions as 1 and 0 respectively and store in a different column in the same dataframe named 'Label'\n",
    "\n",
    "Hint: use map on that column and give labels"
   ]
  },
  {
   "cell_type": "code",
   "execution_count": 299,
   "metadata": {
    "colab": {},
    "colab_type": "code",
    "id": "YftKwFv7H0N9"
   },
   "outputs": [],
   "source": [
    "from sklearn.preprocessing import LabelEncoder\n",
    "\n",
    "# Create an object of the label encoder class\n",
    "labelencoder = LabelEncoder()"
   ]
  },
  {
   "cell_type": "code",
   "execution_count": 300,
   "metadata": {},
   "outputs": [],
   "source": [
    "reviewData['label'] = labelencoder.fit_transform(reviewData['is_there_an_emotion_directed_at_a_brand_or_product'])"
   ]
  },
  {
   "cell_type": "code",
   "execution_count": 301,
   "metadata": {},
   "outputs": [
    {
     "data": {
      "text/plain": [
       "1    2672\n",
       "0     519\n",
       "Name: label, dtype: int64"
      ]
     },
     "execution_count": 301,
     "metadata": {},
     "output_type": "execute_result"
    }
   ],
   "source": [
    "reviewData['label'].value_counts()"
   ]
  },
  {
   "cell_type": "markdown",
   "metadata": {
    "colab_type": "text",
    "id": "3YErwYLCH0N_"
   },
   "source": [
    "### 8 Define the feature set (independent variable or X) to be `text` column and `labels` as target (or dependent variable)  and divide into train and test datasets"
   ]
  },
  {
   "cell_type": "code",
   "execution_count": 302,
   "metadata": {},
   "outputs": [],
   "source": [
    "from sklearn.model_selection import train_test_split"
   ]
  },
  {
   "cell_type": "code",
   "execution_count": 303,
   "metadata": {
    "colab": {},
    "colab_type": "code",
    "id": "lNkwrGgEH0OA"
   },
   "outputs": [],
   "source": [
    "X = reviewData['text']\n",
    "Y = reviewData['label']"
   ]
  },
  {
   "cell_type": "code",
   "execution_count": 311,
   "metadata": {},
   "outputs": [],
   "source": [
    "vect = CountVectorizer(stop_words = 'english')\n",
    "train_data_features = vect.fit_transform(X)"
   ]
  },
  {
   "cell_type": "code",
   "execution_count": 312,
   "metadata": {},
   "outputs": [],
   "source": [
    "x_names = vect.get_feature_names()"
   ]
  },
  {
   "cell_type": "code",
   "execution_count": 313,
   "metadata": {},
   "outputs": [
    {
     "data": {
      "text/plain": [
       "(3191, 5706)"
      ]
     },
     "execution_count": 313,
     "metadata": {},
     "output_type": "execute_result"
    }
   ],
   "source": [
    "train_data_features.shape"
   ]
  },
  {
   "cell_type": "code",
   "execution_count": 316,
   "metadata": {},
   "outputs": [
    {
     "data": {
      "text/plain": [
       "5706"
      ]
     },
     "execution_count": 316,
     "metadata": {},
     "output_type": "execute_result"
    }
   ],
   "source": [
    "len(x_names)"
   ]
  },
  {
   "cell_type": "code",
   "execution_count": 317,
   "metadata": {},
   "outputs": [],
   "source": [
    "review_df = pd.DataFrame(train_data_features.toarray(),columns=x_names)"
   ]
  },
  {
   "cell_type": "code",
   "execution_count": 318,
   "metadata": {},
   "outputs": [
    {
     "data": {
      "text/html": [
       "<div>\n",
       "<style scoped>\n",
       "    .dataframe tbody tr th:only-of-type {\n",
       "        vertical-align: middle;\n",
       "    }\n",
       "\n",
       "    .dataframe tbody tr th {\n",
       "        vertical-align: top;\n",
       "    }\n",
       "\n",
       "    .dataframe thead th {\n",
       "        text-align: right;\n",
       "    }\n",
       "</style>\n",
       "<table border=\"1\" class=\"dataframe\">\n",
       "  <thead>\n",
       "    <tr style=\"text-align: right;\">\n",
       "      <th></th>\n",
       "      <th>______</th>\n",
       "      <th>_______quot</th>\n",
       "      <th>a_</th>\n",
       "      <th>a_i_____oei_aoycu</th>\n",
       "      <th>aa</th>\n",
       "      <th>aapl</th>\n",
       "      <th>abacus</th>\n",
       "      <th>abandoned</th>\n",
       "      <th>aber</th>\n",
       "      <th>able</th>\n",
       "      <th>...</th>\n",
       "      <th>zero</th>\n",
       "      <th>zimride</th>\n",
       "      <th>zip</th>\n",
       "      <th>zite</th>\n",
       "      <th>zms</th>\n",
       "      <th>zombies</th>\n",
       "      <th>zomg</th>\n",
       "      <th>zone</th>\n",
       "      <th>zoom</th>\n",
       "      <th>zzzs</th>\n",
       "    </tr>\n",
       "  </thead>\n",
       "  <tbody>\n",
       "    <tr>\n",
       "      <th>0</th>\n",
       "      <td>0</td>\n",
       "      <td>0</td>\n",
       "      <td>0</td>\n",
       "      <td>0</td>\n",
       "      <td>0</td>\n",
       "      <td>0</td>\n",
       "      <td>0</td>\n",
       "      <td>0</td>\n",
       "      <td>0</td>\n",
       "      <td>0</td>\n",
       "      <td>...</td>\n",
       "      <td>0</td>\n",
       "      <td>0</td>\n",
       "      <td>0</td>\n",
       "      <td>0</td>\n",
       "      <td>0</td>\n",
       "      <td>0</td>\n",
       "      <td>0</td>\n",
       "      <td>0</td>\n",
       "      <td>0</td>\n",
       "      <td>0</td>\n",
       "    </tr>\n",
       "    <tr>\n",
       "      <th>1</th>\n",
       "      <td>0</td>\n",
       "      <td>0</td>\n",
       "      <td>0</td>\n",
       "      <td>0</td>\n",
       "      <td>0</td>\n",
       "      <td>0</td>\n",
       "      <td>0</td>\n",
       "      <td>0</td>\n",
       "      <td>0</td>\n",
       "      <td>0</td>\n",
       "      <td>...</td>\n",
       "      <td>0</td>\n",
       "      <td>0</td>\n",
       "      <td>0</td>\n",
       "      <td>0</td>\n",
       "      <td>0</td>\n",
       "      <td>0</td>\n",
       "      <td>0</td>\n",
       "      <td>0</td>\n",
       "      <td>0</td>\n",
       "      <td>0</td>\n",
       "    </tr>\n",
       "    <tr>\n",
       "      <th>2</th>\n",
       "      <td>0</td>\n",
       "      <td>0</td>\n",
       "      <td>0</td>\n",
       "      <td>0</td>\n",
       "      <td>0</td>\n",
       "      <td>0</td>\n",
       "      <td>0</td>\n",
       "      <td>0</td>\n",
       "      <td>0</td>\n",
       "      <td>0</td>\n",
       "      <td>...</td>\n",
       "      <td>0</td>\n",
       "      <td>0</td>\n",
       "      <td>0</td>\n",
       "      <td>0</td>\n",
       "      <td>0</td>\n",
       "      <td>0</td>\n",
       "      <td>0</td>\n",
       "      <td>0</td>\n",
       "      <td>0</td>\n",
       "      <td>0</td>\n",
       "    </tr>\n",
       "    <tr>\n",
       "      <th>3</th>\n",
       "      <td>0</td>\n",
       "      <td>0</td>\n",
       "      <td>0</td>\n",
       "      <td>0</td>\n",
       "      <td>0</td>\n",
       "      <td>0</td>\n",
       "      <td>0</td>\n",
       "      <td>0</td>\n",
       "      <td>0</td>\n",
       "      <td>0</td>\n",
       "      <td>...</td>\n",
       "      <td>0</td>\n",
       "      <td>0</td>\n",
       "      <td>0</td>\n",
       "      <td>0</td>\n",
       "      <td>0</td>\n",
       "      <td>0</td>\n",
       "      <td>0</td>\n",
       "      <td>0</td>\n",
       "      <td>0</td>\n",
       "      <td>0</td>\n",
       "    </tr>\n",
       "    <tr>\n",
       "      <th>4</th>\n",
       "      <td>0</td>\n",
       "      <td>0</td>\n",
       "      <td>0</td>\n",
       "      <td>0</td>\n",
       "      <td>0</td>\n",
       "      <td>0</td>\n",
       "      <td>0</td>\n",
       "      <td>0</td>\n",
       "      <td>0</td>\n",
       "      <td>0</td>\n",
       "      <td>...</td>\n",
       "      <td>0</td>\n",
       "      <td>0</td>\n",
       "      <td>0</td>\n",
       "      <td>0</td>\n",
       "      <td>0</td>\n",
       "      <td>0</td>\n",
       "      <td>0</td>\n",
       "      <td>0</td>\n",
       "      <td>0</td>\n",
       "      <td>0</td>\n",
       "    </tr>\n",
       "  </tbody>\n",
       "</table>\n",
       "<p>5 rows × 5706 columns</p>\n",
       "</div>"
      ],
      "text/plain": [
       "   ______  _______quot  a_  a_i_____oei_aoycu  aa  aapl  abacus  abandoned  \\\n",
       "0       0            0   0                  0   0     0       0          0   \n",
       "1       0            0   0                  0   0     0       0          0   \n",
       "2       0            0   0                  0   0     0       0          0   \n",
       "3       0            0   0                  0   0     0       0          0   \n",
       "4       0            0   0                  0   0     0       0          0   \n",
       "\n",
       "   aber  able  ...   zero  zimride  zip  zite  zms  zombies  zomg  zone  zoom  \\\n",
       "0     0     0  ...      0        0    0     0    0        0     0     0     0   \n",
       "1     0     0  ...      0        0    0     0    0        0     0     0     0   \n",
       "2     0     0  ...      0        0    0     0    0        0     0     0     0   \n",
       "3     0     0  ...      0        0    0     0    0        0     0     0     0   \n",
       "4     0     0  ...      0        0    0     0    0        0     0     0     0   \n",
       "\n",
       "   zzzs  \n",
       "0     0  \n",
       "1     0  \n",
       "2     0  \n",
       "3     0  \n",
       "4     0  \n",
       "\n",
       "[5 rows x 5706 columns]"
      ]
     },
     "execution_count": 318,
     "metadata": {},
     "output_type": "execute_result"
    }
   ],
   "source": [
    "review_df.head()#document term matrix"
   ]
  },
  {
   "cell_type": "code",
   "execution_count": 320,
   "metadata": {},
   "outputs": [],
   "source": [
    "X_train, X_test, y_train, y_test = train_test_split(review_df, Y, test_size=0.30, random_state=42)"
   ]
  },
  {
   "cell_type": "markdown",
   "metadata": {
    "colab_type": "text",
    "id": "Q5nlCuaaH0OD"
   },
   "source": [
    "## 9. **Predicting the sentiment:**\n",
    "\n",
    "\n",
    "### Use Naive Bayes and Logistic Regression and their accuracy scores for predicting the sentiment of the given text"
   ]
  },
  {
   "cell_type": "code",
   "execution_count": 325,
   "metadata": {
    "colab": {},
    "colab_type": "code",
    "id": "2AbVYssaH0OE"
   },
   "outputs": [],
   "source": [
    "from sklearn.naive_bayes import GaussianNB\n",
    "from sklearn.naive_bayes import MultinomialNB\n",
    "from sklearn.linear_model import LogisticRegression"
   ]
  },
  {
   "cell_type": "code",
   "execution_count": 260,
   "metadata": {
    "colab": {},
    "colab_type": "code",
    "id": "ktXrLhmOH0Of"
   },
   "outputs": [],
   "source": [
    "GBmodel = GaussianNB()"
   ]
  },
  {
   "cell_type": "code",
   "execution_count": 326,
   "metadata": {},
   "outputs": [],
   "source": [
    "MBModel = MultinomialNB()"
   ]
  },
  {
   "cell_type": "code",
   "execution_count": 321,
   "metadata": {
    "colab": {},
    "colab_type": "code",
    "id": "clv2X0kKH0Ok"
   },
   "outputs": [
    {
     "data": {
      "text/plain": [
       "GaussianNB(priors=None, var_smoothing=1e-09)"
      ]
     },
     "execution_count": 321,
     "metadata": {},
     "output_type": "execute_result"
    }
   ],
   "source": [
    "GBmodel.fit(X_train, y_train)"
   ]
  },
  {
   "cell_type": "code",
   "execution_count": 327,
   "metadata": {},
   "outputs": [
    {
     "data": {
      "text/plain": [
       "MultinomialNB(alpha=1.0, class_prior=None, fit_prior=True)"
      ]
     },
     "execution_count": 327,
     "metadata": {},
     "output_type": "execute_result"
    }
   ],
   "source": [
    "MBModel.fit(X_train, y_train)"
   ]
  },
  {
   "cell_type": "code",
   "execution_count": 322,
   "metadata": {
    "colab": {},
    "colab_type": "code",
    "id": "K86LRMfdH0Ou"
   },
   "outputs": [
    {
     "data": {
      "text/plain": [
       "0.7693110647181628"
      ]
     },
     "execution_count": 322,
     "metadata": {},
     "output_type": "execute_result"
    }
   ],
   "source": [
    "GBmodel.score(X_test,y_test)"
   ]
  },
  {
   "cell_type": "code",
   "execution_count": 328,
   "metadata": {},
   "outputs": [
    {
     "data": {
      "text/plain": [
       "0.8444676409185804"
      ]
     },
     "execution_count": 328,
     "metadata": {},
     "output_type": "execute_result"
    }
   ],
   "source": [
    "MBModel.score(X_test,y_test)"
   ]
  },
  {
   "cell_type": "code",
   "execution_count": 329,
   "metadata": {},
   "outputs": [],
   "source": [
    "LRmodel = LogisticRegression()"
   ]
  },
  {
   "cell_type": "code",
   "execution_count": 330,
   "metadata": {},
   "outputs": [
    {
     "name": "stderr",
     "output_type": "stream",
     "text": [
      "C:\\ProgramData\\Anaconda3\\lib\\site-packages\\sklearn\\linear_model\\logistic.py:433: FutureWarning: Default solver will be changed to 'lbfgs' in 0.22. Specify a solver to silence this warning.\n",
      "  FutureWarning)\n"
     ]
    },
    {
     "data": {
      "text/plain": [
       "LogisticRegression(C=1.0, class_weight=None, dual=False, fit_intercept=True,\n",
       "          intercept_scaling=1, max_iter=100, multi_class='warn',\n",
       "          n_jobs=None, penalty='l2', random_state=None, solver='warn',\n",
       "          tol=0.0001, verbose=0, warm_start=False)"
      ]
     },
     "execution_count": 330,
     "metadata": {},
     "output_type": "execute_result"
    }
   ],
   "source": [
    "LRmodel.fit(X_train, y_train)"
   ]
  },
  {
   "cell_type": "code",
   "execution_count": 331,
   "metadata": {},
   "outputs": [
    {
     "data": {
      "text/plain": [
       "0.8653444676409185"
      ]
     },
     "execution_count": 331,
     "metadata": {},
     "output_type": "execute_result"
    }
   ],
   "source": [
    "LRmodel.score(X_test,y_test)"
   ]
  },
  {
   "cell_type": "markdown",
   "metadata": {
    "colab_type": "text",
    "id": "sw-0B33tH0Ox"
   },
   "source": [
    "## 10. Create a function called `tokenize_predict` which can take count vectorizer object as input and prints the accuracy for x (text) and y (labels)"
   ]
  },
  {
   "cell_type": "code",
   "execution_count": 338,
   "metadata": {},
   "outputs": [],
   "source": [
    "from sklearn import metrics"
   ]
  },
  {
   "cell_type": "code",
   "execution_count": 339,
   "metadata": {
    "colab": {},
    "colab_type": "code",
    "id": "okCTOs1TH0Oy"
   },
   "outputs": [],
   "source": [
    "def tokenize_test(vect):\n",
    "    x_train_dtm = vect.fit_transform(x_train)\n",
    "    print('Features: ', x_train_dtm.shape[1])\n",
    "    x_test_dtm = vect.transform(x_test)\n",
    "    nb = MultinomialNB()\n",
    "    nb.fit(x_train_dtm, y_train)\n",
    "    y_pred_class = nb.predict(x_test_dtm)\n",
    "    print('Accuracy: ', metrics.accuracy_score(y_test, y_pred_class))"
   ]
  },
  {
   "cell_type": "code",
   "execution_count": 332,
   "metadata": {},
   "outputs": [],
   "source": [
    "x_train, x_test, y_train, y_test = train_test_split(X, Y, test_size=0.30, random_state=42)"
   ]
  },
  {
   "cell_type": "code",
   "execution_count": 333,
   "metadata": {},
   "outputs": [],
   "source": [
    "vectNew = CountVectorizer(stop_words = 'english')"
   ]
  },
  {
   "cell_type": "code",
   "execution_count": 340,
   "metadata": {},
   "outputs": [
    {
     "name": "stdout",
     "output_type": "stream",
     "text": [
      "Features:  4665\n",
      "Accuracy:  0.860125260960334\n"
     ]
    }
   ],
   "source": [
    "tokenize_test(vectNew)"
   ]
  },
  {
   "cell_type": "markdown",
   "metadata": {
    "colab_type": "text",
    "id": "JxZ8jfPEH0O0"
   },
   "source": [
    "### 11 Create a count vectorizer function which includes n_grams = 1,2  and pass it to tokenize_predict function to print the accuracy score"
   ]
  },
  {
   "cell_type": "code",
   "execution_count": 343,
   "metadata": {
    "colab": {},
    "colab_type": "code",
    "id": "kdCyAN_IH0O0"
   },
   "outputs": [],
   "source": [
    "vectNew = CountVectorizer(stop_words = 'english',ngram_range=(1, 2))"
   ]
  },
  {
   "cell_type": "code",
   "execution_count": 344,
   "metadata": {},
   "outputs": [
    {
     "name": "stdout",
     "output_type": "stream",
     "text": [
      "Features:  18065\n",
      "Accuracy:  0.8653444676409185\n"
     ]
    }
   ],
   "source": [
    "tokenize_test(vectNew)"
   ]
  },
  {
   "cell_type": "markdown",
   "metadata": {
    "colab_type": "text",
    "id": "axepytmgH0O4"
   },
   "source": [
    "### Q 12 Create a count vectorizer function with stopwords = 'english'  and pass it to tokenize_predict function to print the accuracy score"
   ]
  },
  {
   "cell_type": "markdown",
   "metadata": {
    "colab": {},
    "colab_type": "code",
    "id": "HToGkq7vH0O4"
   },
   "source": [
    "Done above with stopwords = english"
   ]
  },
  {
   "cell_type": "markdown",
   "metadata": {
    "colab_type": "text",
    "id": "iOIlJRxoH0O7"
   },
   "source": [
    "### Q 13 Create a count vectorizer function with stopwords = 'english' and max_features =300  and pass it to tokenize_predict function to print the accuracy score"
   ]
  },
  {
   "cell_type": "code",
   "execution_count": 345,
   "metadata": {
    "colab": {},
    "colab_type": "code",
    "id": "6fUhff-oH0O8"
   },
   "outputs": [],
   "source": [
    "vectNew = CountVectorizer(stop_words = 'english',max_features =300)"
   ]
  },
  {
   "cell_type": "code",
   "execution_count": 346,
   "metadata": {},
   "outputs": [
    {
     "name": "stdout",
     "output_type": "stream",
     "text": [
      "Features:  300\n",
      "Accuracy:  0.826722338204593\n"
     ]
    }
   ],
   "source": [
    "tokenize_test(vectNew)"
   ]
  },
  {
   "cell_type": "markdown",
   "metadata": {
    "colab_type": "text",
    "id": "S2KZNWVkH0PA"
   },
   "source": [
    "### Q 14 Create a count vectorizer function with n_grams = 1,2  and max_features = 15000  and pass it to tokenize_predict function to print the accuracy score"
   ]
  },
  {
   "cell_type": "code",
   "execution_count": 347,
   "metadata": {
    "colab": {},
    "colab_type": "code",
    "id": "3v9XD082H0PB"
   },
   "outputs": [
    {
     "name": "stdout",
     "output_type": "stream",
     "text": [
      "Features:  15000\n",
      "Accuracy:  0.8632567849686847\n"
     ]
    }
   ],
   "source": [
    "vectNew = CountVectorizer(ngram_range=(1, 2),max_features =15000)\n",
    "tokenize_test(vectNew)"
   ]
  },
  {
   "cell_type": "markdown",
   "metadata": {
    "colab_type": "text",
    "id": "We3JK_SRH0PO"
   },
   "source": [
    "### Q. 15 -Create a count vectorizer function with n_grams = 1,2  and include terms that appear at least 2 times (min_df = 2)  and pass it to tokenize_predict function to print the accuracy score"
   ]
  },
  {
   "cell_type": "code",
   "execution_count": 348,
   "metadata": {
    "colab": {},
    "colab_type": "code",
    "id": "fUHrfDCyH0PP"
   },
   "outputs": [
    {
     "name": "stdout",
     "output_type": "stream",
     "text": [
      "Features:  7144\n",
      "Accuracy:  0.8465553235908142\n"
     ]
    }
   ],
   "source": [
    "vectNew = CountVectorizer(ngram_range=(1, 2),min_df = 2)\n",
    "tokenize_test(vectNew)"
   ]
  }
 ],
 "metadata": {
  "accelerator": "GPU",
  "colab": {
   "collapsed_sections": [],
   "name": "R8_Internal_Lab_Questions.ipynb",
   "provenance": [],
   "version": "0.3.2"
  },
  "kernelspec": {
   "display_name": "Python 3",
   "language": "python",
   "name": "python3"
  },
  "language_info": {
   "codemirror_mode": {
    "name": "ipython",
    "version": 3
   },
   "file_extension": ".py",
   "mimetype": "text/x-python",
   "name": "python",
   "nbconvert_exporter": "python",
   "pygments_lexer": "ipython3",
   "version": "3.7.1"
  }
 },
 "nbformat": 4,
 "nbformat_minor": 1
}
