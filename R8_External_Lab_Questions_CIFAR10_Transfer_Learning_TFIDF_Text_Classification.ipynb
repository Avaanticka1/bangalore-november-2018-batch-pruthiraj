{
 "cells": [
  {
   "cell_type": "markdown",
   "metadata": {
    "colab_type": "text",
    "id": "QGIsF1ADyJ58"
   },
   "source": [
    "# Transfer Learning CIFAR10"
   ]
  },
  {
   "cell_type": "markdown",
   "metadata": {
    "colab_type": "text",
    "id": "E-n6tVFayGBe"
   },
   "source": [
    "* Train a simple convnet on the CIFAR dataset the first 5 output classes [0..4].\n",
    "* Freeze convolutional layers and fine-tune dense layers for the last 5 ouput classes [5..9].\n"
   ]
  },
  {
   "cell_type": "code",
   "execution_count": 1,
   "metadata": {},
   "outputs": [
    {
     "name": "stderr",
     "output_type": "stream",
     "text": [
      "Using TensorFlow backend.\n"
     ]
    }
   ],
   "source": [
    "import numpy as np\n",
    "import pandas as pd\n",
    "import keras\n",
    "from keras.models import Sequential\n",
    "from keras.layers.core import Dense,Dropout,Activation,Flatten\n",
    "from keras.layers.convolutional import Conv2D,MaxPooling2D\n",
    "from keras.utils import np_utils\n",
    "from sklearn import metrics\n",
    "import matplotlib.pyplot as plt\n",
    "%matplotlib inline"
   ]
  },
  {
   "cell_type": "markdown",
   "metadata": {
    "colab_type": "text",
    "id": "Cq8ejXHJyGYq"
   },
   "source": [
    "### 1. Import CIFAR10 data and create 2 datasets with one dataset having classes from 0 to 4 and other having classes from 5 to 9 "
   ]
  },
  {
   "cell_type": "code",
   "execution_count": 2,
   "metadata": {},
   "outputs": [],
   "source": [
    "from keras.datasets import cifar10"
   ]
  },
  {
   "cell_type": "code",
   "execution_count": 3,
   "metadata": {
    "colab": {},
    "colab_type": "code",
    "id": "uWYbxnBayFUP"
   },
   "outputs": [],
   "source": [
    "#Load the dataset:\n",
    "(X_train, y_train), (X_test, y_test) = cifar10.load_data()"
   ]
  },
  {
   "cell_type": "code",
   "execution_count": 4,
   "metadata": {},
   "outputs": [
    {
     "data": {
      "text/plain": [
       "(50000, 32, 32, 3)"
      ]
     },
     "execution_count": 4,
     "metadata": {},
     "output_type": "execute_result"
    }
   ],
   "source": [
    "X_train.shape"
   ]
  },
  {
   "cell_type": "code",
   "execution_count": 5,
   "metadata": {},
   "outputs": [
    {
     "data": {
      "text/plain": [
       "(10000, 32, 32, 3)"
      ]
     },
     "execution_count": 5,
     "metadata": {},
     "output_type": "execute_result"
    }
   ],
   "source": [
    "X_test.shape"
   ]
  },
  {
   "cell_type": "code",
   "execution_count": 6,
   "metadata": {},
   "outputs": [],
   "source": [
    "X1_train = []\n",
    "X1_test = []\n",
    "X2_train = []\n",
    "X2_test = []\n",
    "Y1_train = []\n",
    "Y1_test = []\n",
    "Y2_train = []\n",
    "Y2_test = []"
   ]
  },
  {
   "cell_type": "code",
   "execution_count": 7,
   "metadata": {},
   "outputs": [],
   "source": [
    "totalImageInTrainning = X_train.shape[0]\n",
    "maxIntensity = X_train[0].max()"
   ]
  },
  {
   "cell_type": "code",
   "execution_count": 8,
   "metadata": {},
   "outputs": [],
   "source": [
    "#split the trainning set\n",
    "for item in range(totalImageInTrainning):\n",
    "    if y_train[item]<5:\n",
    "        X1_train.append(X_train[item]/maxIntensity)\n",
    "        Y1_train.append(y_train[item])\n",
    "    else:\n",
    "        X2_train.append(X_train[item]/maxIntensity)\n",
    "        Y2_train.append(y_train[item])"
   ]
  },
  {
   "cell_type": "code",
   "execution_count": 9,
   "metadata": {},
   "outputs": [],
   "source": [
    "totalImageInTestset = X_test.shape[0]\n",
    "maxTestIntensity = X_test[0].max()"
   ]
  },
  {
   "cell_type": "code",
   "execution_count": 10,
   "metadata": {},
   "outputs": [],
   "source": [
    "#split the test set\n",
    "for item in range(totalImageInTestset):\n",
    "    if y_test[item]<5:\n",
    "        X1_test.append(X_test[item]/maxTestIntensity)\n",
    "        Y1_test.append(y_test[item])\n",
    "    else:\n",
    "        X2_test.append(X_test[item]/maxTestIntensity)\n",
    "        Y2_test.append(y_test[item])"
   ]
  },
  {
   "cell_type": "code",
   "execution_count": 11,
   "metadata": {},
   "outputs": [],
   "source": [
    "#reshape the array to 32,32,3\n",
    "X1_train = np.asarray(X1_train).reshape((-1, 32, 32, 3))\n",
    "X1_test = np.asarray(X1_test).reshape((-1, 32, 32, 3))\n",
    "X2_train = np.asarray(X2_train).reshape((-1, 32, 32, 3))\n",
    "X2_test = np.asarray(X2_test).reshape((-1, 32, 32, 3))"
   ]
  },
  {
   "cell_type": "code",
   "execution_count": 12,
   "metadata": {},
   "outputs": [
    {
     "name": "stdout",
     "output_type": "stream",
     "text": [
      "(25000, 32, 32, 3)\n",
      "(5000, 32, 32, 3)\n",
      "(25000, 32, 32, 3)\n",
      "(5000, 32, 32, 3)\n"
     ]
    }
   ],
   "source": [
    "print(X1_train.shape)\n",
    "print(X1_test.shape)\n",
    "print(X2_train.shape)\n",
    "print(X2_test.shape)"
   ]
  },
  {
   "cell_type": "code",
   "execution_count": 13,
   "metadata": {},
   "outputs": [
    {
     "name": "stdout",
     "output_type": "stream",
     "text": [
      "First set lable range [0] [4]\n"
     ]
    }
   ],
   "source": [
    "print('First set lable range', min(Y1_train),max(Y1_train))"
   ]
  },
  {
   "cell_type": "code",
   "execution_count": 14,
   "metadata": {},
   "outputs": [
    {
     "name": "stdout",
     "output_type": "stream",
     "text": [
      "Second set lable range [5] [9]\n"
     ]
    }
   ],
   "source": [
    "print('Second set lable range', min(Y2_train),max(Y2_train))"
   ]
  },
  {
   "cell_type": "markdown",
   "metadata": {
    "colab_type": "text",
    "id": "xtCKmQh4yXhT"
   },
   "source": [
    "### 2. Use One-hot encoding to divide y_train and y_test into required no of output classes"
   ]
  },
  {
   "cell_type": "code",
   "execution_count": 15,
   "metadata": {
    "colab": {},
    "colab_type": "code",
    "id": "uN5O2kJ3yYa6"
   },
   "outputs": [],
   "source": [
    "#One-hot encoding the labels\n",
    "num_classes = 5\n",
    "Y1_train = np_utils.to_categorical(np.asarray(Y1_train), num_classes)\n",
    "Y1_test = np_utils.to_categorical(np.asarray(Y1_test), num_classes)"
   ]
  },
  {
   "cell_type": "code",
   "execution_count": 16,
   "metadata": {},
   "outputs": [
    {
     "data": {
      "text/plain": [
       "(25000, 5)"
      ]
     },
     "execution_count": 16,
     "metadata": {},
     "output_type": "execute_result"
    }
   ],
   "source": [
    "Y1_train.shape"
   ]
  },
  {
   "cell_type": "code",
   "execution_count": 17,
   "metadata": {},
   "outputs": [],
   "source": [
    "num_classes = 10\n",
    "Y2_train = np_utils.to_categorical(np.asarray(Y2_train), num_classes)\n",
    "Y2_test = np_utils.to_categorical(np.asarray(Y2_test), num_classes)"
   ]
  },
  {
   "cell_type": "code",
   "execution_count": 18,
   "metadata": {},
   "outputs": [
    {
     "data": {
      "text/plain": [
       "(25000, 10)"
      ]
     },
     "execution_count": 18,
     "metadata": {},
     "output_type": "execute_result"
    }
   ],
   "source": [
    "Y2_train.shape"
   ]
  },
  {
   "cell_type": "code",
   "execution_count": 19,
   "metadata": {},
   "outputs": [
    {
     "data": {
      "text/plain": [
       "1.0"
      ]
     },
     "execution_count": 19,
     "metadata": {},
     "output_type": "execute_result"
    }
   ],
   "source": [
    "Y2_train.max()"
   ]
  },
  {
   "cell_type": "code",
   "execution_count": 20,
   "metadata": {},
   "outputs": [
    {
     "data": {
      "text/plain": [
       "(5000, 5)"
      ]
     },
     "execution_count": 20,
     "metadata": {},
     "output_type": "execute_result"
    }
   ],
   "source": [
    "Y1_test.shape"
   ]
  },
  {
   "cell_type": "code",
   "execution_count": 21,
   "metadata": {},
   "outputs": [
    {
     "data": {
      "text/plain": [
       "(5000, 10)"
      ]
     },
     "execution_count": 21,
     "metadata": {},
     "output_type": "execute_result"
    }
   ],
   "source": [
    "Y2_test.shape"
   ]
  },
  {
   "cell_type": "code",
   "execution_count": 22,
   "metadata": {},
   "outputs": [
    {
     "data": {
      "text/plain": [
       "array([0., 0., 0., 0., 1.], dtype=float32)"
      ]
     },
     "execution_count": 22,
     "metadata": {},
     "output_type": "execute_result"
    }
   ],
   "source": [
    "Y1_train[0]"
   ]
  },
  {
   "cell_type": "markdown",
   "metadata": {
    "colab_type": "text",
    "id": "cuOiKWfeybAl"
   },
   "source": [
    "### 3. Build a sequential neural network model which can classify the classes 0 to 4 of CIFAR10 dataset with at least 80% accuracy on test data"
   ]
  },
  {
   "cell_type": "code",
   "execution_count": 23,
   "metadata": {},
   "outputs": [
    {
     "data": {
      "text/plain": [
       "(32, 32, 3)"
      ]
     },
     "execution_count": 23,
     "metadata": {},
     "output_type": "execute_result"
    }
   ],
   "source": [
    "X1_train.shape[1:]"
   ]
  },
  {
   "cell_type": "code",
   "execution_count": 24,
   "metadata": {},
   "outputs": [],
   "source": [
    "import time, datetime"
   ]
  },
  {
   "cell_type": "code",
   "execution_count": 25,
   "metadata": {},
   "outputs": [
    {
     "name": "stdout",
     "output_type": "stream",
     "text": [
      "WARNING:tensorflow:From C:\\ProgramData\\Anaconda3\\lib\\site-packages\\tensorflow\\python\\framework\\op_def_library.py:263: colocate_with (from tensorflow.python.framework.ops) is deprecated and will be removed in a future version.\n",
      "Instructions for updating:\n",
      "Colocations handled automatically by placer.\n",
      "_________________________________________________________________\n",
      "Layer (type)                 Output Shape              Param #   \n",
      "=================================================================\n",
      "conv2d_1 (Conv2D)            (None, 30, 30, 32)        896       \n",
      "_________________________________________________________________\n",
      "max_pooling2d_1 (MaxPooling2 (None, 15, 15, 32)        0         \n",
      "_________________________________________________________________\n",
      "conv2d_2 (Conv2D)            (None, 13, 13, 32)        9248      \n",
      "_________________________________________________________________\n",
      "max_pooling2d_2 (MaxPooling2 (None, 6, 6, 32)          0         \n",
      "_________________________________________________________________\n",
      "conv2d_3 (Conv2D)            (None, 4, 4, 64)          18496     \n",
      "_________________________________________________________________\n",
      "max_pooling2d_3 (MaxPooling2 (None, 2, 2, 64)          0         \n",
      "_________________________________________________________________\n",
      "global_average_pooling2d_1 ( (None, 64)                0         \n",
      "_________________________________________________________________\n",
      "dense_1 (Dense)              (None, 1000)              65000     \n",
      "_________________________________________________________________\n",
      "dense_2 (Dense)              (None, 5)                 5005      \n",
      "=================================================================\n",
      "Total params: 98,645\n",
      "Trainable params: 98,645\n",
      "Non-trainable params: 0\n",
      "_________________________________________________________________\n"
     ]
    }
   ],
   "source": [
    "#Building up a Sequential model\n",
    "from keras.layers import Dropout, Flatten, GlobalAveragePooling2D\n",
    "\n",
    "model = Sequential()\n",
    "model.add(Conv2D(32, (3, 3), activation='relu',input_shape = X1_train.shape[1:]))\n",
    "model.add(MaxPooling2D(pool_size=(2, 2)))\n",
    "\n",
    "model.add(Conv2D(32, (3, 3), activation='relu'))\n",
    "model.add(MaxPooling2D(pool_size=(2, 2)))\n",
    "\n",
    "model.add(Conv2D(64, (3, 3), activation='relu'))\n",
    "model.add(MaxPooling2D(pool_size=(2, 2)))\n",
    "\n",
    "model.add(GlobalAveragePooling2D())\n",
    "model.add(Dense(1000, activation='relu')) \n",
    "model.add(Dense(5, activation='softmax'))\n",
    "model.summary()"
   ]
  },
  {
   "cell_type": "code",
   "execution_count": 26,
   "metadata": {},
   "outputs": [],
   "source": [
    "model.compile(loss='binary_crossentropy', optimizer='adam',\n",
    "              metrics=['accuracy'])"
   ]
  },
  {
   "cell_type": "code",
   "execution_count": 27,
   "metadata": {},
   "outputs": [
    {
     "name": "stdout",
     "output_type": "stream",
     "text": [
      "WARNING:tensorflow:From C:\\ProgramData\\Anaconda3\\lib\\site-packages\\tensorflow\\python\\ops\\math_ops.py:3066: to_int32 (from tensorflow.python.ops.math_ops) is deprecated and will be removed in a future version.\n",
      "Instructions for updating:\n",
      "Use tf.cast instead.\n",
      "Train on 25000 samples, validate on 5000 samples\n",
      "Epoch 1/10\n",
      "25000/25000 [==============================] - 31s 1ms/step - loss: 0.3755 - acc: 0.8322 - val_loss: 0.3238 - val_acc: 0.8557\n",
      "Epoch 2/10\n",
      "25000/25000 [==============================] - 30s 1ms/step - loss: 0.3034 - acc: 0.8665 - val_loss: 0.2834 - val_acc: 0.8782\n",
      "Epoch 3/10\n",
      "25000/25000 [==============================] - 33s 1ms/step - loss: 0.2722 - acc: 0.8824 - val_loss: 0.2766 - val_acc: 0.8796\n",
      "Epoch 4/10\n",
      "25000/25000 [==============================] - 32s 1ms/step - loss: 0.2447 - acc: 0.8970 - val_loss: 0.2669 - val_acc: 0.8852\n",
      "Epoch 5/10\n",
      "25000/25000 [==============================] - 34s 1ms/step - loss: 0.2255 - acc: 0.9056 - val_loss: 0.2353 - val_acc: 0.8998\n",
      "Epoch 6/10\n",
      "25000/25000 [==============================] - 36s 1ms/step - loss: 0.2095 - acc: 0.9128 - val_loss: 0.2367 - val_acc: 0.9014\n",
      "Epoch 7/10\n",
      "25000/25000 [==============================] - 36s 1ms/step - loss: 0.1962 - acc: 0.9192 - val_loss: 0.2242 - val_acc: 0.9050\n",
      "Epoch 8/10\n",
      "25000/25000 [==============================] - 33s 1ms/step - loss: 0.1829 - acc: 0.9246 - val_loss: 0.2280 - val_acc: 0.9062\n",
      "Epoch 9/10\n",
      "25000/25000 [==============================] - 36s 1ms/step - loss: 0.1713 - acc: 0.9302 - val_loss: 0.2208 - val_acc: 0.9090\n",
      "Epoch 10/10\n",
      "25000/25000 [==============================] - 35s 1ms/step - loss: 0.1603 - acc: 0.9353 - val_loss: 0.2173 - val_acc: 0.9128\n",
      "Time Taken for Trainning: 0:05:35.711000\n"
     ]
    }
   ],
   "source": [
    "batch_size=32\n",
    "epochs = 10\n",
    "start = datetime.datetime.now()\n",
    "model.fit(X1_train, Y1_train,\n",
    "          batch_size=batch_size,\n",
    "          epochs=epochs,\n",
    "          verbose=1,\n",
    "          validation_data=(X1_test, Y1_test))\n",
    "time_taken = datetime.datetime.now() - start\n",
    "print('Time Taken for Trainning:',time_taken)"
   ]
  },
  {
   "cell_type": "code",
   "execution_count": 28,
   "metadata": {},
   "outputs": [
    {
     "name": "stdout",
     "output_type": "stream",
     "text": [
      "5000/5000 [==============================] - 3s 570us/step\n",
      "Accuracy on the Test Images:  0.9128399965286255\n"
     ]
    }
   ],
   "source": [
    "#Evaluate the model on the test data\n",
    "score = model.evaluate(X1_test, Y1_test)\n",
    "\n",
    "#Accuracy on test data\n",
    "print('Accuracy on the Test Images: ', score[1])"
   ]
  },
  {
   "cell_type": "markdown",
   "metadata": {
    "colab_type": "text",
    "id": "woTfNst_ynRG"
   },
   "source": [
    "### 4. In the model which was built above (for classification of classes 0-4 in CIFAR10), make only the dense layers to be trainable and conv layers to be non-trainable"
   ]
  },
  {
   "cell_type": "code",
   "execution_count": 29,
   "metadata": {},
   "outputs": [
    {
     "data": {
      "text/plain": [
       "[<keras.layers.convolutional.Conv2D at 0x1d50f748>,\n",
       " <keras.layers.pooling.MaxPooling2D at 0x1d50f978>,\n",
       " <keras.layers.convolutional.Conv2D at 0x1d50fd30>,\n",
       " <keras.layers.pooling.MaxPooling2D at 0x290ef160>,\n",
       " <keras.layers.convolutional.Conv2D at 0x2910cf60>,\n",
       " <keras.layers.pooling.MaxPooling2D at 0x28f29d68>,\n",
       " <keras.layers.pooling.GlobalAveragePooling2D at 0x28f40ac8>,\n",
       " <keras.layers.core.Dense at 0x290b3cc0>,\n",
       " <keras.layers.core.Dense at 0x290b35c0>]"
      ]
     },
     "execution_count": 29,
     "metadata": {},
     "output_type": "execute_result"
    }
   ],
   "source": [
    "model.layers"
   ]
  },
  {
   "cell_type": "code",
   "execution_count": 30,
   "metadata": {
    "colab": {},
    "colab_type": "code",
    "id": "o_VCDB3Byb1a"
   },
   "outputs": [],
   "source": [
    "for layer in model.layers[:7]:\n",
    "    layer.trainable = False"
   ]
  },
  {
   "cell_type": "markdown",
   "metadata": {
    "colab_type": "text",
    "id": "1-uUPqWpyeyX"
   },
   "source": [
    "### 5. Utilize the the model trained on CIFAR 10 (classes 0 to 4) to classify the classes 5 to 9 of CIFAR 10  (Use Transfer Learning) <br>\n",
    "Achieve an accuracy of more than 85% on test data"
   ]
  },
  {
   "cell_type": "code",
   "execution_count": 31,
   "metadata": {
    "colab": {},
    "colab_type": "code",
    "id": "szHjJgDvyfCt"
   },
   "outputs": [
    {
     "name": "stdout",
     "output_type": "stream",
     "text": [
      "_________________________________________________________________\n",
      "Layer (type)                 Output Shape              Param #   \n",
      "=================================================================\n",
      "conv2d_1 (Conv2D)            (None, 30, 30, 32)        896       \n",
      "_________________________________________________________________\n",
      "max_pooling2d_1 (MaxPooling2 (None, 15, 15, 32)        0         \n",
      "_________________________________________________________________\n",
      "conv2d_2 (Conv2D)            (None, 13, 13, 32)        9248      \n",
      "_________________________________________________________________\n",
      "max_pooling2d_2 (MaxPooling2 (None, 6, 6, 32)          0         \n",
      "_________________________________________________________________\n",
      "conv2d_3 (Conv2D)            (None, 4, 4, 64)          18496     \n",
      "_________________________________________________________________\n",
      "max_pooling2d_3 (MaxPooling2 (None, 2, 2, 64)          0         \n",
      "_________________________________________________________________\n",
      "global_average_pooling2d_1 ( (None, 64)                0         \n",
      "_________________________________________________________________\n",
      "dense_3 (Dense)              (None, 1000)              65000     \n",
      "_________________________________________________________________\n",
      "dense_4 (Dense)              (None, 10)                10010     \n",
      "=================================================================\n",
      "Total params: 103,650\n",
      "Trainable params: 75,010\n",
      "Non-trainable params: 28,640\n",
      "_________________________________________________________________\n"
     ]
    }
   ],
   "source": [
    "transfer_model = Sequential(model.layers[:7])\n",
    "transfer_model.add(Dense(1000, activation='relu')) \n",
    "transfer_model.add(Dense(10, activation='softmax'))\n",
    "transfer_model.summary()"
   ]
  },
  {
   "cell_type": "code",
   "execution_count": 32,
   "metadata": {},
   "outputs": [],
   "source": [
    "transfer_model.compile(loss='binary_crossentropy', optimizer='adam',\n",
    "              metrics=['accuracy'])"
   ]
  },
  {
   "cell_type": "code",
   "execution_count": 33,
   "metadata": {},
   "outputs": [
    {
     "name": "stdout",
     "output_type": "stream",
     "text": [
      "Train on 25000 samples, validate on 5000 samples\n",
      "Epoch 1/10\n",
      "25000/25000 [==============================] - 21s 844us/step - loss: 0.1405 - acc: 0.9412 - val_loss: 0.1271 - val_acc: 0.9473\n",
      "Epoch 2/10\n",
      "25000/25000 [==============================] - 20s 803us/step - loss: 0.1237 - acc: 0.9491 - val_loss: 0.1230 - val_acc: 0.9490\n",
      "Epoch 3/10\n",
      "25000/25000 [==============================] - 20s 802us/step - loss: 0.1186 - acc: 0.9510 - val_loss: 0.1221 - val_acc: 0.9489\n",
      "Epoch 4/10\n",
      "25000/25000 [==============================] - 22s 868us/step - loss: 0.1142 - acc: 0.9525 - val_loss: 0.1159 - val_acc: 0.9517\n",
      "Epoch 5/10\n",
      "25000/25000 [==============================] - 19s 755us/step - loss: 0.1105 - acc: 0.9541 - val_loss: 0.1144 - val_acc: 0.9524\n",
      "Epoch 6/10\n",
      "25000/25000 [==============================] - 21s 830us/step - loss: 0.1074 - acc: 0.9555 - val_loss: 0.1137 - val_acc: 0.9531\n",
      "Epoch 7/10\n",
      "25000/25000 [==============================] - 20s 793us/step - loss: 0.1055 - acc: 0.9560 - val_loss: 0.1121 - val_acc: 0.9535\n",
      "Epoch 8/10\n",
      "25000/25000 [==============================] - 21s 828us/step - loss: 0.1028 - acc: 0.9578 - val_loss: 0.1095 - val_acc: 0.9548\n",
      "Epoch 9/10\n",
      "25000/25000 [==============================] - 19s 757us/step - loss: 0.1008 - acc: 0.9585 - val_loss: 0.1102 - val_acc: 0.9548\n",
      "Epoch 10/10\n",
      "25000/25000 [==============================] - 19s 767us/step - loss: 0.0984 - acc: 0.9596 - val_loss: 0.1088 - val_acc: 0.9551\n",
      "Time Taken for Trainning: 0:03:21.509000\n"
     ]
    }
   ],
   "source": [
    "batch_size=32\n",
    "epochs = 10\n",
    "start = datetime.datetime.now()\n",
    "transfer_model.fit(X2_train, Y2_train,\n",
    "          batch_size=batch_size,\n",
    "          epochs=epochs,\n",
    "          verbose=1,\n",
    "          validation_data=(X2_test, Y2_test))\n",
    "time_taken = datetime.datetime.now() - start\n",
    "print('Time Taken for Trainning:',time_taken)"
   ]
  },
  {
   "cell_type": "code",
   "execution_count": 34,
   "metadata": {},
   "outputs": [
    {
     "name": "stdout",
     "output_type": "stream",
     "text": [
      "5000/5000 [==============================] - 3s 626us/step\n",
      "Accuracy on the Test Images:  0.9551200227737426\n"
     ]
    }
   ],
   "source": [
    "#Evaluate the model on the test data\n",
    "score1 = transfer_model.evaluate(X2_test, Y2_test)\n",
    "\n",
    "#Accuracy on test data\n",
    "print('Accuracy on the Test Images: ', score1[1])"
   ]
  },
  {
   "cell_type": "markdown",
   "metadata": {},
   "source": [
    "We could see that for the first set of learning for lable 0-4, the trainning time took 5:35 and the accuracy was arround 91%. Using transfer learning we could achive faster learning in 03:21 minutes and the accuracy is 95%. This shows transfer learning is very usefull for computation reduction."
   ]
  },
  {
   "cell_type": "markdown",
   "metadata": {
    "colab_type": "text",
    "id": "0zDuRecXzEtr"
   },
   "source": [
    "# Text classification using TF-IDF"
   ]
  },
  {
   "cell_type": "markdown",
   "metadata": {
    "colab_type": "text",
    "id": "xMPlEJhHzb6P"
   },
   "source": [
    "### 6. Load the dataset from sklearn.datasets"
   ]
  },
  {
   "cell_type": "code",
   "execution_count": 67,
   "metadata": {
    "colab": {},
    "colab_type": "code",
    "id": "Fe-B59u3zHNb"
   },
   "outputs": [],
   "source": [
    "from sklearn.datasets import fetch_20newsgroups"
   ]
  },
  {
   "cell_type": "code",
   "execution_count": 68,
   "metadata": {
    "colab": {},
    "colab_type": "code",
    "id": "PRrMemVQzbHU"
   },
   "outputs": [],
   "source": [
    "categories = ['alt.atheism', 'soc.religion.christian', 'comp.graphics', 'sci.med']"
   ]
  },
  {
   "cell_type": "markdown",
   "metadata": {
    "colab_type": "text",
    "id": "-sZX0UbJzmg5"
   },
   "source": [
    "### 7. Training data"
   ]
  },
  {
   "cell_type": "code",
   "execution_count": 37,
   "metadata": {
    "colab": {},
    "colab_type": "code",
    "id": "CITr_5aXziJ2"
   },
   "outputs": [],
   "source": [
    "twenty_train = fetch_20newsgroups(subset='train', categories=categories, shuffle=True, random_state=42)"
   ]
  },
  {
   "cell_type": "markdown",
   "metadata": {
    "colab_type": "text",
    "id": "xcESc5QXzr6p"
   },
   "source": [
    "### 8. Test data"
   ]
  },
  {
   "cell_type": "code",
   "execution_count": 38,
   "metadata": {
    "colab": {},
    "colab_type": "code",
    "id": "ysInblUMzpvl"
   },
   "outputs": [],
   "source": [
    "twenty_test = fetch_20newsgroups(subset='test', categories=categories, shuffle=True, random_state=42)"
   ]
  },
  {
   "cell_type": "markdown",
   "metadata": {
    "colab_type": "text",
    "id": "DriL2yZ50DQq"
   },
   "source": [
    "###  a.  You can access the values for the target variable using .target attribute \n",
    "###  b. You can access the name of the class in the target variable with .target_names\n"
   ]
  },
  {
   "cell_type": "code",
   "execution_count": 39,
   "metadata": {
    "colab": {},
    "colab_type": "code",
    "id": "vlUuai99z1hX"
   },
   "outputs": [
    {
     "data": {
      "text/plain": [
       "array([1, 1, 3, ..., 2, 2, 2], dtype=int64)"
      ]
     },
     "execution_count": 39,
     "metadata": {},
     "output_type": "execute_result"
    }
   ],
   "source": [
    "twenty_train.target"
   ]
  },
  {
   "cell_type": "code",
   "execution_count": 40,
   "metadata": {
    "colab": {},
    "colab_type": "code",
    "id": "VEKzaDfSz5E-"
   },
   "outputs": [
    {
     "data": {
      "text/plain": [
       "['alt.atheism', 'comp.graphics', 'sci.med', 'soc.religion.christian']"
      ]
     },
     "execution_count": 40,
     "metadata": {},
     "output_type": "execute_result"
    }
   ],
   "source": [
    "twenty_train.target_names"
   ]
  },
  {
   "cell_type": "code",
   "execution_count": 41,
   "metadata": {},
   "outputs": [
    {
     "data": {
      "text/plain": [
       "['From: sd345@city.ac.uk (Michael Collier)\\nSubject: Converting images to HP LaserJet III?\\nNntp-Posting-Host: hampton\\nOrganization: The City University\\nLines: 14\\n\\nDoes anyone know of a good way (standard PC application/PD utility) to\\nconvert tif/img/tga files into LaserJet III format.  We would also like to\\ndo the same, converting to HPGL (HP plotter) files.\\n\\nPlease email any response.\\n\\nIs this the correct group?\\n\\nThanks in advance.  Michael.\\n-- \\nMichael Collier (Programmer)                 The Computer Unit,\\nEmail: M.P.Collier@uk.ac.city                The City University,\\nTel: 071 477-8000 x3769                      London,\\nFax: 071 477-8565                            EC1V 0HB.\\n',\n",
       " \"From: ani@ms.uky.edu (Aniruddha B. Deglurkar)\\nSubject: help: Splitting a trimming region along a mesh \\nOrganization: University Of Kentucky, Dept. of Math Sciences\\nLines: 28\\n\\n\\n\\n\\tHi,\\n\\n\\tI have a problem, I hope some of the 'gurus' can help me solve.\\n\\n\\tBackground of the problem:\\n\\tI have a rectangular mesh in the uv domain, i.e  the mesh is a \\n\\tmapping of a 3d Bezier patch into 2d. The area in this domain\\n\\twhich is inside a trimming loop had to be rendered. The trimming\\n\\tloop is a set of 2d Bezier curve segments.\\n\\tFor the sake of notation: the mesh is made up of cells.\\n\\n\\tMy problem is this :\\n\\tThe trimming area has to be split up into individual smaller\\n\\tcells bounded by the trimming curve segments. If a cell\\n\\tis wholly inside the area...then it is output as a whole ,\\n\\telse it is trivially rejected. \\n\\n\\tDoes any body know how thiss can be done, or is there any algo. \\n\\tsomewhere for doing this.\\n\\n\\tAny help would be appreciated.\\n\\n\\tThanks, \\n\\tAni.\\n-- \\nTo get irritated is human, to stay cool, divine.\\n\",\n",
       " \"From: djohnson@cs.ucsd.edu (Darin Johnson)\\nSubject: Re: harrassed at work, could use some prayers\\nOrganization: =CSE Dept., U.C. San Diego\\nLines: 63\\n\\n(Well, I'll email also, but this may apply to other people, so\\nI'll post also.)\\n\\n>I've been working at this company for eight years in various\\n>engineering jobs.  I'm female.  Yesterday I counted and realized that\\n>on seven different occasions I've been sexually harrassed at this\\n>company.\\n\\n>I dreaded coming back to work today.  What if my boss comes in to ask\\n>me some kind of question...\\n\\nYour boss should be the person bring these problems to.  If he/she\\ndoes not seem to take any action, keep going up higher and higher.\\nSexual harrassment does not need to be tolerated, and it can be an\\nenormous emotional support to discuss this with someone and know that\\nthey are trying to do something about it.  If you feel you can not\\ndiscuss this with your boss, perhaps your company has a personnel\\ndepartment that can work for you while preserving your privacy.  Most\\ncompanies will want to deal with this problem because constant anxiety\\ndoes seriously affect how effectively employees do their jobs.\\n\\nIt is unclear from your letter if you have done this or not.  It is\\nnot inconceivable that management remains ignorant of employee\\nproblems/strife even after eight years (it's a miracle if they do\\nnotice).  Perhaps your manager did not bring to the attention of\\nhigher ups?  If the company indeed does seem to want to ignore the\\nentire problem, there may be a state agency willing to fight with\\nyou.  (check with a lawyer, a women's resource center, etc to find out)\\n\\nYou may also want to discuss this with your paster, priest, husband,\\netc.  That is, someone you know will not be judgemental and that is\\nsupportive, comforting, etc.  This will bring a lot of healing.\\n\\n>So I returned at 11:25, only to find that ever single\\n>person had already left for lunch.  They left at 11:15 or so.  No one\\n>could be bothered to call me at the other building, even though my\\n>number was posted.\\n\\nThis happens to a lot of people.  Honest.  I believe it may seem\\nto be due to gross insensitivity because of the feelings you are\\ngoing through.  People in offices tend to be more insensitive while\\nworking than they normally are (maybe it's the hustle or stress or...)\\nI've had this happen to me a lot, often because they didn't realize\\nmy car was broken, etc.  Then they will come back and wonder why I\\ndidn't want to go (this would tend to make me stop being angry at\\nbeing ignored and make me laugh).  Once, we went off without our\\nboss, who was paying for the lunch :-)\\n\\n>For this\\n>reason I hope good Mr. Moderator allows me this latest indulgence.\\n\\nWell, if you can't turn to the computer for support, what would\\nwe do?  (signs of the computer age :-)\\n\\nIn closing, please don't let the hateful actions of a single person\\nharm you.  They are doing it because they are still the playground\\nbully and enjoy seeing the hurt they cause.  And you should not\\naccept the opinions of an imbecile that you are worthless - much\\nwiser people hold you in great esteem.\\n-- \\nDarin Johnson\\ndjohnson@ucsd.edu\\n  - Luxury!  In MY day, we had to make do with 5 bytes of swap...\\n\",\n",
       " 'From: s0612596@let.rug.nl (M.M. Zwart)\\nSubject: catholic church poland\\nOrganization: Faculteit der Letteren, Rijksuniversiteit Groningen, NL\\nLines: 10\\n\\nHello,\\n\\nI\\'m writing a paper on the role of the catholic church in Poland after 1989. \\nCan anyone tell me more about this, or fill me in on recent books/articles(\\nin english, german or french). Most important for me is the role of the \\nchurch concerning the abortion-law, religious education at schools,\\nbirth-control and the relation church-state(government). Thanx,\\n\\n                                                 Masja,\\n\"M.M.Zwart\"<s0612596@let.rug.nl>\\n',\n",
       " 'From: stanly@grok11.columbiasc.ncr.com (stanly)\\nSubject: Re: Elder Brother\\nOrganization: NCR Corp., Columbia SC\\nLines: 15\\n\\nIn article <Apr.8.00.57.41.1993.28246@athos.rutgers.edu> REXLEX@fnal.gov writes:\\n>In article <Apr.7.01.56.56.1993.22824@athos.rutgers.edu> shrum@hpfcso.fc.hp.com\\n>Matt. 22:9-14 \\'Go therefore to the main highways, and as many as you find\\n>there, invite to the wedding feast.\\'...\\n\\n>hmmmmmm.  Sounds like your theology and Christ\\'s are at odds. Which one am I \\n>to believe?\\n\\nIn this parable, Jesus tells the parable of the wedding feast. \"The kingdom\\nof heaven is like unto a certain king which made a marriage for his son\".\\nSo the wedding clothes were customary,  and \"given\" to those who \"chose\" to\\nattend.  This man \"refused\" to wear the clothes.  The wedding clothes are\\nequalivant to the \"clothes of righteousness\".  When Jesus died for our sins,\\nthose \"clothes\" were then provided.  Like that man, it is our decision to\\nput the clothes on.\\n']"
      ]
     },
     "execution_count": 41,
     "metadata": {},
     "output_type": "execute_result"
    }
   ],
   "source": [
    "twenty_train.data[0:5]"
   ]
  },
  {
   "cell_type": "markdown",
   "metadata": {
    "colab_type": "text",
    "id": "hTz4EaN_1WGc"
   },
   "source": [
    "### 9.  Now with dependent and independent data available for both train and test datasets, using TfidfVectorizer fit and transform the training data and test data and get the tfidf features for both"
   ]
  },
  {
   "cell_type": "code",
   "execution_count": 42,
   "metadata": {
    "colab": {},
    "colab_type": "code",
    "id": "H5G477f81C0Z"
   },
   "outputs": [],
   "source": [
    "#Preprocess the text\n",
    "import unicodedata\n",
    "import re\n",
    "from sklearn.feature_extraction.text import TfidfVectorizer"
   ]
  },
  {
   "cell_type": "code",
   "execution_count": 43,
   "metadata": {},
   "outputs": [],
   "source": [
    "def preprocess(text, remove_digits=False):\n",
    "    try:\n",
    "        pattern = r'[^a-zA-z0-9\\s]' if not remove_digits else r'[^a-zA-z\\s]'\n",
    "        removeSlash = r'[\\n\\r\\t]'\n",
    "        text = unicodedata.normalize('NFKD', text).encode('ascii', 'ignore').decode('utf-8', 'ignore')\n",
    "        text = re.sub(pattern, '', text)\n",
    "        text = re.sub(removeSlash,' ',text)\n",
    "        text = re.sub(' +', ' ', text).strip()\n",
    "        text = text.lower()\n",
    "        return text;\n",
    "    except Exception as e:\n",
    "        return \"\""
   ]
  },
  {
   "cell_type": "code",
   "execution_count": 44,
   "metadata": {},
   "outputs": [],
   "source": [
    "for index in range(len(twenty_train.data)):\n",
    "    twenty_train.data[index] = preprocess(twenty_train.data[index],True)"
   ]
  },
  {
   "cell_type": "code",
   "execution_count": 45,
   "metadata": {},
   "outputs": [],
   "source": [
    "for index in range(len(twenty_test.data)):\n",
    "    twenty_test.data[index] = preprocess(twenty_test.data[index],True)"
   ]
  },
  {
   "cell_type": "code",
   "execution_count": 46,
   "metadata": {},
   "outputs": [],
   "source": [
    "# create the transform\n",
    "Vectorizer = TfidfVectorizer()"
   ]
  },
  {
   "cell_type": "code",
   "execution_count": 47,
   "metadata": {},
   "outputs": [
    {
     "data": {
      "text/plain": [
       "TfidfVectorizer(analyzer='word', binary=False, decode_error='strict',\n",
       "        dtype=<class 'numpy.float64'>, encoding='utf-8', input='content',\n",
       "        lowercase=True, max_df=1.0, max_features=None, min_df=1,\n",
       "        ngram_range=(1, 1), norm='l2', preprocessor=None, smooth_idf=True,\n",
       "        stop_words=None, strip_accents=None, sublinear_tf=False,\n",
       "        token_pattern='(?u)\\\\b\\\\w\\\\w+\\\\b', tokenizer=None, use_idf=True,\n",
       "        vocabulary=None)"
      ]
     },
     "execution_count": 47,
     "metadata": {},
     "output_type": "execute_result"
    }
   ],
   "source": [
    "Vectorizer.fit(twenty_train.data)"
   ]
  },
  {
   "cell_type": "code",
   "execution_count": 48,
   "metadata": {},
   "outputs": [
    {
     "name": "stdout",
     "output_type": "stream",
     "text": [
      "Train IDF Features [5.54418091 5.42639788 5.25649884 ... 7.62362246 8.02908756 8.02908756]\n"
     ]
    }
   ],
   "source": [
    "print('Train IDF Features',Vectorizer.idf_)"
   ]
  },
  {
   "cell_type": "code",
   "execution_count": 49,
   "metadata": {},
   "outputs": [
    {
     "data": {
      "text/plain": [
       "TfidfVectorizer(analyzer='word', binary=False, decode_error='strict',\n",
       "        dtype=<class 'numpy.float64'>, encoding='utf-8', input='content',\n",
       "        lowercase=True, max_df=1.0, max_features=None, min_df=1,\n",
       "        ngram_range=(1, 1), norm='l2', preprocessor=None, smooth_idf=True,\n",
       "        stop_words=None, strip_accents=None, sublinear_tf=False,\n",
       "        token_pattern='(?u)\\\\b\\\\w\\\\w+\\\\b', tokenizer=None, use_idf=True,\n",
       "        vocabulary=None)"
      ]
     },
     "execution_count": 49,
     "metadata": {},
     "output_type": "execute_result"
    }
   ],
   "source": [
    "Vectorizer.fit(twenty_test.data)"
   ]
  },
  {
   "cell_type": "code",
   "execution_count": 50,
   "metadata": {},
   "outputs": [
    {
     "name": "stdout",
     "output_type": "stream",
     "text": [
      "Test IDF Features [4.73169945 5.31948612 5.05712185 ... 7.62207121 6.92892403 7.62207121]\n"
     ]
    }
   ],
   "source": [
    "print('Test IDF Features',Vectorizer.idf_)"
   ]
  },
  {
   "cell_type": "code",
   "execution_count": 51,
   "metadata": {},
   "outputs": [],
   "source": [
    "Vector = Vectorizer.transform(twenty_train.data)"
   ]
  },
  {
   "cell_type": "code",
   "execution_count": 52,
   "metadata": {},
   "outputs": [
    {
     "data": {
      "text/plain": [
       "(2257, 30672)"
      ]
     },
     "execution_count": 52,
     "metadata": {},
     "output_type": "execute_result"
    }
   ],
   "source": [
    "Vector.shape"
   ]
  },
  {
   "cell_type": "code",
   "execution_count": 53,
   "metadata": {},
   "outputs": [],
   "source": [
    "TestVector = Vectorizer.transform(twenty_test.data)"
   ]
  },
  {
   "cell_type": "code",
   "execution_count": 54,
   "metadata": {},
   "outputs": [
    {
     "data": {
      "text/plain": [
       "(1502, 30672)"
      ]
     },
     "execution_count": 54,
     "metadata": {},
     "output_type": "execute_result"
    }
   ],
   "source": [
    "TestVector.shape"
   ]
  },
  {
   "cell_type": "markdown",
   "metadata": {
    "colab_type": "text",
    "id": "tp_fDINJ1t4L"
   },
   "source": [
    "### 10. Use logisticRegression with tfidf features as input and targets as output and train the model and report the train and test accuracy score"
   ]
  },
  {
   "cell_type": "code",
   "execution_count": 55,
   "metadata": {},
   "outputs": [
    {
     "data": {
      "text/plain": [
       "['__',\n",
       " '___',\n",
       " '____',\n",
       " '_____',\n",
       " '______',\n",
       " '_______',\n",
       " '________',\n",
       " '_________',\n",
       " '__________',\n",
       " '____________',\n",
       " '_____________',\n",
       " '______________',\n",
       " '_______________',\n",
       " '________________',\n",
       " '__________________',\n",
       " '_____________________',\n",
       " '_______________________',\n",
       " '___________________________',\n",
       " '____________________________',\n",
       " '_____________________________',\n",
       " '______________________________________',\n",
       " '________________________________________________________',\n",
       " '__________________________________________________________',\n",
       " '___________________________________________________________',\n",
       " '_____________________________________________________________',\n",
       " '_______________________________________________________________',\n",
       " '________________________________________________________________',\n",
       " '__________________________________________________________________',\n",
       " '_____________________________________________________________________',\n",
       " '______________________________________________________________________',\n",
       " '__________________________________________________________________________',\n",
       " '____________________________________________________________________________',\n",
       " '_____________________________________________________________________________',\n",
       " '______________________________________________________________________________',\n",
       " '________________________________________________________________________________',\n",
       " '_______h',\n",
       " '____case',\n",
       " '___netnet_____',\n",
       " '__ccc_c_____ccc_c____chumphrecompvuwacnz______________________________',\n",
       " '__o',\n",
       " '_a',\n",
       " '_a_d_v_a_n_c_e_d',\n",
       " '_a_students_guide_to_unix',\n",
       " '_a_v_s',\n",
       " '_about_',\n",
       " '_accept_',\n",
       " '_acceptable_',\n",
       " '_act_',\n",
       " '_acta',\n",
       " '_acts',\n",
       " '_ad_',\n",
       " '_after_',\n",
       " '_against_',\n",
       " '_agapao_',\n",
       " '_all_',\n",
       " '_always_',\n",
       " '_am_',\n",
       " '_amok_',\n",
       " '_an',\n",
       " '_and_',\n",
       " '_anglican_',\n",
       " '_any_',\n",
       " '_anything_',\n",
       " '_apostates_',\n",
       " '_are_',\n",
       " '_areseonkoitai_',\n",
       " '_arren_',\n",
       " '_arsen_',\n",
       " '_arsenokoitai_',\n",
       " '_arseonkoitai_',\n",
       " '_as',\n",
       " '_assume_',\n",
       " '_assumption_',\n",
       " '_back',\n",
       " '_become_defiled_',\n",
       " '_behavior_',\n",
       " '_beliefs_',\n",
       " '_believe_',\n",
       " '_bibliotheca',\n",
       " '_blindly_',\n",
       " '_book',\n",
       " '_brains',\n",
       " '_bug_',\n",
       " '_by_all_these_',\n",
       " '_call',\n",
       " '_call_',\n",
       " '_can_',\n",
       " '_cant_',\n",
       " '_cheap_',\n",
       " '_check_',\n",
       " '_chemist_',\n",
       " '_christianity',\n",
       " '_clemetine',\n",
       " '_computer',\n",
       " '_correct_',\n",
       " '_could_',\n",
       " '_couldnt_',\n",
       " '_currently_',\n",
       " '_de',\n",
       " '_defending',\n",
       " '_did_',\n",
       " '_digital',\n",
       " '_do_',\n",
       " '_doesnt_',\n",
       " '_dont_',\n",
       " '_earth_',\n",
       " '_ecclesiastes_',\n",
       " '_ecclesiastical',\n",
       " '_eh_',\n",
       " '_email_',\n",
       " '_erao_',\n",
       " '_erastes_',\n",
       " '_ero_',\n",
       " '_eromai_',\n",
       " '_especially_',\n",
       " '_everyone_',\n",
       " '_ex',\n",
       " '_exactly_',\n",
       " '_exclusion_',\n",
       " '_exploring_internet_gopherspace_',\n",
       " '_favor_',\n",
       " '_feature_',\n",
       " '_first_',\n",
       " '_fr',\n",
       " '_free',\n",
       " '_free_',\n",
       " '_fun_',\n",
       " '_given_',\n",
       " '_good',\n",
       " '_graphics',\n",
       " '_gravitation_',\n",
       " '_hard_',\n",
       " '_hardware_',\n",
       " '_has_',\n",
       " '_hated_',\n",
       " '_have_',\n",
       " '_hellenistic_',\n",
       " '_her_',\n",
       " '_him_',\n",
       " '_historia',\n",
       " '_homo_',\n",
       " '_hyper',\n",
       " '_i_',\n",
       " '_i_s',\n",
       " '_image_',\n",
       " '_in',\n",
       " '_in_',\n",
       " '_inherent_',\n",
       " '_insinuating_',\n",
       " '_internet_gopher_',\n",
       " '_invests_',\n",
       " '_is_',\n",
       " '_islam_',\n",
       " '_itself_',\n",
       " '_james',\n",
       " '_john',\n",
       " '_journal',\n",
       " '_judging_',\n",
       " '_kimberly',\n",
       " '_know_',\n",
       " '_knowledge_',\n",
       " '_koitai_',\n",
       " '_lack',\n",
       " '_least_',\n",
       " '_lends_',\n",
       " '_lila_',\n",
       " '_love_',\n",
       " '_mans',\n",
       " '_me_',\n",
       " '_methusoi_',\n",
       " '_mikra_',\n",
       " '_more_',\n",
       " '_mormonism',\n",
       " '_muhammad',\n",
       " '_must',\n",
       " '_must_',\n",
       " '_my',\n",
       " '_necessarily_',\n",
       " '_necessity_',\n",
       " '_need_',\n",
       " '_never_',\n",
       " '_no_',\n",
       " '_not_',\n",
       " '_o_p_e_n',\n",
       " '_one_',\n",
       " '_one_of_which_',\n",
       " '_only_',\n",
       " '_orientation_',\n",
       " '_p_r_e_s_e_n_t_a_t_i_o_n',\n",
       " '_p_u_b_l_i_c',\n",
       " '_per',\n",
       " '_pexlib_programming_manual_',\n",
       " '_physics_',\n",
       " '_pleonektai_',\n",
       " '_porneia_',\n",
       " '_possibility_',\n",
       " '_procedural',\n",
       " '_proven_',\n",
       " '_question',\n",
       " '_read_',\n",
       " '_real_',\n",
       " '_really_',\n",
       " '_reason_',\n",
       " '_redemptive_',\n",
       " '_refutation_',\n",
       " '_right_',\n",
       " '_s_o_f_t_w_a_r_e',\n",
       " '_s_p_e_a_k_e_r_s',\n",
       " '_s_y_s_t_e_m_s',\n",
       " '_satanic',\n",
       " '_scott_',\n",
       " '_seemed',\n",
       " '_seen_',\n",
       " '_societally_',\n",
       " '_sola',\n",
       " '_some_',\n",
       " '_someone',\n",
       " '_something_',\n",
       " '_surprised',\n",
       " '_t_h_e',\n",
       " '_t_h_i_s',\n",
       " '_t_o',\n",
       " '_tcpip_network_administration_',\n",
       " '_temple',\n",
       " '_the',\n",
       " '_the_internet_gopher_',\n",
       " '_the_internet_gopher_protocol_',\n",
       " '_the_internet_passport',\n",
       " '_the_transcedental_temptation_',\n",
       " '_the_two_babylons_',\n",
       " '_the_whole_internet_',\n",
       " '_things_',\n",
       " '_tools_help_internet_users_discover_online_treasures',\n",
       " '_tsv_',\n",
       " '_v_i_s_u_a_l',\n",
       " '_very_',\n",
       " '_via',\n",
       " '_vita',\n",
       " '_was_',\n",
       " '_weak_',\n",
       " '_were_',\n",
       " '_whines_',\n",
       " '_will_',\n",
       " '_with',\n",
       " '_wrong_',\n",
       " '_xkoitai_',\n",
       " '_you',\n",
       " '_you_',\n",
       " '_your_',\n",
       " '_youre_',\n",
       " '_yourself_',\n",
       " '_zen_and_the_art_of_motorcycle_maintenance_',\n",
       " 'a_valid_return_email_address',\n",
       " 'aa',\n",
       " 'aaaahhh',\n",
       " 'aaai',\n",
       " 'aaauuugggghhhhh',\n",
       " 'aadpwcom',\n",
       " 'aadscrsiemenscom',\n",
       " 'aaenetgwpadeccom',\n",
       " 'aagain',\n",
       " 'aaghzsheintegralstavropolsu',\n",
       " 'aah',\n",
       " 'aaj',\n",
       " 'aalong',\n",
       " 'aam',\n",
       " 'aanerud',\n",
       " 'aap',\n",
       " 'aaplay',\n",
       " 'aarguing',\n",
       " 'aarhus',\n",
       " 'aario',\n",
       " 'aarnet',\n",
       " 'aarnetinternetdgoddenstnepeanusweduau',\n",
       " 'aaron',\n",
       " 'aaronbinahccbrandeisedu',\n",
       " 'aaroncathenamitedu',\n",
       " 'aaronhmksoldsegticom',\n",
       " 'aaronminsteryorkacuk',\n",
       " 'aaseastarseashell',\n",
       " 'aasunnlnluugnl',\n",
       " 'aatdb',\n",
       " 'aatherosepdxcom',\n",
       " 'aawin',\n",
       " 'ab',\n",
       " 'ababcababc',\n",
       " 'abandon',\n",
       " 'abandoned',\n",
       " 'abandoning',\n",
       " 'abandonment',\n",
       " 'abandons',\n",
       " 'abate',\n",
       " 'abatement',\n",
       " 'abbot',\n",
       " 'abbott',\n",
       " 'abbreviation',\n",
       " 'abbreviations',\n",
       " 'abcarlsonlarcnasagov',\n",
       " 'abdelmalek',\n",
       " 'abdicate',\n",
       " 'abdomen',\n",
       " 'abdominal',\n",
       " 'abducted',\n",
       " 'abecause',\n",
       " 'abel',\n",
       " 'aberdeen',\n",
       " 'aberrant',\n",
       " 'aberration',\n",
       " 'abfp',\n",
       " 'abfreenetcarletonca',\n",
       " 'abhgenesisnredmaus',\n",
       " 'abhor',\n",
       " 'abhorrent',\n",
       " 'abhors',\n",
       " 'abide',\n",
       " 'abiding',\n",
       " 'abig',\n",
       " 'abignetcomcom',\n",
       " 'abilities',\n",
       " 'ability',\n",
       " 'abilty',\n",
       " 'abingdon',\n",
       " 'abiogenesis',\n",
       " 'abject',\n",
       " 'able',\n",
       " 'ablein',\n",
       " 'ables',\n",
       " 'ablex',\n",
       " 'abnormal',\n",
       " 'abnormalities',\n",
       " 'abolition',\n",
       " 'abominable',\n",
       " 'abomination',\n",
       " 'abominations',\n",
       " 'abort',\n",
       " 'abortion',\n",
       " 'abortionists',\n",
       " 'abortions',\n",
       " 'abound',\n",
       " 'about',\n",
       " 'aboutthisissue',\n",
       " 'above',\n",
       " 'above_',\n",
       " 'abovementioned',\n",
       " 'abpsoft',\n",
       " 'abrahae',\n",
       " 'abraham',\n",
       " 'abramlike',\n",
       " 'abrams',\n",
       " 'abridged',\n",
       " 'abroad',\n",
       " 'abrodnikwatdragonuwaterlooca',\n",
       " 'abrogated',\n",
       " 'abrogating',\n",
       " 'abrogator',\n",
       " 'abrunoadobe',\n",
       " 'abruptly',\n",
       " 'abs',\n",
       " 'abscensesp',\n",
       " 'abscent',\n",
       " 'absence',\n",
       " 'absense',\n",
       " 'absent',\n",
       " 'absolute',\n",
       " 'absoluteand',\n",
       " 'absolutely',\n",
       " 'absoluteness',\n",
       " 'absoluterelative',\n",
       " 'absolutes',\n",
       " 'absolutism',\n",
       " 'absolutist',\n",
       " 'absolutly',\n",
       " 'absorbed',\n",
       " 'absorbtion',\n",
       " 'absorption',\n",
       " 'abstact',\n",
       " 'abstacted',\n",
       " 'abstain',\n",
       " 'abstaining',\n",
       " 'abstinence',\n",
       " 'abstract',\n",
       " 'abstracted',\n",
       " 'abstracts',\n",
       " 'abstractu_',\n",
       " 'abstruse',\n",
       " 'absurd',\n",
       " 'absurdities',\n",
       " 'abu',\n",
       " 'abundance',\n",
       " 'abundant',\n",
       " 'abundantly',\n",
       " 'abuse',\n",
       " 'abused',\n",
       " 'abuseheaping',\n",
       " 'abusers',\n",
       " 'abuses',\n",
       " 'abusing',\n",
       " 'abusive',\n",
       " 'abysmal',\n",
       " 'ac',\n",
       " 'acadalaskaedu',\n",
       " 'academia',\n",
       " 'academic',\n",
       " 'academically',\n",
       " 'academicscientific',\n",
       " 'academy',\n",
       " 'acadia',\n",
       " 'acadmic',\n",
       " 'acapella',\n",
       " 'accasterixinescnpt',\n",
       " 'acceding',\n",
       " 'accelerate',\n",
       " 'accelerated',\n",
       " 'accelerator',\n",
       " 'accent',\n",
       " 'accepit',\n",
       " 'accept',\n",
       " 'accepta',\n",
       " 'acceptabilem',\n",
       " 'acceptabilemque',\n",
       " 'acceptability',\n",
       " 'acceptable',\n",
       " 'acceptably',\n",
       " 'acceptance',\n",
       " 'acceptancerejection',\n",
       " 'acceptances',\n",
       " 'accepted',\n",
       " 'acceptible',\n",
       " 'accepting',\n",
       " 'accepts',\n",
       " 'accesible',\n",
       " 'access',\n",
       " 'accessbus',\n",
       " 'accessed',\n",
       " 'accessible',\n",
       " 'accessing',\n",
       " 'accession',\n",
       " 'accessories',\n",
       " 'acchilles',\n",
       " 'accident',\n",
       " 'accidentally',\n",
       " 'accidently',\n",
       " 'accidents',\n",
       " 'accinaddrarpa',\n",
       " 'accipiens',\n",
       " 'accipite',\n",
       " 'accommodate',\n",
       " 'accommodation',\n",
       " 'accommodations',\n",
       " 'accomodatefacilitate',\n",
       " 'accomodation',\n",
       " 'accompanied',\n",
       " 'accompany',\n",
       " 'accompanying',\n",
       " 'accomplices',\n",
       " 'accomplish',\n",
       " 'accomplished',\n",
       " 'accomplishing',\n",
       " 'accomplishments',\n",
       " 'accord',\n",
       " 'accordance',\n",
       " 'according',\n",
       " 'accordingly',\n",
       " 'account',\n",
       " 'account_',\n",
       " 'accountability',\n",
       " 'accountable',\n",
       " 'accountants',\n",
       " 'accounted',\n",
       " 'accounting',\n",
       " 'accounts',\n",
       " 'accpeting',\n",
       " 'accpets',\n",
       " 'accredited',\n",
       " 'accreted',\n",
       " 'acct',\n",
       " 'accumulate',\n",
       " 'accumulation',\n",
       " 'accuracy',\n",
       " 'accurate',\n",
       " 'accurately',\n",
       " 'accusation',\n",
       " 'accusations',\n",
       " 'accuse',\n",
       " 'accused',\n",
       " 'accuser',\n",
       " 'accusing',\n",
       " 'accustomed',\n",
       " 'acdc',\n",
       " 'acedb',\n",
       " 'acegr',\n",
       " 'acellular',\n",
       " 'acess',\n",
       " 'acetaminophen',\n",
       " 'acetic',\n",
       " 'acetylcholine',\n",
       " 'acfreenetcarletonca',\n",
       " 'ached',\n",
       " 'achieve',\n",
       " 'achieved',\n",
       " 'achievement',\n",
       " 'achievements',\n",
       " 'achieves',\n",
       " 'achieving',\n",
       " 'achilles',\n",
       " 'achim',\n",
       " 'achive',\n",
       " 'acid',\n",
       " 'acidic',\n",
       " 'acidophilus',\n",
       " 'acids',\n",
       " 'acip',\n",
       " 'acis',\n",
       " 'acknosledge',\n",
       " 'acknowedged',\n",
       " 'acknowledge',\n",
       " 'acknowledged',\n",
       " 'acknowledgement',\n",
       " 'acknowledges',\n",
       " 'acknowledging',\n",
       " 'acknowledgment',\n",
       " 'aclus',\n",
       " 'acm',\n",
       " 'acmhelpacmvmbitnet',\n",
       " 'acmsiggraph',\n",
       " 'acne',\n",
       " 'acns',\n",
       " 'acog',\n",
       " 'acoopermacalstredu',\n",
       " 'acoopermacccmacalstredu',\n",
       " 'acoording',\n",
       " 'acorn',\n",
       " 'acquaintace',\n",
       " 'acquaintance',\n",
       " 'acquainted',\n",
       " 'acquire',\n",
       " 'acquired',\n",
       " 'acquiring',\n",
       " 'acquise',\n",
       " 'acquisition',\n",
       " 'acre',\n",
       " 'across',\n",
       " 'acs',\n",
       " 'acsacsucalgaryca',\n",
       " 'acscpsmsuedu',\n",
       " 'act',\n",
       " 'acta',\n",
       " 'actaully',\n",
       " 'acted',\n",
       " 'acthib',\n",
       " 'acting',\n",
       " 'action',\n",
       " 'actions',\n",
       " 'activated',\n",
       " 'activation',\n",
       " 'active',\n",
       " 'actively',\n",
       " 'activetreatment',\n",
       " 'activism',\n",
       " 'activists',\n",
       " 'activites',\n",
       " 'activities',\n",
       " 'activity',\n",
       " 'actor',\n",
       " 'actress',\n",
       " 'actrix',\n",
       " 'acts',\n",
       " 'actual',\n",
       " 'actuality',\n",
       " 'actually',\n",
       " 'actuators',\n",
       " 'actup',\n",
       " 'actute',\n",
       " 'acurate',\n",
       " 'acute',\n",
       " 'ad',\n",
       " 'ada',\n",
       " 'adage',\n",
       " 'adam',\n",
       " 'adamant',\n",
       " 'adams',\n",
       " 'adamsjgtewdmtvgtegsccom',\n",
       " 'adamski',\n",
       " 'adapatation',\n",
       " 'adaptation',\n",
       " 'adapted',\n",
       " 'adapter',\n",
       " 'adapters',\n",
       " 'adaptive',\n",
       " 'adaptivecsnpsnavymil',\n",
       " 'adapts',\n",
       " 'adbfoskispsmotcom',\n",
       " 'adcatde',\n",
       " 'add',\n",
       " 'adda',\n",
       " 'added',\n",
       " 'adders',\n",
       " 'addict',\n",
       " 'addicted',\n",
       " 'addiction',\n",
       " 'addicts',\n",
       " 'adding',\n",
       " 'addisonwesley',\n",
       " 'addition',\n",
       " 'additional',\n",
       " 'additionally',\n",
       " 'additions',\n",
       " 'additionscorrectionssuggestions',\n",
       " 'additive',\n",
       " 'additives',\n",
       " 'addon',\n",
       " 'addons',\n",
       " 'address',\n",
       " 'addressed',\n",
       " 'addresses',\n",
       " 'addressing',\n",
       " 'adds',\n",
       " 'addsciencessdsuedu',\n",
       " 'adduced',\n",
       " 'adeguzmanuiucedu',\n",
       " 'adelaide',\n",
       " 'adenocarcinoma',\n",
       " 'adequate',\n",
       " 'adequately',\n",
       " 'adhear',\n",
       " 'adher',\n",
       " 'adhere',\n",
       " 'adhered',\n",
       " 'adherence',\n",
       " 'adherents',\n",
       " 'adheres',\n",
       " 'adhoc',\n",
       " 'adjacent',\n",
       " 'adjectival',\n",
       " 'adjective',\n",
       " 'adjust',\n",
       " 'adjusted',\n",
       " 'adjusting',\n",
       " 'adjustment',\n",
       " 'adjustments',\n",
       " 'adjuvant',\n",
       " 'adler',\n",
       " 'admas',\n",
       " 'admin',\n",
       " 'administator',\n",
       " 'administer',\n",
       " 'administered',\n",
       " 'administering',\n",
       " 'administration',\n",
       " 'administrations',\n",
       " 'administrator',\n",
       " 'administrators',\n",
       " 'admirable',\n",
       " 'admiration',\n",
       " 'admire',\n",
       " 'admired',\n",
       " 'admission',\n",
       " 'admissions',\n",
       " 'admit',\n",
       " 'admitedly',\n",
       " 'admits',\n",
       " 'admitt',\n",
       " 'admitted',\n",
       " 'admittedly',\n",
       " 'admitting',\n",
       " 'admonish',\n",
       " 'admonitions',\n",
       " 'adobe',\n",
       " 'adolescent',\n",
       " 'adolescents',\n",
       " 'adonai',\n",
       " 'adopt',\n",
       " 'adopted',\n",
       " 'adoptees',\n",
       " 'adoption',\n",
       " 'adorn',\n",
       " 'adorned',\n",
       " 'adp',\n",
       " 'adpeterssunflowerbioindianaedu',\n",
       " 'adpro',\n",
       " 'adrenal',\n",
       " 'adresses',\n",
       " 'adrg',\n",
       " 'adrgzip',\n",
       " 'adrian',\n",
       " 'adrobotbobsboxrentcom',\n",
       " 'ads',\n",
       " 'adscom',\n",
       " 'adscompubvisionlistarchivesharewarelaboimage_tarz',\n",
       " 'adscriptam',\n",
       " 'adssycommiorg',\n",
       " 'adulation',\n",
       " 'adult',\n",
       " 'adultadult',\n",
       " 'adultary',\n",
       " 'adulterers',\n",
       " 'adulteress',\n",
       " 'adulteresses',\n",
       " 'adulteries',\n",
       " 'adulterous',\n",
       " 'adultery',\n",
       " 'adultry',\n",
       " 'adults',\n",
       " 'advace',\n",
       " 'advacned',\n",
       " 'advance',\n",
       " 'advanced',\n",
       " 'advancement',\n",
       " 'advances',\n",
       " 'advancing',\n",
       " 'advantage',\n",
       " 'advantageous',\n",
       " 'advantages',\n",
       " 'advantagous',\n",
       " 'advent',\n",
       " 'adventerous',\n",
       " 'adventist',\n",
       " 'adventure',\n",
       " 'adventures',\n",
       " 'adveritisement',\n",
       " 'adversaries',\n",
       " 'adverse',\n",
       " 'adversely',\n",
       " 'advertised',\n",
       " 'advertisement',\n",
       " 'advertising',\n",
       " 'advice',\n",
       " 'advices',\n",
       " 'advisability',\n",
       " 'advisable',\n",
       " 'advise',\n",
       " 'advised',\n",
       " 'adviser',\n",
       " 'advises',\n",
       " 'advising',\n",
       " 'advisor',\n",
       " 'advisors',\n",
       " 'advisory',\n",
       " 'advocacy',\n",
       " 'advocate',\n",
       " 'advocated',\n",
       " 'advocates',\n",
       " 'advocating',\n",
       " 'advocator',\n",
       " 'adwrightiastateedu',\n",
       " 'ae',\n",
       " 'aeainaddrarpa',\n",
       " 'aefreenetcarletonca',\n",
       " 'aegeetilburg',\n",
       " 'aeons',\n",
       " 'aerial',\n",
       " 'aerienne',\n",
       " 'aero',\n",
       " 'aerobic',\n",
       " 'aerospace',\n",
       " 'aerospaceaeroorg',\n",
       " 'aesthetic',\n",
       " 'aesthetics',\n",
       " 'aeta',\n",
       " 'aeternae',\n",
       " 'aeterne',\n",
       " 'aeterni',\n",
       " 'aetiology',\n",
       " 'aezpetedejavuaissuiucedu',\n",
       " 'afanhrobotsgsfcnasagov',\n",
       " 'afclevelandfreenetedu',\n",
       " 'afd',\n",
       " 'affair',\n",
       " 'affairs',\n",
       " 'affect',\n",
       " 'affected',\n",
       " 'affecting',\n",
       " 'affection',\n",
       " 'affectional',\n",
       " 'affects',\n",
       " 'affiliated',\n",
       " 'affiliation',\n",
       " 'affilliated',\n",
       " 'affine',\n",
       " 'affinity',\n",
       " 'affirm',\n",
       " 'affirmation',\n",
       " 'affirmative',\n",
       " 'affirmed',\n",
       " 'affirms',\n",
       " 'afflict',\n",
       " 'afflicted',\n",
       " 'affliction',\n",
       " 'afflictions',\n",
       " 'affluent',\n",
       " 'afford',\n",
       " 'affordable',\n",
       " 'afforded',\n",
       " 'affrighted',\n",
       " 'afghanistan',\n",
       " 'aflatoxin',\n",
       " 'aflcio',\n",
       " 'afluence',\n",
       " 'aflyin',\n",
       " 'afraid',\n",
       " 'africa',\n",
       " 'african',\n",
       " 'africanamericans',\n",
       " 'africans',\n",
       " 'africas',\n",
       " 'afrika',\n",
       " 'afrique',\n",
       " 'afscme',\n",
       " 'afsrndsascomushermanpovpovsrcbuildpovray',\n",
       " 'after',\n",
       " 'afterlife',\n",
       " 'afternoon',\n",
       " 'afterthought',\n",
       " 'afterwards',\n",
       " 'afyfnysuedu',\n",
       " 'ag',\n",
       " 'again',\n",
       " 'against',\n",
       " 'agatechedu',\n",
       " 'agbmbucbiocamacuk',\n",
       " 'age',\n",
       " 'aged',\n",
       " 'ageing',\n",
       " 'agencies',\n",
       " 'agency',\n",
       " 'agencys',\n",
       " 'agenda',\n",
       " 'agens',\n",
       " 'agent',\n",
       " 'agents',\n",
       " 'agerelated',\n",
       " 'agers',\n",
       " 'ages',\n",
       " 'agestino',\n",
       " 'agfa',\n",
       " 'aggravated',\n",
       " 'aggravating',\n",
       " 'aggregationagglutination',\n",
       " 'aggressive',\n",
       " 'aggressivedont',\n",
       " 'aggressively',\n",
       " 'aggressor',\n",
       " 'aggressors',\n",
       " 'agianst',\n",
       " 'aging',\n",
       " 'agitation',\n",
       " 'agnostic',\n",
       " 'agnosticism',\n",
       " 'agnosticismweak',\n",
       " 'agnostics',\n",
       " 'agnosticthinkingofbecominga',\n",
       " 'ago',\n",
       " 'agonizing',\n",
       " 'agony',\n",
       " 'agothree',\n",
       " 'agramailamdahlcom',\n",
       " 'agrarian',\n",
       " 'agrcccamdahlcom',\n",
       " 'agree',\n",
       " 'agreed',\n",
       " 'agreeing',\n",
       " 'agreement',\n",
       " 'agreementlove',\n",
       " 'agrees',\n",
       " 'agressive',\n",
       " 'agricultural',\n",
       " 'agriculture',\n",
       " 'agrigulture',\n",
       " 'agrinoenkidumiccl',\n",
       " 'agrjutscccamdahlcom',\n",
       " 'aground',\n",
       " 'agry',\n",
       " 'agumentative',\n",
       " 'ah',\n",
       " 'ahave',\n",
       " 'ahead',\n",
       " 'ahmad',\n",
       " 'ahmadi',\n",
       " 'ahmadiyya',\n",
       " 'ahold',\n",
       " 'ahpcrc',\n",
       " 'ai',\n",
       " 'aid',\n",
       " 'aided',\n",
       " 'aiding',\n",
       " 'aidlersoluvicca',\n",
       " 'aids',\n",
       " 'aidsdefining',\n",
       " 'aidsrelated',\n",
       " 'aiken',\n",
       " 'aikennewsncsuedu',\n",
       " 'aikenunityncsuedu',\n",
       " 'ailment',\n",
       " 'ailments',\n",
       " 'ails',\n",
       " 'aim',\n",
       " 'aimed',\n",
       " 'aiming',\n",
       " 'aims',\n",
       " 'aingen',\n",
       " 'aint',\n",
       " 'aipd',\n",
       " 'aips',\n",
       " 'aipsmailnraoedu',\n",
       " 'air',\n",
       " 'airborne',\n",
       " 'aircraft',\n",
       " 'aircraftsports',\n",
       " 'aired',\n",
       " 'airforce',\n",
       " 'airline',\n",
       " 'airmailing',\n",
       " 'airplanes',\n",
       " 'airport',\n",
       " 'airportscities',\n",
       " 'airticket',\n",
       " 'airtickets',\n",
       " 'airwaves',\n",
       " 'airway',\n",
       " 'aisunaiugaedu',\n",
       " 'aix',\n",
       " 'ajagalenmedvirginiaedu',\n",
       " 'ajrbigbirdhricom',\n",
       " 'ajw',\n",
       " 'ak',\n",
       " 'aka',\n",
       " 'akademi',\n",
       " 'akbar',\n",
       " 'akfstudhsnno',\n",
       " 'akiernanfalcondemoncouk',\n",
       " 'akin',\n",
       " 'akita',\n",
       " 'akman',\n",
       " 'aktuell',\n",
       " 'al',\n",
       " 'ala',\n",
       " 'alabama',\n",
       " 'alacademmtyitesmmx',\n",
       " 'alacoque',\n",
       " 'alaikum',\n",
       " 'alan',\n",
       " 'alanbarclayalmaccouk',\n",
       " 'alanberlioznsccom',\n",
       " 'alanlancasternsccom',\n",
       " 'alanmeficom',\n",
       " 'alanolsenpfnzfidonetorg',\n",
       " 'alansaturncsswinozau',\n",
       " 'alarm',\n",
       " 'alarming',\n",
       " 'alarmingly',\n",
       " 'alaska',\n",
       " 'alaskan',\n",
       " 'albania',\n",
       " 'albanie',\n",
       " 'albany',\n",
       " 'albedo',\n",
       " 'albeit',\n",
       " 'albert',\n",
       " 'alberta',\n",
       " 'alberto',\n",
       " 'albicans',\n",
       " 'albumin',\n",
       " 'albuquerque',\n",
       " 'albuterol',\n",
       " 'alchemy',\n",
       " 'alcholism',\n",
       " 'alcohol',\n",
       " 'alcoholics',\n",
       " 'alcoholism',\n",
       " 'alcoholretinol',\n",
       " 'aldehyde',\n",
       " 'aldosterone',\n",
       " 'aldridge',\n",
       " 'aldridgenetcomcom',\n",
       " 'aldus',\n",
       " 'alehtoricctutfi',\n",
       " 'aleksander',\n",
       " 'alert',\n",
       " 'alerting',\n",
       " 'alex',\n",
       " 'alexander',\n",
       " 'alexandria',\n",
       " 'alexandrian',\n",
       " 'alexandrians',\n",
       " 'alexfalcondemoncouk',\n",
       " 'alexvusevanderbiltedu',\n",
       " 'alflatoxin',\n",
       " 'alfonso',\n",
       " 'alford',\n",
       " 'alfordnovavaxnovaedu',\n",
       " 'alfordnovavaxuucp',\n",
       " 'alfred',\n",
       " 'alfredccscarletonca',\n",
       " 'algebra',\n",
       " 'algebraic',\n",
       " 'algeria',\n",
       " 'algerie',\n",
       " 'algorithm',\n",
       " 'algorithmic',\n",
       " 'algorithmically',\n",
       " ...]"
      ]
     },
     "execution_count": 55,
     "metadata": {},
     "output_type": "execute_result"
    }
   ],
   "source": [
    "x_names = Vectorizer.get_feature_names()\n",
    "x_names"
   ]
  },
  {
   "cell_type": "code",
   "execution_count": 56,
   "metadata": {},
   "outputs": [],
   "source": [
    "x_TrainVector = pd.DataFrame(Vector.toarray(),columns=x_names)"
   ]
  },
  {
   "cell_type": "code",
   "execution_count": 57,
   "metadata": {},
   "outputs": [
    {
     "data": {
      "text/plain": [
       "(2257, 30672)"
      ]
     },
     "execution_count": 57,
     "metadata": {},
     "output_type": "execute_result"
    }
   ],
   "source": [
    "x_TrainVector.shape"
   ]
  },
  {
   "cell_type": "code",
   "execution_count": 58,
   "metadata": {},
   "outputs": [],
   "source": [
    "x_TestVector = pd.DataFrame(TestVector.toarray(),columns=x_names)"
   ]
  },
  {
   "cell_type": "code",
   "execution_count": 59,
   "metadata": {},
   "outputs": [
    {
     "data": {
      "text/plain": [
       "(1502, 30672)"
      ]
     },
     "execution_count": 59,
     "metadata": {},
     "output_type": "execute_result"
    }
   ],
   "source": [
    "x_TestVector.shape"
   ]
  },
  {
   "cell_type": "code",
   "execution_count": 60,
   "metadata": {},
   "outputs": [],
   "source": [
    "y_train = twenty_train.target"
   ]
  },
  {
   "cell_type": "code",
   "execution_count": 61,
   "metadata": {},
   "outputs": [],
   "source": [
    "y_test = twenty_test.target"
   ]
  },
  {
   "cell_type": "code",
   "execution_count": 62,
   "metadata": {},
   "outputs": [],
   "source": [
    "from sklearn.linear_model import LogisticRegression"
   ]
  },
  {
   "cell_type": "code",
   "execution_count": 63,
   "metadata": {},
   "outputs": [],
   "source": [
    "LRmodel = LogisticRegression()"
   ]
  },
  {
   "cell_type": "code",
   "execution_count": 64,
   "metadata": {},
   "outputs": [
    {
     "name": "stderr",
     "output_type": "stream",
     "text": [
      "C:\\ProgramData\\Anaconda3\\lib\\site-packages\\sklearn\\linear_model\\logistic.py:433: FutureWarning: Default solver will be changed to 'lbfgs' in 0.22. Specify a solver to silence this warning.\n",
      "  FutureWarning)\n",
      "C:\\ProgramData\\Anaconda3\\lib\\site-packages\\sklearn\\linear_model\\logistic.py:460: FutureWarning: Default multi_class will be changed to 'auto' in 0.22. Specify the multi_class option to silence this warning.\n",
      "  \"this warning.\", FutureWarning)\n"
     ]
    },
    {
     "data": {
      "text/plain": [
       "LogisticRegression(C=1.0, class_weight=None, dual=False, fit_intercept=True,\n",
       "          intercept_scaling=1, max_iter=100, multi_class='warn',\n",
       "          n_jobs=None, penalty='l2', random_state=None, solver='warn',\n",
       "          tol=0.0001, verbose=0, warm_start=False)"
      ]
     },
     "execution_count": 64,
     "metadata": {},
     "output_type": "execute_result"
    }
   ],
   "source": [
    "LRmodel.fit(x_TrainVector, y_train)"
   ]
  },
  {
   "cell_type": "code",
   "execution_count": 65,
   "metadata": {},
   "outputs": [
    {
     "name": "stdout",
     "output_type": "stream",
     "text": [
      "Training accuracy: 0.9818342933097032\n"
     ]
    }
   ],
   "source": [
    "print('Training accuracy:',LRmodel.score(x_TrainVector, y_train))"
   ]
  },
  {
   "cell_type": "code",
   "execution_count": 66,
   "metadata": {},
   "outputs": [
    {
     "name": "stdout",
     "output_type": "stream",
     "text": [
      "Test accuracy: 0.8621837549933422\n"
     ]
    }
   ],
   "source": [
    "print('Test accuracy:',LRmodel.score(x_TestVector,y_test))"
   ]
  }
 ],
 "metadata": {
  "colab": {
   "collapsed_sections": [],
   "name": "R8_External_Lab_Questions.ipynb",
   "provenance": [],
   "version": "0.3.2"
  },
  "kernelspec": {
   "display_name": "Python 3",
   "language": "python",
   "name": "python3"
  },
  "language_info": {
   "codemirror_mode": {
    "name": "ipython",
    "version": 3
   },
   "file_extension": ".py",
   "mimetype": "text/x-python",
   "name": "python",
   "nbconvert_exporter": "python",
   "pygments_lexer": "ipython3",
   "version": "3.7.1"
  }
 },
 "nbformat": 4,
 "nbformat_minor": 1
}
